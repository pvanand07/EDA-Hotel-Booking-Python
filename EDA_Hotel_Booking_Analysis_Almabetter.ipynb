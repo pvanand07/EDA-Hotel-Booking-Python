{
  "cells": [
    {
      "cell_type": "markdown",
      "metadata": {
        "id": "view-in-github",
        "colab_type": "text"
      },
      "source": [
        "<a href=\"https://colab.research.google.com/github/pvanand07/EDA-Hotel-Booking-Python/blob/master/EDA_Hotel_Booking_Analysis_Almabetter.ipynb\" target=\"_parent\"><img src=\"https://colab.research.google.com/assets/colab-badge.svg\" alt=\"Open In Colab\"/></a>"
      ]
    },
    {
      "cell_type": "markdown",
      "metadata": {
        "id": "vncDsAP0Gaoa"
      },
      "source": [
        "# **Project Name**    -    **Hotel Booking Analysis** \n",
        "\n"
      ]
    },
    {
      "cell_type": "markdown",
      "metadata": {
        "id": "beRrZCGUAJYm"
      },
      "source": [
        "##### **Project Type**    - EDA\n",
        "##### **Contribution**    - Individual\n",
        "##### **Submitted By**    - Anand Siva P V  \n"
      ]
    },
    {
      "cell_type": "markdown",
      "metadata": {
        "id": "FJNUwmbgGyua"
      },
      "source": [
        "# **Project Summary -**"
      ]
    },
    {
      "cell_type": "markdown",
      "metadata": {
        "id": "F6v_1wHtG2nS"
      },
      "source": [
        "This project aims to conduct an exploratory data analysis (EDA) on a dataset of hotel bookings to gain insights on booking patterns and customer behaviour. The analysis will focus on dentifying patterns in bookings and cancellations, customer demographics and preferences, and the effectiveness of different distribution channels.\\\n",
        "The dataset used for this project is available [here](https://drive.google.com/file/d/1C9AxF9fcVzMw0Bgs0NaRrNML2WwX1Ehm/view).\\\n",
        " [Built using jupyter notebook and Python 3]"
      ]
    },
    {
      "cell_type": "markdown",
      "metadata": {
        "id": "w6K7xa23Elo4"
      },
      "source": [
        "# **GitHub Link -**"
      ]
    },
    {
      "cell_type": "markdown",
      "metadata": {
        "id": "h1o69JH3Eqqn"
      },
      "source": [
        "https://github.com/pvanand07/EDA-Hotel-Booking-Python/blob/master/EDA_Hotel_Booking_Analysis_Almabetter.ipynb"
      ]
    },
    {
      "cell_type": "markdown",
      "source": [
        "# **Presentation Link -**"
      ],
      "metadata": {
        "id": "pflJQ4LMt6t5"
      }
    },
    {
      "cell_type": "markdown",
      "source": [],
      "metadata": {
        "id": "zQHATM3luFXG"
      }
    },
    {
      "cell_type": "markdown",
      "metadata": {
        "id": "yQaldy8SH6Dl"
      },
      "source": [
        "# **Problem Statement**\n"
      ]
    },
    {
      "cell_type": "markdown",
      "metadata": {
        "id": "DpeJGUA3kjGy"
      },
      "source": [
        "Have you ever wondered when the best time of year to book a hotel room is? Or the optimal length of stay in order to get the best daily rate? What if you wanted to predict whether or not a hotel was likely to receive a disproportionately high number of special requests? This hotel booking dataset can help you explore those questions! This data set contains booking information for a city hotel and a resort hotel, and includes information such as when the booking was made, length of stay, the number of adults, children, and/or babies, and the number of available parking spaces, among other things. All personally identifying information has been removed from the data. Explore and analyse the data to discover important factors that govern the bookings."
      ]
    },
    {
      "cell_type": "markdown",
      "metadata": {
        "id": "PH-0ReGfmX4f"
      },
      "source": [
        "#### **Define Your Business Objective?**"
      ]
    },
    {
      "cell_type": "markdown",
      "metadata": {
        "id": "PhDvGCAqmjP1"
      },
      "source": [
        " The business objectives that this project tries to achieve are \n",
        "- To gain a comprehensive understanding of booking patterns and customer behavior \n",
        "- Understand which amenities and services are most popular among guests\n",
        "- Determine key drivers of occupancy, revenue, and customer satisfaction\n",
        "- Form strategies for increasing occupancy, revenue and customer satisfaction."
      ]
    },
    {
      "cell_type": "markdown",
      "metadata": {
        "id": "O_i_v8NEhb9l"
      },
      "source": [
        "# ***Let's Begin !***"
      ]
    },
    {
      "cell_type": "markdown",
      "metadata": {
        "id": "HhfV-JJviCcP"
      },
      "source": [
        "## ***1. Know Your Data***"
      ]
    },
    {
      "cell_type": "markdown",
      "metadata": {
        "id": "Y3lxredqlCYt"
      },
      "source": [
        "### Import Libraries"
      ]
    },
    {
      "cell_type": "code",
      "execution_count": null,
      "metadata": {
        "id": "M8Vqi-pPk-HR"
      },
      "outputs": [],
      "source": [
        "# Import Libraries\n",
        "import pandas as pd\n",
        "import numpy as np\n",
        "import matplotlib.pyplot as plt\n",
        "import seaborn as sns\n",
        "from scipy.stats import zscore"
      ]
    },
    {
      "cell_type": "markdown",
      "metadata": {
        "id": "3RnN4peoiCZX"
      },
      "source": [
        "### Dataset Loading"
      ]
    },
    {
      "cell_type": "code",
      "execution_count": null,
      "metadata": {
        "id": "4CkvbW_SlZ_R"
      },
      "outputs": [],
      "source": [
        "# Try to load dataset if it is on local directory\n",
        "try:\n",
        "    dataset = pd.read_csv(\"Hotel Bookings.csv\")\n",
        "# Else mount and load from google drive - Only for google colab\n",
        "except:\n",
        "    from google.colab import drive\n",
        "    drive.mount('/content/drive')\n",
        "    dataset = pd.read_csv('/content/drive/MyDrive/Almabetter Projects/Hotel Booking/Hotel Bookings.csv')"
      ]
    },
    {
      "cell_type": "markdown",
      "metadata": {
        "id": "x71ZqKXriCWQ"
      },
      "source": [
        "### Dataset First View"
      ]
    },
    {
      "cell_type": "code",
      "execution_count": null,
      "metadata": {
        "id": "LWNFOSvLl09H"
      },
      "outputs": [],
      "source": [
        "# Dataset First Look- Top 4 rows\n",
        "dataset.head(4).T"
      ]
    },
    {
      "cell_type": "code",
      "execution_count": null,
      "metadata": {
        "id": "RjqxaFD0T_Nv"
      },
      "outputs": [],
      "source": [
        "# Dataset First Look- Bottom 4 rows\n",
        "dataset.tail(4).T"
      ]
    },
    {
      "cell_type": "markdown",
      "metadata": {
        "id": "7hBIi_osiCS2"
      },
      "source": [
        "### Dataset Rows & Columns count"
      ]
    },
    {
      "cell_type": "code",
      "execution_count": null,
      "metadata": {
        "id": "Kllu7SJgmLij"
      },
      "outputs": [],
      "source": [
        "# Dataset Rows & Columns count\n",
        "print('Dataset Rows :{} \\nDataset Columns :{}'.format(dataset.shape[0],dataset.shape[1]))"
      ]
    },
    {
      "cell_type": "markdown",
      "metadata": {
        "id": "JlHwYmJAmNHm"
      },
      "source": [
        "### Dataset Information"
      ]
    },
    {
      "cell_type": "code",
      "execution_count": null,
      "metadata": {
        "id": "e9hRXRi6meOf"
      },
      "outputs": [],
      "source": [
        "# Check dataset information using dataset.info() \n",
        "dataset.info()"
      ]
    },
    {
      "cell_type": "markdown",
      "metadata": {
        "id": "35m5QtbWiB9F"
      },
      "source": [
        "#### Duplicate Values"
      ]
    },
    {
      "cell_type": "code",
      "execution_count": null,
      "metadata": {
        "id": "1sLdpKYkmox0"
      },
      "outputs": [],
      "source": [
        "# Percentage of duplicate values in dataset\n",
        "len(dataset[dataset.duplicated()])*100/dataset.shape[0]"
      ]
    },
    {
      "cell_type": "code",
      "execution_count": null,
      "metadata": {
        "id": "fgc5oQwDhdAH"
      },
      "outputs": [],
      "source": [
        "# Dropping Duplicate Values\n",
        "df = dataset.drop_duplicates().reset_index(drop = True)\n",
        "print('Shape of dataset after dropping duplicate values:',df.shape)"
      ]
    },
    {
      "cell_type": "markdown",
      "metadata": {
        "id": "PoPl-ycgm1ru"
      },
      "source": [
        "#### Missing Values/Null Values"
      ]
    },
    {
      "cell_type": "code",
      "execution_count": null,
      "metadata": {
        "id": "GgHWkxvamxVg"
      },
      "outputs": [],
      "source": [
        "# Count of missing values/null values\n",
        "nan_count = df.isna().sum().sort_values(ascending = False)\n",
        "\n",
        "# Print only columns with non-zero number of missing values\n",
        "nan_count = nan_count[nan_count>0]\n",
        "print(nan_count)"
      ]
    },
    {
      "cell_type": "code",
      "execution_count": null,
      "metadata": {
        "id": "3q5wnI3om9sJ"
      },
      "outputs": [],
      "source": [
        "# Finding percentage of missing values\n",
        "df_nan_perc = (nan_count*100/len(df)).round(3)\n",
        "\n",
        "# Visualizing the missing values\n",
        "df_nan_perc.plot.bar()\n",
        "\n",
        "# Adding text on top of bars\n",
        "for idx,y in enumerate(df_nan_perc):\n",
        "    plt.text(idx,y+1,y, ha ='center')"
      ]
    },
    {
      "cell_type": "markdown",
      "metadata": {
        "id": "RM1HqXv-zUdS"
      },
      "source": [
        "- Most data is missing (`94%`.) from the `'company'` column and also some data is missing from three other columns as well.\n",
        "- We can drop the `'company'` and `'agent'`column.\n",
        "- We can drop the missing rows from columns `'country'` and `'children'`."
      ]
    },
    {
      "cell_type": "code",
      "execution_count": null,
      "metadata": {
        "id": "uJn1ZeCN1Awq"
      },
      "outputs": [],
      "source": [
        "#Droping missing values\n",
        "df_1 =   df.drop(['company','agent'],axis = 1).dropna().reset_index(drop = True)"
      ]
    },
    {
      "cell_type": "markdown",
      "metadata": {
        "id": "H0kj-8xxnORC"
      },
      "source": [
        "### What did you know about your dataset?"
      ]
    },
    {
      "cell_type": "markdown",
      "metadata": {
        "id": "gfoNAAC-nUe_"
      },
      "source": [
        "This data set contains booking information for a city hotel and a resort hotel, and includes information such as when the booking was made, length of stay, the number of adults, children, and/or babies, and the number of available parking spaces, among other things."
      ]
    },
    {
      "cell_type": "markdown",
      "metadata": {
        "id": "nA9Y7ga8ng1Z"
      },
      "source": [
        "## ***2. Understanding Your Variables***"
      ]
    },
    {
      "cell_type": "code",
      "execution_count": null,
      "metadata": {
        "id": "j7xfkqrt5Ag5"
      },
      "outputs": [],
      "source": [
        "# Dataset Columns\n",
        "df_1.columns"
      ]
    },
    {
      "cell_type": "code",
      "execution_count": null,
      "metadata": {
        "id": "DnOaZdaE5Q5t"
      },
      "outputs": [],
      "source": [
        "# Dataset Describe\n",
        "df_1.describe().T"
      ]
    },
    {
      "cell_type": "markdown",
      "metadata": {
        "id": "STSKEfkWxtxl"
      },
      "source": [
        "- Cancellation rate: The is_canceled feature has a mean of 0.27, which suggests that approximately 27% of bookings are cancelled. This could be an important metric, as it could indicate issues with overbooking or customer dissatisfaction.\n",
        "\n",
        "- Lead time: The mean lead time of 80 days suggests that on average, customers book their stay about 80 days in advance. This could be useful for the hotel to know when planning for staffing and room inventory.\n",
        "\n",
        "- Room occupancy: The mean number of adults per booking is 1.87, children is 0.14, and babies is 0.01. This could indicate the typical composition of guests staying in the hotel, and could inform decisions such as room size and amenities offered.\n",
        "\n",
        "- Repeat guests: The is_repeated_guest feature has a mean of 0.04, which suggests that only 4% of guests are repeat customers. This could indicate a need for the hotel to focus on customer retention or improving the guest experience.\n",
        "\n",
        "- Special requests: The total_of_special_requests feature has a mean of 0.7, which suggests that on average, guests make about 0.7 special requests per booking. This could be useful for the hotel to know when planning for staffing and resources.\n",
        "\n",
        "- Booking Changes: The booking_changes feature has a mean of 0.27, this could indicate that guests are frequently changing their bookings, which could indicate issues with customer service or flexibility with the booking process.\n",
        "\n",
        "- Average Daily Rate: The mean of ADR is 106.57,this would be useful for the hotel to know when planning for pricing strategy.\n",
        "\n",
        "Additionally we can see that the max adr is 5400, max days in waiting list is 391 days, max lead time is 737 days which could be outliers, which can be addressed during data visualization.  "
      ]
    },
    {
      "cell_type": "markdown",
      "metadata": {
        "id": "PBTbrJXOngz2"
      },
      "source": [
        "### Variables Description "
      ]
    },
    {
      "cell_type": "markdown",
      "metadata": {
        "id": "aJV4KIxSnxay"
      },
      "source": [
        "| Field | Description |\n",
        "| --- | --- |\n",
        "| hotel | H1= Resort Hotel H2=City Hotel |\n",
        "| is_cancelled | \"If the booking was cancelled(1) or not(0)\" |\n",
        "| lead_time | \"Number of days that elapsed between the entering date of the booking into the PMS and the arrival date\" |\n",
        "| arrival_date_year | Year of arrival date |\n",
        "| arrival_date_month | Month of arrival date |\n",
        "| arrival_date_week_number | Week number for arrival date |\n",
        "| arrival_dat_day | Day of arrival date |\n",
        "| stays_in_weekend_nights | \"Number of weekend nights (Saturday or Sunday) the guest stayed or booked to stay at the hotel\" |\n",
        "| stays_in_week_nights | Number of week nights (Monday to Friday) the guest stayed or booked to stay at the hotel |\n",
        "| adults | Number of adults | \n",
        "| children | Number of children |\n",
        "| babies | Number of babies |\n",
        "| meal | Kind of meal opted |\n",
        "| country | Country code | \n",
        "| market_segment | \"Which segment the customer belongs to\" |\n",
        "|  Distribution _channel | \"How the customer accessed the stay-corporate booking/Direct/TA.TO\" |  \n",
        "|  is_repeated_guest | Guest coming for first time or not |  \n",
        "|  previous_cancellation | Was there a cancellation before |  \n",
        "|  previous_bookings | Count of previous bookings |  \n",
        "|  reserved_room_type | Type of room reserved |  \n",
        "|  assigned_room_type | Type of room assigned |  \n",
        "|  booking_changes | Count of changes made to booking |  \n",
        "|  deposit_type | Deposit type |  \t\n",
        "|  agent | Booked through agent |  \n",
        "|  days_in_waiting_list | Number of days in waiting list |  \n",
        "|  customer_type | Type of customer |  \n",
        "|  required_car_parking | If car parking is required |  \n",
        "|  total_of_special_req | \"Number of additional special requirements\" |  \n",
        "|  reservation_status | Reservation of status |  \n",
        "|  reservation_status_date | Date of the specific status |  "
      ]
    },
    {
      "cell_type": "markdown",
      "metadata": {
        "id": "u3PMJOP6ngxN"
      },
      "source": [
        "### Check Unique Values for each variable."
      ]
    },
    {
      "cell_type": "code",
      "execution_count": null,
      "metadata": {
        "id": "YLSNcCShhaOK"
      },
      "outputs": [],
      "source": [
        "# Check Unique Values for each variable.\n",
        "df_1_unique = df_1.nunique().sort_values()\n",
        "# Print only unique values that are less than 13\n",
        "unique_8 = df_1_unique[df_1_unique < 13].index\n",
        "for column in unique_8:\n",
        "  print('Unique values in {:28}:'.format(column),df_1[column].unique())"
      ]
    },
    {
      "cell_type": "markdown",
      "metadata": {
        "id": "dauF4eBmngu3"
      },
      "source": [
        "## **3. *Data Wrangling***"
      ]
    },
    {
      "cell_type": "markdown",
      "metadata": {
        "id": "bKJF3rekwFvQ"
      },
      "source": [
        "### Data Wrangling Code"
      ]
    },
    {
      "cell_type": "code",
      "execution_count": null,
      "metadata": {
        "id": "_mr56tse-1mK"
      },
      "outputs": [],
      "source": [
        "# Write your code to make your dataset analysis ready.\n",
        "# To check the distribution of data points we can use a countplot\n",
        "\n",
        "# Converting the date column in 'df_1' to a datetime data type using pd.to_datetime() function.\n",
        "df_1['reservation_status_date'] = pd.to_datetime(df_1['reservation_status_date'])\n",
        "\n",
        "# Count the number of values by date\n",
        "counts = df_1['reservation_status_date'].value_counts()\n",
        "\n",
        "# Set the figure size\n",
        "plt.figure(figsize=(10, 6))\n",
        "\n",
        "# Limit the x axis for better visualization\n",
        "plt.xlim(pd.Timestamp('2014-10-17'), pd.Timestamp('2017-09-14'))\n",
        "\n",
        "# Plot the bar plot\n",
        "plt.bar(counts.index, counts.values)\n",
        "plt.show()"
      ]
    },
    {
      "cell_type": "markdown",
      "metadata": {
        "id": "MU5PMzypxtxq"
      },
      "source": [
        "- From the plot we can see that very little data points exists before '2015-05-01'. Including these data could skew our results. \n",
        "- Hence we are only including the data from `'2015-05-01'` to `'2017-09-14'` (Last date of booking in the dataset)"
      ]
    },
    {
      "cell_type": "code",
      "execution_count": null,
      "metadata": {
        "id": "5C59JnGm8cwD"
      },
      "outputs": [],
      "source": [
        "# Trimming the rows of dataset where reservation date is older than 2015-05-01 \n",
        "df_2=df_1[(df_1['reservation_status_date']>pd.Timestamp('2015-05-01'))&((df_1['reservation_status_date']<pd.Timestamp('2017-09-14')))].reset_index(drop = True)"
      ]
    },
    {
      "cell_type": "code",
      "execution_count": null,
      "metadata": {
        "id": "aQQdAJaG91JU"
      },
      "outputs": [],
      "source": [
        "# Visualizing the new selection of data points\n",
        "# Get the counts\n",
        "counts = df_2['reservation_status_date'].value_counts()\n",
        "\n",
        "# Set the figure size\n",
        "plt.figure(figsize=(10, 6))\n",
        "\n",
        "# Plot the bar plot\n",
        "plt.bar(counts.index, counts.values)\n",
        "plt.show()"
      ]
    },
    {
      "cell_type": "markdown",
      "metadata": {
        "id": "MSa1f5Uengrz"
      },
      "source": [
        "### What all manipulations have you done and insights you found?"
      ]
    },
    {
      "cell_type": "code",
      "execution_count": null,
      "metadata": {
        "id": "iGZk_OF-xtxr"
      },
      "outputs": [],
      "source": [
        "print('Shape of the dataset before cleaning :',dataset.shape)\n",
        "print('Shape of the dataset after cleaning :',df_2.shape)"
      ]
    },
    {
      "cell_type": "markdown",
      "metadata": {
        "id": "LbyXE7I1olp8"
      },
      "source": [
        "- `26.79%` of values in dataset are duplicated, hence these are dropped \n",
        "- Data points seems to be missing before `2015-05-01`. Hence the  data before the same is excluded from analysis.\n",
        "- `'company'`,`'agent'`,`'country'`,`'Children'` columns are missing `93.983%`, `3.951%`, `0.517%`, `0.005%` of data repectively\n",
        "- `'company'` and `'agent'`columns are dropped\n",
        "- Missing rows from columns `'country'` and `'children'` are also dropped\n",
        " "
      ]
    },
    {
      "cell_type": "markdown",
      "metadata": {
        "id": "GF8Ens_Soomf"
      },
      "source": [
        "## ***4. Data Vizualization, Storytelling & Experimenting with charts : Understand the relationships between variables***"
      ]
    },
    {
      "cell_type": "markdown",
      "metadata": {
        "id": "OopIPJDl5Cv9"
      },
      "source": [
        "## **Univariate Analysis**"
      ]
    },
    {
      "cell_type": "markdown",
      "metadata": {
        "id": "ijXsOAFPxtxs"
      },
      "source": [
        "1. To understand the distribution of data in various categorical variables lets plot a percentage bar plot"
      ]
    },
    {
      "cell_type": "code",
      "execution_count": null,
      "metadata": {
        "id": "1pu2YxNkovYS"
      },
      "outputs": [],
      "source": [
        "#let's try to plot all the non numerical categorical columns. First let's remove columns \n",
        "#having too many categories, also the 'hotel' column to analyze later.  \n",
        "cat_columns = df_2.select_dtypes(exclude=['int', 'float']).columns\n",
        "cat_columns =list(cat_columns)\n",
        "cat_columns.remove('reservation_status_date')\n",
        "cat_columns.remove('country')\n",
        "cat_columns.remove('hotel')\n",
        "\n",
        "# set a larger figure size for subplots\n",
        "plt.figure(figsize = [20  , 15]) \n",
        "for i,x in enumerate(cat_columns):\n",
        "\n",
        "  # 3 row, 3 cols, subplot i+1 since subplot starts from 1\n",
        "  plt.subplot(3, 3,i+1)\n",
        "\n",
        "  # Get the value counts of the x column\n",
        "  counts = (df_2[x].value_counts()*100/len(df_2)).round(1)\n",
        "  \n",
        "  # Create a barplot using the value counts\n",
        "  sns.barplot(x=counts.index, y=counts.values, order = counts.index )\n",
        "  plt.title(str(x)) \n",
        "  plt.xticks(rotation = 20)\n",
        "  # Adding percentage values on top of bars\n",
        "  for idx,y in enumerate(counts.values):\n",
        "    plt.text(idx,y+1,'{} %'.format(y), ha ='center')\n",
        "    \n",
        "plt.show()\n"
      ]
    },
    {
      "cell_type": "markdown",
      "metadata": {
        "id": "C3JDaF6weRI_"
      },
      "source": [
        "- Here bar charts are used  due to effectiveness in comparing and visualizing large categories of data\n",
        "- `August` and `July` are the months with the highest number of bookings (`12.9%` and `11.5%`, respectively) \n",
        "- While `january` and `November` has the least number of bookings (`5.3%` and `5.7%`, respectively)\n",
        "- The meal type `BB   (Breakfast in Bed)` is most prefered, (`77%`) of total orders\n",
        "- `Online TA/TO` (Travel agent/Tour Operator) is the most prefered medium of bookings(`59%`)\n",
        "- `Room type A` is the most reserved and assigned room type (`64.6%` and `53.0%`, respectively).\n",
        " Later we can check if the demand has a correlation with the price the room. \n",
        "- `No deposit bookings` account for the majority of bookings(`98.8%`)\n",
        "- `Customer type transient` makes the majority of bookings(`82.4%`)\n",
        "\n",
        "- The data suggest that Bookings during `August` and `July`, `BB meal type`, `No deposit` Booking type, Booking through `Online TA`, `Room type A`, `Transient` are the popular options among guests.\n",
        "Increasing the availability of these options could lead to an increased revenue"
      ]
    },
    {
      "cell_type": "markdown",
      "metadata": {
        "id": "5ZhUL5Jjis2r"
      },
      "source": [
        "## **Univariate Analysis Questions**"
      ]
    },
    {
      "cell_type": "markdown",
      "metadata": {
        "id": "HQ5dhGPVin8K"
      },
      "source": [
        "[ Hints : - Do the Vizualization in a structured way while following \"UBM\" Rule.\n",
        "\n",
        "U - Univariate Analysis,\n",
        "\n",
        "B - Bivariate Analysis (Numerical - Categorical, Numerical - Numerical, Categorical - Categorical)\n",
        "\n",
        "M - Multivariate Analysis ]\n",
        "\n",
        "\n",
        "\n",
        "\n",
        "\n",
        "\n",
        "\n",
        "\n",
        "\n",
        "\n",
        "\n",
        "\n",
        "\n",
        "\n",
        "\n",
        "\n",
        "\n",
        "\n",
        "\n",
        "\n",
        "\n",
        "\n",
        "\n",
        "\n",
        "\n",
        "\n",
        "\n",
        "\n",
        "\n",
        "\n",
        "\n",
        "\n",
        "\n",
        "\n",
        "\n",
        "\n",
        "\n",
        "\n",
        "\n",
        "\n",
        "\n",
        "\n",
        "\n",
        "\n",
        "\n",
        "\n",
        "\n",
        "\n",
        "\n",
        "\n",
        "\n",
        "\n",
        "\n",
        "\n",
        "\n",
        "\n",
        "\n",
        "\n",
        "\n",
        "\n",
        "\n",
        "\n",
        "\n",
        "\n",
        "\n",
        "\n",
        "\n",
        "\n",
        "\n",
        "\n",
        "\n",
        "\n",
        "\n",
        "\n",
        "\n",
        "\n",
        "\n",
        "\n",
        "\n",
        "\n",
        "\n",
        "\n",
        "\n",
        "\n",
        "\n",
        "\n",
        "\n",
        "\n",
        "\n",
        "\n",
        "\n",
        "\n",
        "\n",
        "\n",
        "\n",
        "\n",
        "\n",
        "\n",
        "\n",
        "\n",
        "\n",
        "\n",
        "\n",
        "\n",
        "\n",
        "\n",
        "\n",
        "\n",
        "\n",
        "\n",
        "\n",
        "\n",
        "\n",
        "\n",
        "\n",
        "\n",
        "\n",
        "\n",
        "\n",
        "\n",
        "\n",
        "\n",
        "\n",
        "\n",
        "\n",
        "\n",
        "\n",
        "\n",
        "\n",
        "\n",
        "\n",
        "\n",
        "\n",
        "\n",
        "\n",
        "\n",
        "\n",
        "\n",
        "\n",
        "\n",
        "\n",
        "\n",
        "\n",
        "\n",
        "\n",
        "\n",
        "\n",
        "\n",
        "\n",
        "\n",
        "\n",
        "\n",
        "\n",
        "\n",
        "\n",
        "\n",
        "\n",
        "\n",
        "\n",
        "\n",
        "\n",
        "\n",
        "\n",
        "\n",
        "\n",
        "\n",
        "\n",
        "\n",
        "+"
      ]
    },
    {
      "cell_type": "markdown",
      "metadata": {
        "id": "GKriEuS8p3OG"
      },
      "source": [
        "#### Chart - 1. What is the trend of *bookings* over **month**, **week** and **day**?"
      ]
    },
    {
      "cell_type": "code",
      "execution_count": null,
      "metadata": {
        "id": "kYr490Xq4atA"
      },
      "outputs": [],
      "source": [
        "cat_columns_ordinal =['arrival_date_month', 'arrival_date_week_number', 'arrival_date_day_of_month']\n",
        "\n",
        "# Create a figure with 3 subplots\n",
        "plt.figure(figsize = [25, 5]) \n",
        "\n",
        "# 1 row, 3 cols, subplot 1\n",
        "plt.subplot(1, 3, 1)\n",
        "x=cat_columns_ordinal[0]\n",
        "\n",
        "# Create a histogram of the values in the column\n",
        "plt.hist(df_2[x], bins = 12)\n",
        "plt.xlabel(str(x))\n",
        "plt.xticks(rotation = 20)\n",
        "\n",
        "# Subplot 2\n",
        "plt.subplot(1, 3, 2)\n",
        "# Assign the second column in the list to x\n",
        "x=cat_columns_ordinal[1]\n",
        "\n",
        "# Create a histogram of the values in the column\n",
        "plt.hist(df_2[x], bins = 53)\n",
        "plt.xlabel(str(x))\n",
        "plt.xticks(rotation = 20)\n",
        "\n",
        "# Subplot 3\n",
        "plt.subplot(1, 3, 3)\n",
        "x=cat_columns_ordinal[2]\n",
        "\n",
        "# Create a histogram of the values in the column\n",
        "plt.hist(df_2[x], bins = 31)\n",
        "plt.xlabel(str(x))\n",
        "plt.xticks(rotation = 20)\n",
        "\n",
        "# Show the figure\n",
        "plt.show()\n"
      ]
    },
    {
      "cell_type": "markdown",
      "metadata": {
        "id": "K5QZ13OEpz2H"
      },
      "source": [
        "##### 1. Why did you pick the specific chart?"
      ]
    },
    {
      "cell_type": "markdown",
      "metadata": {
        "id": "XESiWehPqBRc"
      },
      "source": [
        "Histograms helps us to see the distribution of data over categories or a period of time."
      ]
    },
    {
      "cell_type": "markdown",
      "metadata": {
        "id": "lQ7QKXXCp7Bj"
      },
      "source": [
        "##### 2. What is/are the insight(s) found from the chart?"
      ]
    },
    {
      "cell_type": "markdown",
      "metadata": {
        "id": "pYA8-Rx2qGXL"
      },
      "source": [
        "- Based on the data, it appears that bookings vary by season, with the highest number of bookings take place during the months of May, June, July, and August. \n",
        "- The months of November, December, January, and February tend to have the lowest levels of bookings.\""
      ]
    },
    {
      "cell_type": "markdown",
      "metadata": {
        "id": "448CDAPjqfQr"
      },
      "source": [
        "##### 3. Will the gained insights help creating a positive business impact? "
      ]
    },
    {
      "cell_type": "markdown",
      "metadata": {
        "id": "3cspy4FjqxJW"
      },
      "source": [
        "- Identifying the periods of higher demand can help the management to prepare beforehand and allocate more resources\n",
        "- Additionally strategies can be developed to address lower demand periods."
      ]
    },
    {
      "cell_type": "markdown",
      "metadata": {
        "id": "ICO9KadDxtxz"
      },
      "source": [
        "#### Chart - 2. What are the guest demographics?"
      ]
    },
    {
      "cell_type": "code",
      "execution_count": null,
      "metadata": {
        "id": "evl_oWRixtxz"
      },
      "outputs": [],
      "source": [
        "# Get the top 20 countries based on the number of bookings and the proportion of total bookings\n",
        "df_top = (df_2['country'].value_counts()[:20]*100/len(df_2)).round(2)\n",
        "\n",
        "# Create a bar plot with the top countries on the y-axis and the proportion of bookings on the x-axis\n",
        "sns.barplot(x=df_top.values, y=df_top.index)\n",
        "\n",
        "# Add x-axis label\n",
        "plt.xlabel('Proportion of Total Bookings')\n",
        "# Add y-axis label\n",
        "plt.ylabel('Country')\n",
        "\n",
        "# Loop through the bars and add the percentage value above each bar\n",
        "for idx,y in enumerate(df_top.values):\n",
        "    plt.text(y,idx,str(y)+'%', ha ='left')     \n",
        "# Show the plot\n",
        "plt.show()\n"
      ]
    },
    {
      "cell_type": "markdown",
      "metadata": {
        "id": "kA-npbPdxtxz"
      },
      "source": [
        "##### 1. Why did you pick the specific chart?"
      ]
    },
    {
      "cell_type": "markdown",
      "metadata": {
        "id": "zUFWh_IZxtx0"
      },
      "source": [
        "- Here horizontal bar chart helps us to visualize and compare multiple categories "
      ]
    },
    {
      "cell_type": "markdown",
      "metadata": {
        "id": "q0a2qSbSxtx0"
      },
      "source": [
        "##### 2. What is/are the insight(s) found from the chart?"
      ]
    },
    {
      "cell_type": "markdown",
      "metadata": {
        "id": "EyXaZAJExtx0"
      },
      "source": [
        "- Guests from `Portugal` has made most bookings (`31%`) followed by `United Kingdom` (`12%`) and `France` (`10%`). "
      ]
    },
    {
      "cell_type": "markdown",
      "metadata": {
        "id": "pOvmtI7mxtx0"
      },
      "source": [
        "##### 3. Will the gained insights help creating a positive business impact? "
      ]
    },
    {
      "cell_type": "markdown",
      "metadata": {
        "id": "Jcg7zAwQxtx1"
      },
      "source": [
        "- Identifying the demographics of guests helps to better prepare staffs and run ad-campaigns "
      ]
    },
    {
      "cell_type": "markdown",
      "metadata": {
        "id": "KSlN3yHqYklG"
      },
      "source": [
        "#### Chart - 3. What is the **percentage of cancellations?**\n"
      ]
    },
    {
      "cell_type": "code",
      "execution_count": null,
      "metadata": {
        "id": "R4YgtaqtYklH"
      },
      "outputs": [],
      "source": [
        "# Chart - 2 visualization code\n",
        "#identify percentage of cancellations\n",
        "\n",
        "# Get percentage of value counts for 'arrival_date_month' column\n",
        "counts = (df_2['is_canceled'].value_counts()*100/len(df_2)).round(2)\n",
        "\n",
        "# Set figure size\n",
        "plt.figure(figsize = [10  , 5])   \n",
        "\n",
        "# Create a barplot using the value counts\n",
        "sns.barplot(x=counts.index, y=counts.values, order = counts.index )\n",
        "\n",
        "#Rotate x-tick labels for easier reading, add x-label\n",
        "plt.xticks(rotation = 20)\n",
        "plt.xlabel('is_canceled')\n",
        "\n",
        "#Add value count labels on top of each bar\n",
        "for idx,y in enumerate(counts.values):\n",
        "  \n",
        "  #plt.text(x_co-ord, y_co-ord, value, ha(horrizontal alignment))\n",
        "  plt.text(idx,y+0.5,str(y)+'%', ha ='center') \n",
        "plt.show()"
      ]
    },
    {
      "cell_type": "markdown",
      "metadata": {
        "id": "t6dVpIINYklI"
      },
      "source": [
        "\n",
        "\n",
        "\n",
        "\n",
        "\n",
        "\n",
        "##### 1. Why did you pick the specific chart?"
      ]
    },
    {
      "cell_type": "markdown",
      "metadata": {
        "id": "5aaW0BYyYklI"
      },
      "source": [
        "A bar chart makes it easier compare the different categories. Here it helps to visualize and compare the proportion of bookings that were cancelled"
      ]
    },
    {
      "cell_type": "markdown",
      "metadata": {
        "id": "ijmpgYnKYklI"
      },
      "source": [
        "##### 2. What is/are the insight(s) found from the chart?"
      ]
    },
    {
      "cell_type": "markdown",
      "metadata": {
        "id": "PSx9atu2YklI"
      },
      "source": [
        "- From the chart we an see that a good portion (`27%`) of the bookings were cancelled which leads to loss of revenue"
      ]
    },
    {
      "cell_type": "markdown",
      "metadata": {
        "id": "-JiQyfWJYklI"
      },
      "source": [
        "##### 3. Will the gained insights help creating a positive business impact? \n",
        "Are there any insights that lead to negative growth? Justify with specific reason."
      ]
    },
    {
      "cell_type": "markdown",
      "metadata": {
        "id": "BcBbebzrYklV"
      },
      "source": [
        "- The cancellations can lead to negative growth due to a decrease in revenue. Further analysis can be conducted to identify the reason/sources of high cancellations"
      ]
    },
    {
      "cell_type": "markdown",
      "source": [],
      "metadata": {
        "id": "2iK3JPJCzdYx"
      }
    },
    {
      "cell_type": "markdown",
      "metadata": {
        "id": "mZmrZinTlEKW"
      },
      "source": [
        "## **Bivariate Analysis**"
      ]
    },
    {
      "cell_type": "markdown",
      "metadata": {
        "id": "OH-pJp9IphqM"
      },
      "source": [
        "#### Chart - 4. Which Hotel generates highest ADR?\n"
      ]
    },
    {
      "cell_type": "code",
      "execution_count": null,
      "metadata": {
        "id": "r84ImAAL3t8e"
      },
      "outputs": [],
      "source": [
        "# Chart - 2 visualization code\n",
        "df_2['Total_stay_duration'] = df_2['stays_in_weekend_nights'] + df_2['stays_in_week_nights']\n",
        "df_2['revenue'] = df_2['Total_stay_duration']*df_2['adr']\n",
        "group_1 = pd.DataFrame(df_2[['hotel','revenue']].groupby(['hotel']).sum())\n",
        "# Grouping returns a multi-index pandas series. Use pd.DataFrame to convert to a dataframe\n",
        "sns.barplot(data = group_1, x=group_1.index,y='revenue')\n",
        "#Add value count labels on top of each bar\n",
        "for idx,y in enumerate(group_1.values):\n",
        "  \n",
        "  #plt.text(x_co-ord, y_co-ord, value, ha(horrizontal alignment))\n",
        "  plt.text(idx,y+(10**5),str((y/10**6).round(2))+' M', ha ='center') \n",
        "plt.show()"
      ]
    },
    {
      "cell_type": "markdown",
      "metadata": {
        "id": "bbFf2-_FphqN"
      },
      "source": [
        "##### 1. Why did you pick the specific chart?"
      ]
    },
    {
      "cell_type": "markdown",
      "metadata": {
        "id": "loh7H2nzphqN"
      },
      "source": [
        "Here the Bar chart helps us to easily visualize and compare the difference in revenue of the two hotels."
      ]
    },
    {
      "cell_type": "markdown",
      "metadata": {
        "id": "_ouA3fa0phqN"
      },
      "source": [
        "##### 2. What is/are the insight(s) found from the chart?"
      ]
    },
    {
      "cell_type": "markdown",
      "metadata": {
        "id": "VECbqPI7phqN"
      },
      "source": [
        "- City Hotel and Resort hotel has generated a revenue of `18.75 M Pounds` and `15.49 M pounds` respectively during the period `2015-05-01` - `2017-09-01`."
      ]
    },
    {
      "cell_type": "markdown",
      "metadata": {
        "id": "Seke61FWphqN"
      },
      "source": [
        "##### 3. Will the gained insights help creating a positive business impact? \n",
        "Are there any insights that lead to negative growth? Justify with specific reason."
      ]
    },
    {
      "cell_type": "markdown",
      "metadata": {
        "id": "DW4_bGpfphqN"
      },
      "source": [
        " - Revenue is a key metric which is used to identify the performance of a hotel. This can help us in the further evaluations."
      ]
    },
    {
      "cell_type": "markdown",
      "metadata": {
        "id": "4Of9eVA-YrdM"
      },
      "source": [
        "#### Chart - 5. How does average of ADR varies by Week,Room type and Market Segment? \n"
      ]
    },
    {
      "cell_type": "code",
      "execution_count": null,
      "metadata": {
        "id": "rhsWtlOQxtx9"
      },
      "outputs": [],
      "source": [
        "plt.figure(figsize = [20  , 5])\n",
        "plt.subplot(1,3,1)\n",
        "df_2.groupby('arrival_date_week_number')['adr'].mean().plot()\n",
        "plt.title(\"Average ADR by Week Number\")\n",
        "\n",
        "plt.subplot(1,3,2)\n",
        "df_2.groupby('reserved_room_type')['adr'].mean().sort_values(ascending =False).plot(kind='bar')\n",
        "plt.title(\"Average ADR by Room Type\")\n",
        "\n",
        "plt.subplot(1,3,3)\n",
        "df_2.groupby('market_segment')['adr'].mean().sort_values(ascending =False).plot(kind='bar')\n",
        "plt.title(\"Average ADR by Market Segment\")\n",
        "\n",
        "plt.show()"
      ]
    },
    {
      "cell_type": "markdown",
      "metadata": {
        "id": "iky9q4vBYrdO"
      },
      "source": [
        "##### 1. Why did you pick the specific chart?"
      ]
    },
    {
      "cell_type": "markdown",
      "metadata": {
        "id": "aJRCwT6DYrdO"
      },
      "source": [
        "- Here the line chart helps to see the trend of ADR over time, while the bar chart helps to compare different categories."
      ]
    },
    {
      "cell_type": "markdown",
      "metadata": {
        "id": "F6T5p64dYrdO"
      },
      "source": [
        "##### 2. What is/are the insight(s) found from the chart?"
      ]
    },
    {
      "cell_type": "markdown",
      "metadata": {
        "id": "Xx8WAJvtYrdO"
      },
      "source": [
        "- The peak in average `ADR` occurs during the `weeks 30-35` which can be correlated to high booking demand.\n",
        "- This might be due to the hotels adjusting the room rates for the higher demand and increased sales of other amenities. \n",
        "- The rooms which generates the highest `ADR` are `H` followed `G`, and `F`\n",
        "- The market segment which generates highest `ADR` are `Online Travel Agent` followed by `Direct Booking` and `Aviation`\n"
      ]
    },
    {
      "cell_type": "markdown",
      "metadata": {
        "id": "y-Ehk30pYrdP"
      },
      "source": [
        "##### 3. Will the gained insights help creating a positive business impact? "
      ]
    },
    {
      "cell_type": "markdown",
      "metadata": {
        "id": "4zY-Kz7sxtyA"
      },
      "source": [
        "- Since `online TA` generates high ADR the management can direct its marketing towards online mediums to increase its visibility on these platforms and potentially capture more bookings."
      ]
    },
    {
      "cell_type": "markdown",
      "metadata": {
        "id": "Fx1c3KWixtyA"
      },
      "source": [
        "#### Chart 6. How does adr varies with room type?"
      ]
    },
    {
      "cell_type": "code",
      "execution_count": null,
      "metadata": {
        "id": "CNygUJF4xtyB"
      },
      "outputs": [],
      "source": [
        "# Filtering outlier in ADR\n",
        "df_2 = df_2[df_2['adr']<1000]\n",
        "\n",
        "# Set figure size\n",
        "plt.figure(figsize=(20,5))\n",
        "\n",
        "# First subplot\n",
        "plt.subplot(1,2,1)\n",
        "\n",
        "# Add boxplot for ADR over assigned room type\n",
        "sns.boxplot(x='assigned_room_type', y='adr', data=df_2)\n",
        "plt.xlabel('Assigned Room Type')\n",
        "plt.ylabel('Average Daily Rate')\n",
        "plt.title('ADR vs Room Type')\n",
        "\n",
        "# Second subplot\n",
        "plt.subplot(1,2,2)\n",
        "\n",
        "# Add countplot for bookings over room type\n",
        "sns.countplot(data=df_2, x='assigned_room_type')\n",
        "plt.xlabel('Assigned Room Type')\n",
        "plt.ylabel('Bookings Count')\n",
        "plt.title('Bookings Count vs Room Type')\n",
        "\n",
        "plt.show()\n"
      ]
    },
    {
      "cell_type": "markdown",
      "metadata": {
        "id": "w8dOe600xtyB"
      },
      "source": [
        "##### 1. Why did you pick the specific chart?"
      ]
    },
    {
      "cell_type": "markdown",
      "metadata": {
        "id": "ZhVM-Om2xtyC"
      },
      "source": [
        "- Here the box plot helps to visualize the distribution of ADR over different room types"
      ]
    },
    {
      "cell_type": "markdown",
      "metadata": {
        "id": "37vhM4ooxtyC"
      },
      "source": [
        "##### 2. What is/are the insight(s) found from the chart?"
      ]
    },
    {
      "cell_type": "markdown",
      "metadata": {
        "id": "uL3wNQ5HxtyC"
      },
      "source": [
        "- Most booked rooms are `A`, `D`, `E` with an average ADR of `95`, `109` and `119` respectively\n",
        "- Most expensive rooms are `F`,`G` and `H` with average ADR of `153`, `167`, and `172` respectively\n",
        "- Average daily rate is negatively correlated to number of bookings"
      ]
    },
    {
      "cell_type": "markdown",
      "metadata": {
        "id": "rKAQXcGaxtyD"
      },
      "source": [
        "##### 3. Will the gained insights help creating a positive business impact? "
      ]
    },
    {
      "cell_type": "markdown",
      "metadata": {
        "id": "9oNtIO2FxtyD"
      },
      "source": [
        "- Management can use these insights to optimize ADR and to maximize revenue"
      ]
    },
    {
      "cell_type": "markdown",
      "metadata": {
        "id": "PIIx-8_IphqN"
      },
      "source": [
        "#### Chart - 7. Which hotel has highest cancellations?"
      ]
    },
    {
      "cell_type": "code",
      "execution_count": null,
      "metadata": {
        "id": "-3XUkvLCxtyD"
      },
      "outputs": [],
      "source": [
        "counts_total = counts = df_2.groupby('hotel')['is_canceled'].count()\n",
        "counts = (df_2.groupby('hotel')['is_canceled'].sum()* 100 / counts_total).round(2)\n",
        "counts\n",
        "#counts_r"
      ]
    },
    {
      "cell_type": "code",
      "execution_count": null,
      "metadata": {
        "id": "lqAIGUfyphqO"
      },
      "outputs": [],
      "source": [
        "\n",
        "# Get Total_bookings for each hotel\n",
        "counts_total = counts = df_2.groupby('hotel')['is_canceled'].count()\n",
        "\n",
        "# Get percentage of cancellations for each hotel\n",
        "counts = (df_2.groupby('hotel')['is_canceled'].sum()* 100 / counts_total).round(2)\n",
        "\n",
        "# Create a barplot of cancellation percentages for each hotel\n",
        "sns.barplot(x=counts.index, y=counts.values)\n",
        "\n",
        "# Add x and y labels\n",
        "plt.xlabel('Hotel')\n",
        "plt.ylabel('Cancellation Percentage (%)')\n",
        "\n",
        "# Add value count labels on top of each bar\n",
        "for i, v in enumerate(counts.values):\n",
        "    plt.text(i, v, f'{v}%', ha='center')\n",
        "\n",
        "# Show plot\n",
        "plt.show()"
      ]
    },
    {
      "cell_type": "markdown",
      "metadata": {
        "id": "t27r6nlMphqO"
      },
      "source": [
        "##### 1. Why did you pick the specific chart?"
      ]
    },
    {
      "cell_type": "markdown",
      "metadata": {
        "id": "iv6ro40sphqO"
      },
      "source": [
        "Here barchart helps us compare and visualize differences in percentage of cancellations in each hotel"
      ]
    },
    {
      "cell_type": "markdown",
      "metadata": {
        "id": "r2jJGEOYphqO"
      },
      "source": [
        "##### 2. What is/are the insight(s) found from the chart?"
      ]
    },
    {
      "cell_type": "markdown",
      "metadata": {
        "id": "Po6ZPi4hphqO"
      },
      "source": [
        "We can observe that that City Hotels have a higher percentage of cancellations compared to Resort Hotels."
      ]
    },
    {
      "cell_type": "markdown",
      "metadata": {
        "id": "b0JNsNcRphqO"
      },
      "source": [
        "##### 3. Will the gained insights help creating a positive business impact? \n",
        "Are there any insights that lead to negative growth? Justify with specific reason."
      ]
    },
    {
      "cell_type": "markdown",
      "metadata": {
        "id": "xvSq8iUTphqO"
      },
      "source": [
        "- Cancellations can lead to a loss of revenue. We can try to identify the reasons for this in our further analysis."
      ]
    },
    {
      "cell_type": "markdown",
      "metadata": {
        "id": "bamQiAODYuh1"
      },
      "source": [
        "#### Chart - 8. How does cancellation rate varies by Room Type? "
      ]
    },
    {
      "cell_type": "code",
      "execution_count": null,
      "metadata": {
        "id": "XW-6JjnGxtyG"
      },
      "outputs": [],
      "source": [
        "plt.figure(figsize=[20,10])\n",
        "\n",
        "# Subplot for Cancelled Room Types\n",
        "plt.subplot(2, 3, 1)\n",
        "\n",
        "# Get percentage of cancelled rooms grouped by room type\n",
        "cancelled_rooms = (df_2.groupby('reserved_room_type')['is_canceled'].sum() * 100 / len(df_2)).round(2).sort_values(ascending=False)\n",
        "\n",
        "# PLot barplot for cancelled_rooms\n",
        "sns.barplot(x=cancelled_rooms.index, y=cancelled_rooms.values)\n",
        "plt.title('Cancellation % across Room Types')\n",
        "plt.ylabel('Cancellation Percentage (%)')\n",
        "for i, v in enumerate(cancelled_rooms.values):\n",
        "    plt.text(i, v, f'{v}%', ha='center')\n",
        "\n",
        "# Subplots for Room Type Distribution\n",
        "# Use for loop to plot booking percentage for two room types\n",
        "room_types = ['reserved_room_type', 'assigned_room_type']\n",
        "for i, col in enumerate(room_types):\n",
        "    plt.subplot(2, 3, i+2)\n",
        "    counts = (df_2[col].value_counts() * 100 / len(df_2)).round(1)\n",
        "    sns.barplot(x=counts.index, y=counts.values)\n",
        "    plt.title('Booking % for '+str(col))\n",
        "    plt.ylabel('Booking Percentage (%)')\n",
        "\n",
        "    # Show % value on top of bars\n",
        "    for j, val in enumerate(counts.values):\n",
        "        plt.text(j, val, f'{val}%', ha='center')\n",
        "        "
      ]
    },
    {
      "cell_type": "markdown",
      "metadata": {
        "id": "QHF8YVU7Yuh3"
      },
      "source": [
        "##### 1. Why did you pick the specific chart?"
      ]
    },
    {
      "cell_type": "markdown",
      "metadata": {
        "id": "dcxuIMRPYuh3"
      },
      "source": [
        "- Bar chart helps us to visualize and compare the cancellation rates across room types"
      ]
    },
    {
      "cell_type": "markdown",
      "metadata": {
        "id": "GwzvFGzlYuh3"
      },
      "source": [
        "##### 2. What is/are the insight(s) found from the chart?"
      ]
    },
    {
      "cell_type": "markdown",
      "metadata": {
        "id": "uyqkiB8YYuh3"
      },
      "source": [
        "- Cancellations are higher for room `A` followed by `D` and `E`\n",
        "- From the booking percentages can see the shift of provided rooms from `A` to `D` and `E`. \n",
        "- Hence we can conclude that room type `A` is getting cancelled due to the lack of availability."
      ]
    },
    {
      "cell_type": "markdown",
      "metadata": {
        "id": "qYpmQ266Yuh3"
      },
      "source": [
        "##### 3. Will the gained insights help creating a positive business impact? \n",
        "Are there any insights that lead to negative growth? Justify with specific reason."
      ]
    },
    {
      "cell_type": "markdown",
      "metadata": {
        "id": "yTKeXjJvxtyJ"
      },
      "source": [
        "- Increasing the availabilty of most popular room (A) could decrease cancellations and increase revenue"
      ]
    },
    {
      "cell_type": "markdown",
      "metadata": {
        "id": "7rn4smqUxtyJ"
      },
      "source": [
        "#### Chart - 9. How does cancellation rate varies by market segment? \n"
      ]
    },
    {
      "cell_type": "code",
      "execution_count": null,
      "metadata": {
        "id": "36kINW_fn-dL"
      },
      "outputs": [],
      "source": [
        "# Creating a crosstab of market_segment and is_canceled columns and sorting by count of non cancelled bookings\n",
        "df_2_crosstab = pd.crosstab(df_2['market_segment'], df_2['is_canceled']).sort_values(by = 0)\n",
        "\n",
        "# Plotting the crosstab in a stacked bar chart\n",
        "df_2_crosstab.plot(kind='bar',stacked=True)\n",
        "\n",
        "# Adding the percentage values of cancellations on top of each bar\n",
        "ax = plt.gca()\n",
        "for i,x in enumerate(df_2_crosstab.values):\n",
        "    plt.text(i, (x[0]+x[1])*1.01, '{:.2%}'.format(x[1]/(x[0]+x[1])), ha='center')\n",
        "    \n",
        "ax.set_ylabel(\"Counts\")\n",
        "ax.set_xlabel(\"Market Segment\")\n",
        "ax.legend(title='is_canceled')\n",
        "plt.show()\n",
        "df_2_crosstab"
      ]
    },
    {
      "cell_type": "markdown",
      "metadata": {
        "id": "OqdzbDgFxtyK"
      },
      "source": [
        "##### 2. What is/are the insight(s) found from the chart?"
      ]
    },
    {
      "cell_type": "markdown",
      "metadata": {
        "id": "eSO2_6-IxtyK"
      },
      "source": [
        "- `Online TA` has the highest percentage of cancellation at `35.4%` \n",
        "- `Offline TA/TO` and `groups` have relatively lesser cancellations at `14.54%` and `14.64%` respectively"
      ]
    },
    {
      "cell_type": "markdown",
      "metadata": {
        "id": "I2PkB77ixtyL"
      },
      "source": [
        "##### 3. Will the gained insights help creating a positive business impact? \n",
        "Are there any insights that lead to negative growth? Justify with specific reason."
      ]
    },
    {
      "cell_type": "markdown",
      "metadata": {
        "id": "ee3BD5l6xtyL"
      },
      "source": [
        "- Identifying areas of higher cancellations could help the hotel to make the necessary changes to address these issues."
      ]
    },
    {
      "cell_type": "markdown",
      "metadata": {
        "id": "bzV1Z6fhxtyL"
      },
      "source": [
        "#### Chart - 10. How does ADR and number of bookings varies over time?\n"
      ]
    },
    {
      "cell_type": "code",
      "execution_count": null,
      "metadata": {
        "id": "47jEcomextyL"
      },
      "outputs": [],
      "source": [
        "# Calculating the count of bookings by month using pd.Grouper\n",
        "# Since count is taken on 'adr' column, rename column 'adr' to 'Booking count'\n",
        "bookings_by_month = df_2[['reservation_status_date','adr','hotel']].rename(columns={'adr':'Bookings_Count'})\n",
        "bookings_by_month = bookings_by_month.groupby([pd.Grouper(key='reservation_status_date', freq='M'),'hotel']).count()\n",
        "\n",
        "# plot the output\n",
        "bookings_by_month.unstack().plot()\n",
        "\n",
        "# Calculating the average of adr generated by month using pd.Grouper\n",
        "adr_by_month = df_2[['reservation_status_date','adr','hotel']].groupby([pd.Grouper(key='reservation_status_date', freq='M'),'hotel']).mean()\n",
        "adr_by_month.unstack().plot()\n"
      ]
    },
    {
      "cell_type": "markdown",
      "metadata": {
        "id": "DYj1U40txtyM"
      },
      "source": [
        "##### 2. What is/are the insight(s) found from the chart?"
      ]
    },
    {
      "cell_type": "markdown",
      "metadata": {
        "id": "zNLBZ-gxxtyM"
      },
      "source": [
        "- From these tables, we can see that there are more bookings and higher ADR for City Hotels compared to Resort Hotels. Additionally, it appears that bookings and ADR for both City and Resort Hotels peak in the months of July and August.\n",
        "\n",
        "- It also appears that the ADR for City Hotels is consistently higher than that of Resort Hotels. This could indicate that City Hotels are able to charge higher rates for their rooms.\n",
        "\n",
        "- We can also observe that there is a increasing trend in the ADR for both city and resort hotels throughout the years."
      ]
    },
    {
      "cell_type": "markdown",
      "metadata": {
        "id": "4j4odDEUxtyM"
      },
      "source": [
        "##### 3. Will the gained insights help creating a positive business impact? \n",
        "Are there any insights that lead to negative growth? Justify with specific reason."
      ]
    },
    {
      "cell_type": "markdown",
      "metadata": {
        "id": "VzR8Qi9ixtyM"
      },
      "source": [
        "- Overall, these insights can help management to make strategic decisions such as adjusting room prices and allocating enough resources to optimize revenue during high-demand periods."
      ]
    },
    {
      "cell_type": "markdown",
      "metadata": {
        "id": "U2RJ9gkRphqQ"
      },
      "source": [
        "#### Chart - 11. Is there any relationship between Lead Time and Cancellation Rate?\n"
      ]
    },
    {
      "cell_type": "code",
      "execution_count": null,
      "metadata": {
        "id": "GM7a4YP4phqQ"
      },
      "outputs": [],
      "source": [
        "# Chart - 10 visualization code\n",
        "\n",
        "# Calculating z-score for column 'lead_time'\n",
        "z = np.abs(zscore(df_2['lead_time']))\n",
        "\n",
        "# Filtering values having a z-score less than 3\n",
        "df_2z = df_2[(z < 3)]\n",
        "\n",
        "# Plotting boxplot using sns.boxplot()\n",
        "sns.boxplot(data = df_2z , x='is_canceled',y='lead_time')\n",
        "\n",
        "# Calculating mean of lead time for both categories\n",
        "mean_0 = df_2[df_2['is_canceled']==0]['lead_time'].quantile(0.5)\n",
        "mean_1 = df_2[df_2['is_canceled']==1]['lead_time'].quantile(0.5)\n",
        "print(mean_0)\n",
        "print(mean_1)"
      ]
    },
    {
      "cell_type": "markdown",
      "metadata": {
        "id": "1M8mcRywphqQ"
      },
      "source": [
        "##### 1. Why did you pick the specific chart?"
      ]
    },
    {
      "cell_type": "markdown",
      "metadata": {
        "id": "8agQvks0phqQ"
      },
      "source": [
        "Here boxplot is used to visualize the distribution of a numerical variable over a categorical variable"
      ]
    },
    {
      "cell_type": "markdown",
      "metadata": {
        "id": "tgIPom80phqQ"
      },
      "source": [
        "##### 2. What is/are the insight(s) found from the chart?"
      ]
    },
    {
      "cell_type": "markdown",
      "metadata": {
        "id": "Qp13pnNzphqQ"
      },
      "source": [
        "- The Average of lead time is `38 days` for not cancelled and `79 days` for cancelled bookings\n",
        "- High lead time can increase the probability of cancellations"
      ]
    },
    {
      "cell_type": "markdown",
      "metadata": {
        "id": "JMzcOPDDphqR"
      },
      "source": [
        "##### 3. Will the gained insights help creating a positive business impact? \n",
        "Are there any insights that lead to negative growth? Justify with specific reason."
      ]
    },
    {
      "cell_type": "markdown",
      "metadata": {
        "id": "R4Ka1PC2phqR"
      },
      "source": [
        "- The hotel can provide regular updates to the customers having higher lead time to reduce cancellations "
      ]
    },
    {
      "cell_type": "markdown",
      "metadata": {
        "id": "d5dP_MazeSQ1"
      },
      "source": [
        "#### Chart - 12. Is there any relationship between Deposit type and Cancellation Rate?\n"
      ]
    },
    {
      "cell_type": "code",
      "execution_count": null,
      "metadata": {
        "id": "vYQ4INZ5eSQ1"
      },
      "outputs": [],
      "source": [
        "# Creating a new dataframe 'data' with the cancellation rate for each deposit type\n",
        "data = (df_2.groupby('deposit_type')['is_canceled'].sum()/len(df_2)).reset_index()\n",
        "\n",
        "# Creating a figure with a size of (10,5)\n",
        "plt.figure(figsize=(10,5))\n",
        "\n",
        "# First subplot\n",
        "plt.subplot(1,2,1)\n",
        "\n",
        "# Creating a bar plot of the cancellation rate for each deposit type\n",
        "sns.barplot(x= 'deposit_type',y='is_canceled', data = data)\n",
        "\n",
        "# Adding the percentage value of cancellation rate on top of each bar\n",
        "for idx,y in enumerate(data['is_canceled']):\n",
        "    plt.text(idx,y,'{:.1%}'.format(y), ha ='center')\n",
        "\n",
        "# Adding title to the subplot\n",
        "plt.title(\"Cancellation rate by deposit type\")\n",
        "\n",
        "# Second subplot\n",
        "plt.subplot(1,2,2)\n",
        "\n",
        "# Creating a new dataframe 'data' with the revenue for each deposit type as a percentage of total revenue\n",
        "data = (df_2.groupby('deposit_type')['revenue'].sum()*100/sum(df_2['revenue'])).reset_index()\n",
        "\n",
        "# Creating a bar plot of the revenue for each deposit type\n",
        "sns.barplot(x= 'deposit_type',y='revenue', data = data)\n",
        "\n",
        "# Adding the percentage value of revenue on top of each bar\n",
        "for idx,y in enumerate(data['revenue']):\n",
        "    plt.text(idx,y,'{:.3}%'.format(y), ha ='center')\n",
        "\n",
        "# Adding title to the subplot\n",
        "plt.title(\"Revenue by deposit type\")\n"
      ]
    },
    {
      "cell_type": "markdown",
      "metadata": {
        "id": "b1PYqozveSQ1"
      },
      "source": [
        "##### 1. Why did you pick the specific chart?"
      ]
    },
    {
      "cell_type": "markdown",
      "metadata": {
        "id": "FFLb0UMYeSQ2"
      },
      "source": [
        "Here bar charts helps us to compare cancelation rate of different segments of customers "
      ]
    },
    {
      "cell_type": "markdown",
      "metadata": {
        "id": "W9fasnFUeSQ2"
      },
      "source": [
        "##### 2. What is/are the insight(s) found from the chart?"
      ]
    },
    {
      "cell_type": "markdown",
      "metadata": {
        "id": "YlhZmLXzeSQ2"
      },
      "source": [
        "- Data indicates Most `cancelations` are from customers booking without deposits (`26.3%` of total bookings)\n",
        "- Most `revenue` (`99.2%` of total revenue) is also from the same segment  "
      ]
    },
    {
      "cell_type": "markdown",
      "metadata": {
        "id": "brV7SCAFeSQ2"
      },
      "source": [
        "##### 3. Will the gained insights help creating a positive business impact? \n",
        "Are there any insights that lead to negative growth? Justify with specific reason."
      ]
    },
    {
      "cell_type": "markdown",
      "metadata": {
        "id": "Sv6aGqVqeSQ3"
      },
      "source": [
        "- To reduce the cancelation rates, the management could to encourage customers who are making a deposit by providing additional offers and reduced rates."
      ]
    },
    {
      "cell_type": "markdown",
      "metadata": {
        "id": "x-EpHcCOp1ci"
      },
      "source": [
        "#### Chart - 13. Duration  of stay over months and weeks?\n"
      ]
    },
    {
      "cell_type": "code",
      "execution_count": null,
      "metadata": {
        "id": "Ybfb1s_SxtyT"
      },
      "outputs": [],
      "source": [
        "# Creating a figure with a size of (12,4)\n",
        "plt.figure(figsize=(12,4))\n",
        "\n",
        "# Creating a new column 'Total_stay_duration' in the dataframe df_2\n",
        "df_2['Total_stay_duration'] = df_2['stays_in_weekend_nights'] + df_2['stays_in_week_nights']\n",
        "\n",
        "# Filtering the dataframe to include only rows where the total stay duration is less than 15 days for better visualization\n",
        "data = df_2[df_2['Total_stay_duration']<15].reset_index(drop = True)\n",
        "\n",
        "# First subplot\n",
        "plt.subplot(1,2,1)\n",
        "\n",
        "# Creating a boxplot of total stay duration by month of reservation status\n",
        "sns.boxplot(x=data['reservation_status_date'].dt.month,y='Total_stay_duration',data = data);\n",
        "\n",
        "# Adding title to the subplot\n",
        "plt.title(\"Total stay duration by month\")\n",
        "\n",
        "# Second subplot\n",
        "plt.subplot(1,2,2)\n",
        "\n",
        "# Creating a lineplot of total stay duration by week of reservation status\n",
        "sns.lineplot(x=data['reservation_status_date'].dt.week,y='Total_stay_duration',data = data);\n",
        "\n",
        "# Adding title to the subplot\n",
        "plt.title(\"Total stay duration by week\")\n",
        "\n",
        "#Printing the summary statistics of 'Total_stay_duration'\n",
        "print('Total_stay_duration Statistics')\n",
        "print(data['Total_stay_duration'].describe())\n",
        "\n",
        "# Show chart\n",
        "plt.show()"
      ]
    },
    {
      "cell_type": "markdown",
      "metadata": {
        "id": "X_VqEhTip1ck"
      },
      "source": [
        "##### 1. Why did you pick the specific chart?"
      ]
    },
    {
      "cell_type": "markdown",
      "metadata": {
        "id": "-vsMzt_np1ck"
      },
      "source": [
        "Here boxplots and lineplots helps us to visualize the distribution of duration data over different months"
      ]
    },
    {
      "cell_type": "markdown",
      "metadata": {
        "id": "8zGJKyg5p1ck"
      },
      "source": [
        "##### 2. What is/are the insight(s) found from the chart?"
      ]
    },
    {
      "cell_type": "markdown",
      "metadata": {
        "id": "ZYdMsrqVp1ck"
      },
      "source": [
        "- Average stay duration is relatively higher for the months `June` to `September`\n",
        "- The average stay duration lies between `2.8` and `4.2`\n",
        "- The average stay duration steadily increases upto approximately `35th week` then sharply decreases "
      ]
    },
    {
      "cell_type": "markdown",
      "metadata": {
        "id": "PVzmfK_Ep1ck"
      },
      "source": [
        "##### 3. Will the gained insights help creating a positive business impact? \n",
        "Are there any insights that lead to negative growth? Justify with specific reason."
      ]
    },
    {
      "cell_type": "markdown",
      "metadata": {
        "id": "druuKYZpp1ck"
      },
      "source": [
        "- Some months have relatively higher average stay duration. With these insights the hotel management can better allocate resources to meet the customer needs "
      ]
    },
    {
      "cell_type": "markdown",
      "metadata": {
        "id": "n3dbpmDWp1ck"
      },
      "source": [
        "#### Chart - 14. Is there any relationship between Duration of stay vs ADR?"
      ]
    },
    {
      "cell_type": "code",
      "execution_count": null,
      "metadata": {
        "id": "MFPja8r8xtyW"
      },
      "outputs": [],
      "source": [
        "# Removing outlier in adr\n",
        "df_2 = df_2[df_2['adr']<1000]"
      ]
    },
    {
      "cell_type": "code",
      "execution_count": null,
      "metadata": {
        "id": "bwevp1tKp1ck"
      },
      "outputs": [],
      "source": [
        "# Chart - 12 visualization code\n",
        "# Total stay duration vs adr sns.scatterplot\n",
        "sns.scatterplot(x='Total_stay_duration',y='adr',data = df_2);"
      ]
    },
    {
      "cell_type": "markdown",
      "metadata": {
        "id": "ylSl6qgtp1ck"
      },
      "source": [
        "##### 1. Why did you pick the specific chart?"
      ]
    },
    {
      "cell_type": "markdown",
      "metadata": {
        "id": "m2xqNkiQp1ck"
      },
      "source": [
        "- Here, a scatterplot is used to visualize the relationship between two numerical continuous variables (adr and total stay duration) by displaying the dependency of the two variables on each other."
      ]
    },
    {
      "cell_type": "markdown",
      "metadata": {
        "id": "ZWILFDl5p1ck"
      },
      "source": [
        "##### 2. What is/are the insight(s) found from the chart?"
      ]
    },
    {
      "cell_type": "markdown",
      "metadata": {
        "id": "x-lUsV2mp1ck"
      },
      "source": [
        "- From the chart we can observe a `negative correlation` between `ADR` and `stay duarion`"
      ]
    },
    {
      "cell_type": "markdown",
      "metadata": {
        "id": "M7G43BXep1ck"
      },
      "source": [
        "##### 3. Will the gained insights help creating a positive business impact? \n",
        "Are there any insights that lead to negative growth? Justify with specific reason."
      ]
    },
    {
      "cell_type": "markdown",
      "metadata": {
        "id": "5wwDJXsLp1cl"
      },
      "source": [
        "- Since customers staying for shorter periods generate more ADR management can focus attracting more of these customers to increase revenue."
      ]
    },
    {
      "cell_type": "markdown",
      "metadata": {
        "id": "YKGNM3yMPjYJ"
      },
      "source": [
        "### Multi Variate Visualization"
      ]
    },
    {
      "cell_type": "markdown",
      "metadata": {
        "id": "8cZljQNkfDg_"
      },
      "source": [
        "#### Chart - 15 - What is the count of bookings and cancellations for each hotel over the years?"
      ]
    },
    {
      "cell_type": "code",
      "execution_count": null,
      "metadata": {
        "id": "tAOMYKF5fDg_"
      },
      "outputs": [],
      "source": [
        "# Chart - 13 visualization code\n",
        "pivot_1 = pd.pivot_table(df_2, index=['arrival_date_year'], columns=['hotel','is_canceled'], aggfunc='size')\n",
        "pivot_1.plot(kind ='bar',color=['#0ebded','#1c6a80','#0bb52a','#077319'])\n",
        "pivot_1"
      ]
    },
    {
      "cell_type": "markdown",
      "metadata": {
        "id": "zZVcvF_ifDhA"
      },
      "source": [
        "##### 1. Why did you pick the specific chart?"
      ]
    },
    {
      "cell_type": "markdown",
      "metadata": {
        "id": "9o_CjEcLxtya"
      },
      "source": [
        "- We can observe the trend in number of bookings and cancellations effectively using stacked bar charts"
      ]
    },
    {
      "cell_type": "markdown",
      "metadata": {
        "id": "Hq6nAkKWfDhA"
      },
      "source": [
        "##### 2. What is/are the insight(s) found from the chart?"
      ]
    },
    {
      "cell_type": "markdown",
      "metadata": {
        "id": "DTbT2NrGfDhA"
      },
      "source": [
        "\n",
        "- There seems to be an overall increase in the number of bookings in the year 2016 followed by a decrease in 2017.\n",
        "- The number of cancellations also seems to follow the same pattern. \n",
        "- The data suggests that City Hotel is more popular among customers but also has a higher cancellation rate"
      ]
    },
    {
      "cell_type": "markdown",
      "metadata": {
        "id": "dGNbNPHSfDhB"
      },
      "source": [
        "##### 3. Will the gained insights help creating a positive business impact? \n",
        "Are there any insights that lead to negative growth? Justify with specific reason."
      ]
    },
    {
      "cell_type": "markdown",
      "metadata": {
        "id": "uBr77pipfDhB"
      },
      "source": [
        "\n",
        "- The data suggests that Resort Hotel is less popular than City Hotel.If the hotel is not able to attract more customers and increase its popularity, it may struggle to grow occupancy and revenue. "
      ]
    },
    {
      "cell_type": "markdown",
      "metadata": {
        "id": "NC_X3p0fY2L0"
      },
      "source": [
        "#### Chart - 16 - Correlation Heatmap"
      ]
    },
    {
      "cell_type": "code",
      "execution_count": null,
      "metadata": {
        "id": "xyC9zolEZNRQ"
      },
      "outputs": [],
      "source": [
        "# Correlation Heatmap visualization code\n",
        "df_3 = df_2.drop(['arrival_date_day_of_month', 'arrival_date_year',\n",
        "                  'arrival_date_month', 'arrival_date_week_number'], axis=1)\n",
        "sns.clustermap(df_3.corr(),cmap='RdBu',center=0,figsize=(11, 10))"
      ]
    },
    {
      "cell_type": "code",
      "execution_count": null,
      "metadata": {
        "id": "Lw3auDL7OjZj"
      },
      "outputs": [],
      "source": [
        "#sorted correlation chart of numerical values\n",
        "\n",
        "mask = (df_3.corr() < 0.1)&(df_3.corr() > -0.1)\n",
        "sns.clustermap(df_3.corr(),cmap='RdBu',center=0,figsize=(11, 10),annot=True,mask=mask)\n",
        "plt.show()"
      ]
    },
    {
      "cell_type": "markdown",
      "metadata": {
        "id": "UV0SzAkaZNRQ"
      },
      "source": [
        "##### 1. Why did you pick the specific chart?"
      ]
    },
    {
      "cell_type": "markdown",
      "metadata": {
        "id": "DVPuT8LYZNRQ"
      },
      "source": [
        "- A correlation heatmap helps us to visualize the correlations between multiple variables"
      ]
    },
    {
      "cell_type": "markdown",
      "metadata": {
        "id": "YPEH6qLeZNRQ"
      },
      "source": [
        "##### 2. What is/are the insight(s) found from the chart?"
      ]
    },
    {
      "cell_type": "markdown",
      "metadata": {
        "id": "bfSqtnDqZNRR"
      },
      "source": [
        "- `adr` seems to be positively correlated with children,adults,total_of_special_requests,is_cancelled\n",
        "- `lead_time` seems to be positively correlated with stays_in_weeknd_nights,stays_in_week_nights \n",
        "- `is_repeated_guest` seems to be negatively correlated with adr, is_cancelled,lead_time\n",
        "-is cancelled seems to be positively correlated with lead_time and adr also negatively correlaed with total_of_special_requests\n",
        "Answer Here"
      ]
    },
    {
      "cell_type": "markdown",
      "metadata": {
        "id": "JcMwzZxoAimU"
      },
      "source": [
        "## **5. Solution to Business Objective**"
      ]
    },
    {
      "cell_type": "markdown",
      "metadata": {
        "id": "8G2x9gOozGDZ"
      },
      "source": [
        "#### What do you suggest the client to achieve Business Objective ? \n",
        "- The Booking patterns consistently peak in July and August, increase staffing and inventory during these months to accommodate the increased demand.\n",
        "- Optimize pricing and availability of room types based on customer preferences. Since room type A is the most preferred, ensure that it is available during peak booking months and adjust pricing accordingly\n",
        "- Increase customer satisfaction by improving the online booking process and customer support.\n",
        "- Since breakfast in bed is the most popular meal,consider offering it more often or as a package deal to increase revenue and customer satisfaction.\n",
        "- negative correlation between ADR and stay duration suggests that customers staying for shorter periods generate more ADR. This information can inform the company to focus on attracting more of these customers to increase revenue.\n",
        "- The information on the average stay duration being relatively higher for the months June to September can help the hotel management to better allocate resources to meet customer needs during these periods.\n",
        "- To reduce the cancellation rates, the management could encourage customers who are making a deposit by providing additional offers and reduced rates.\n",
        "- The hotel should direct its marketing efforts \n",
        "towards online mediums to capture more bookings\n"
      ]
    },
    {
      "cell_type": "markdown",
      "metadata": {
        "id": "gCX9965dhzqZ"
      },
      "source": [
        "# **Conclusion**"
      ]
    },
    {
      "cell_type": "markdown",
      "metadata": {
        "id": "Fjb1IsQkh3yE"
      },
      "source": [
        "In summary, the hotel booking data can be used to gain insights into booking patterns and customer behavior, which can inform strategies for increasing occupancy, revenue, and customer satisfaction.\n",
        "\n",
        "The hotel should focus on increasing staffing and inventory during peak booking \n",
        "months, improve pricing strategy, improve customer support, offer popular amenities \n",
        "and services as add-ones during booking, build relationships with online travel agents, \n",
        "encourage deposits during booking also direct marketing towards online and social \n",
        "media.\n",
        "\n",
        " By implementing these strategies, the hotel management will be able to achieve their business objectives."
      ]
    },
    {
      "cell_type": "markdown",
      "metadata": {
        "id": "4S1X0D-lxtyd"
      },
      "source": [
        "# **Scope**"
      ]
    },
    {
      "cell_type": "markdown",
      "metadata": {
        "id": "hQmFXc26xtyd"
      },
      "source": [
        "Further analysis needs to be carried out to improve customer satisfaction by incorporating customer feedback in the dataset\\\n",
        "With the available data a machine learning model can be created to predict room cancellations or booking trends "
      ]
    },
    {
      "cell_type": "markdown",
      "metadata": {
        "id": "FgFillB7xtye"
      },
      "source": [
        "### References\n",
        "1. [Almabetter - Full Stack Data Science](https://grow.almabetter.com/data-science/learn/full-stack-data-science)\n",
        "2. [Codebasics - Pandas Tutorial (Data Analysis In Python) ](https://youtu.be/CmorAWRsCAw)\n",
        "3. [Udacity - Intro to Data Analysis](https://www.udacity.com/course/intro-to-data-analysis--ud170)\n"
      ]
    }
  ],
  "metadata": {
    "colab": {
      "collapsed_sections": [
        "vncDsAP0Gaoa",
        "FJNUwmbgGyua",
        "w6K7xa23Elo4",
        "yQaldy8SH6Dl",
        "PH-0ReGfmX4f",
        "HhfV-JJviCcP",
        "Y3lxredqlCYt",
        "3RnN4peoiCZX",
        "x71ZqKXriCWQ",
        "7hBIi_osiCS2",
        "JlHwYmJAmNHm",
        "nA9Y7ga8ng1Z",
        "PBTbrJXOngz2",
        "bKJF3rekwFvQ",
        "MSa1f5Uengrz",
        "GF8Ens_Soomf",
        "OopIPJDl5Cv9",
        "GKriEuS8p3OG",
        "K5QZ13OEpz2H",
        "lQ7QKXXCp7Bj",
        "448CDAPjqfQr",
        "ICO9KadDxtxz",
        "KSlN3yHqYklG",
        "ijmpgYnKYklI",
        "-JiQyfWJYklI",
        "OH-pJp9IphqM",
        "bbFf2-_FphqN",
        "_ouA3fa0phqN",
        "Seke61FWphqN",
        "4Of9eVA-YrdM",
        "Fx1c3KWixtyA",
        "PIIx-8_IphqN",
        "t27r6nlMphqO",
        "b0JNsNcRphqO",
        "bamQiAODYuh1",
        "QHF8YVU7Yuh3",
        "GwzvFGzlYuh3",
        "qYpmQ266Yuh3",
        "7rn4smqUxtyJ",
        "bzV1Z6fhxtyL",
        "U2RJ9gkRphqQ",
        "1M8mcRywphqQ",
        "tgIPom80phqQ",
        "JMzcOPDDphqR",
        "d5dP_MazeSQ1",
        "x-EpHcCOp1ci",
        "X_VqEhTip1ck",
        "8zGJKyg5p1ck",
        "PVzmfK_Ep1ck",
        "n3dbpmDWp1ck",
        "ylSl6qgtp1ck",
        "ZWILFDl5p1ck",
        "8cZljQNkfDg_",
        "NC_X3p0fY2L0",
        "UV0SzAkaZNRQ",
        "YPEH6qLeZNRQ",
        "JcMwzZxoAimU",
        "8G2x9gOozGDZ"
      ],
      "provenance": [],
      "include_colab_link": true
    },
    "gpuClass": "standard",
    "kernelspec": {
      "display_name": "base",
      "language": "python",
      "name": "python3"
    },
    "language_info": {
      "codemirror_mode": {
        "name": "ipython",
        "version": 3
      },
      "file_extension": ".py",
      "mimetype": "text/x-python",
      "name": "python",
      "nbconvert_exporter": "python",
      "pygments_lexer": "ipython3",
      "version": "3.9.12"
    },
    "vscode": {
      "interpreter": {
        "hash": "bc5e3d71c73c53915ba3d4864202c39218cb4f283d06eb5b18f9f43c20f46676"
      }
    }
  },
  "nbformat": 4,
  "nbformat_minor": 0
}