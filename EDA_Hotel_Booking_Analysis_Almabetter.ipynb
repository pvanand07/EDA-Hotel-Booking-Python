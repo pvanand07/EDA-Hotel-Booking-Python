{
  "cells": [
    {
      "cell_type": "markdown",
      "metadata": {
        "id": "view-in-github",
        "colab_type": "text"
      },
      "source": [
        "<a href=\"https://colab.research.google.com/github/pvanand07/EDA-Hotel-Booking-Python/blob/master/EDA_Hotel_Booking_Analysis_Almabetter.ipynb\" target=\"_parent\"><img src=\"https://colab.research.google.com/assets/colab-badge.svg\" alt=\"Open In Colab\"/></a>"
      ]
    },
    {
      "cell_type": "markdown",
      "metadata": {
        "id": "vncDsAP0Gaoa"
      },
      "source": [
        "# **Project Name**    -    **Hotel Booking Analysis** \n",
        "\n"
      ]
    },
    {
      "cell_type": "markdown",
      "metadata": {
        "id": "beRrZCGUAJYm"
      },
      "source": [
        "##### **Project Type**    - EDA\n",
        "##### **Contribution**    - Individual\n",
        "##### **Submitted By**    - Anand Siva P V  \n"
      ]
    },
    {
      "cell_type": "markdown",
      "metadata": {
        "id": "FJNUwmbgGyua"
      },
      "source": [
        "# **Project Summary -**"
      ]
    },
    {
      "cell_type": "markdown",
      "metadata": {
        "id": "F6v_1wHtG2nS"
      },
      "source": [
        "This project aims to conduct an exploratory data analysis (EDA) on a dataset of hotel bookings to gain insights on booking patterns and customer behaviour. The analysis will focus on dentifying patterns in bookings and cancellations, customer demographics and preferences, and the effectiveness of different distribution channels.\\\n",
        "The dataset used for this project is available here.\\\n",
        " [Built using jupyter notebook and Python 3]"
      ]
    },
    {
      "cell_type": "markdown",
      "metadata": {
        "id": "w6K7xa23Elo4"
      },
      "source": [
        "# **GitHub Link -**"
      ]
    },
    {
      "cell_type": "markdown",
      "metadata": {
        "id": "h1o69JH3Eqqn"
      },
      "source": [
        "https://github.com/pvanand07/EDA-Hotel-Booking-Python/blob/master/EDA_Hotel_Booking_Analysis_Almabetter.ipynb"
      ]
    },
    {
      "cell_type": "markdown",
      "metadata": {
        "id": "yQaldy8SH6Dl"
      },
      "source": [
        "# **Problem Statement**\n"
      ]
    },
    {
      "cell_type": "markdown",
      "metadata": {
        "id": "DpeJGUA3kjGy"
      },
      "source": [
        "Have you ever wondered when the best time of year to book a hotel room is? Or the optimal length of stay in order to get the best daily rate? What if you wanted to predict whether or not a hotel was likely to receive a disproportionately high number of special requests? This hotel booking dataset can help you explore those questions! This data set contains booking information for a city hotel and a resort hotel, and includes information such as when the booking was made, length of stay, the number of adults, children, and/or babies, and the number of available parking spaces, among other things. All personally identifying information has been removed from the data. Explore and analyse the data to discover important factors that govern the bookings."
      ]
    },
    {
      "cell_type": "markdown",
      "metadata": {
        "id": "PH-0ReGfmX4f"
      },
      "source": [
        "#### **Define Your Business Objective?**"
      ]
    },
    {
      "cell_type": "markdown",
      "metadata": {
        "id": "PhDvGCAqmjP1"
      },
      "source": [
        " The business objectives that this project tries to achieve are \n",
        "- To gain a comprehensive understanding of booking patterns and customer behavior \n",
        "- Understand which amenities and services are most popular among guests\n",
        "- Determine key drivers of occupancy, revenue, and customer satisfaction\n",
        "- Form strategies for increasing occupancy, revenue and customer satisfaction."
      ]
    },
    {
      "cell_type": "markdown",
      "metadata": {
        "id": "mDgbUHAGgjLW"
      },
      "source": [
        "# **General Guidelines** : -  "
      ]
    },
    {
      "cell_type": "markdown",
      "metadata": {
        "id": "ZrxVaUj-hHfC"
      },
      "source": [
        "1.   Well-structured, formatted, and commented code is required. \n",
        "2.   Exception Handling, Production Grade Code & Deployment Ready Code will be a plus. Those students will be awarded some additional credits. \n",
        "     \n",
        "     The additional credits will have advantages over other students during Star Student selection.\n",
        "       \n",
        "             [ Note: - Deployment Ready Code is defined as, the whole .ipynb notebook should be executable in one go\n",
        "                       without a single error logged. ]\n",
        "\n",
        "3.   Each and every logic should have proper comments.\n",
        "4. You may add as many number of charts you want. Make Sure for each and every chart the following format should be answered.\n",
        "        \n",
        "\n",
        "```\n",
        "# Chart visualization code\n",
        "```\n",
        "            \n",
        "\n",
        "*   Why did you pick the specific chart?\n",
        "*   What is/are the insight(s) found from the chart?\n",
        "* Will the gained insights help creating a positive business impact? \n",
        "Are there any insights that lead to negative growth? Justify with specific reason.\n",
        "\n",
        "5. You have to create at least 20 logical & meaningful charts having important insights.\n",
        "\n",
        "\n",
        "[ Hints : - Do the Vizualization in  a structured way while following \"UBM\" Rule. \n",
        "\n",
        "U - Univariate Analysis,\n",
        "\n",
        "B - Bivariate Analysis (Numerical - Categorical, Numerical - Numerical, Categorical - Categorical)\n",
        "\n",
        "M - Multivariate Analysis\n",
        " ]\n",
        "\n",
        "\n",
        "\n"
      ]
    },
    {
      "cell_type": "markdown",
      "metadata": {
        "id": "O_i_v8NEhb9l"
      },
      "source": [
        "# ***Let's Begin !***"
      ]
    },
    {
      "cell_type": "markdown",
      "metadata": {
        "id": "HhfV-JJviCcP"
      },
      "source": [
        "## ***1. Know Your Data***"
      ]
    },
    {
      "cell_type": "markdown",
      "metadata": {
        "id": "Y3lxredqlCYt"
      },
      "source": [
        "### Import Libraries"
      ]
    },
    {
      "cell_type": "code",
      "execution_count": 2,
      "metadata": {
        "id": "M8Vqi-pPk-HR"
      },
      "outputs": [],
      "source": [
        "# Import Libraries\n",
        "import pandas as pd\n",
        "import numpy as np\n",
        "import matplotlib.pyplot as plt\n",
        "import seaborn as sns"
      ]
    },
    {
      "cell_type": "markdown",
      "metadata": {
        "id": "3RnN4peoiCZX"
      },
      "source": [
        "### Dataset Loading"
      ]
    },
    {
      "cell_type": "code",
      "execution_count": 3,
      "metadata": {
        "colab": {
          "base_uri": "https://localhost:8080/"
        },
        "id": "K0q4y_w-a4ki",
        "outputId": "d9d3d872-efa9-4dcf-cd8c-965367a35dd4"
      },
      "outputs": [
        {
          "output_type": "stream",
          "name": "stdout",
          "text": [
            "Mounted at /content/drive\n"
          ]
        }
      ],
      "source": [
        "from google.colab import drive\n",
        "drive.mount('/content/drive')"
      ]
    },
    {
      "cell_type": "code",
      "execution_count": 4,
      "metadata": {
        "id": "4CkvbW_SlZ_R"
      },
      "outputs": [],
      "source": [
        "# Load Dataset\n",
        "dataset = pd.read_csv('/content/drive/MyDrive/Almabetter Projects/Hotel Booking/Hotel Bookings.csv')"
      ]
    },
    {
      "cell_type": "markdown",
      "metadata": {
        "id": "x71ZqKXriCWQ"
      },
      "source": [
        "### Dataset First View"
      ]
    },
    {
      "cell_type": "code",
      "execution_count": null,
      "metadata": {
        "colab": {
          "base_uri": "https://localhost:8080/"
        },
        "id": "LWNFOSvLl09H",
        "outputId": "5a711bf1-9031-4750-86cc-17ba15243686"
      },
      "outputs": [
        {
          "output_type": "execute_result",
          "data": {
            "text/plain": [
              "                                           0             1             2  \\\n",
              "hotel                           Resort Hotel  Resort Hotel  Resort Hotel   \n",
              "is_canceled                                0             0             0   \n",
              "lead_time                                342           737             7   \n",
              "arrival_date_year                       2015          2015          2015   \n",
              "arrival_date_month                      July          July          July   \n",
              "arrival_date_week_number                  27            27            27   \n",
              "arrival_date_day_of_month                  1             1             1   \n",
              "stays_in_weekend_nights                    0             0             0   \n",
              "stays_in_week_nights                       0             0             1   \n",
              "adults                                     2             2             1   \n",
              "children                                 0.0           0.0           0.0   \n",
              "babies                                     0             0             0   \n",
              "meal                                      BB            BB            BB   \n",
              "country                                  PRT           PRT           GBR   \n",
              "market_segment                        Direct        Direct        Direct   \n",
              "distribution_channel                  Direct        Direct        Direct   \n",
              "is_repeated_guest                          0             0             0   \n",
              "previous_cancellations                     0             0             0   \n",
              "previous_bookings_not_canceled             0             0             0   \n",
              "reserved_room_type                         C             C             A   \n",
              "assigned_room_type                         C             C             C   \n",
              "booking_changes                            3             4             0   \n",
              "deposit_type                      No Deposit    No Deposit    No Deposit   \n",
              "agent                                    NaN           NaN           NaN   \n",
              "company                                  NaN           NaN           NaN   \n",
              "days_in_waiting_list                       0             0             0   \n",
              "customer_type                      Transient     Transient     Transient   \n",
              "adr                                      0.0           0.0          75.0   \n",
              "required_car_parking_spaces                0             0             0   \n",
              "total_of_special_requests                  0             0             0   \n",
              "reservation_status                 Check-Out     Check-Out     Check-Out   \n",
              "reservation_status_date           2015-07-01    2015-07-01    2015-07-02   \n",
              "\n",
              "                                           3  \n",
              "hotel                           Resort Hotel  \n",
              "is_canceled                                0  \n",
              "lead_time                                 13  \n",
              "arrival_date_year                       2015  \n",
              "arrival_date_month                      July  \n",
              "arrival_date_week_number                  27  \n",
              "arrival_date_day_of_month                  1  \n",
              "stays_in_weekend_nights                    0  \n",
              "stays_in_week_nights                       1  \n",
              "adults                                     1  \n",
              "children                                 0.0  \n",
              "babies                                     0  \n",
              "meal                                      BB  \n",
              "country                                  GBR  \n",
              "market_segment                     Corporate  \n",
              "distribution_channel               Corporate  \n",
              "is_repeated_guest                          0  \n",
              "previous_cancellations                     0  \n",
              "previous_bookings_not_canceled             0  \n",
              "reserved_room_type                         A  \n",
              "assigned_room_type                         A  \n",
              "booking_changes                            0  \n",
              "deposit_type                      No Deposit  \n",
              "agent                                  304.0  \n",
              "company                                  NaN  \n",
              "days_in_waiting_list                       0  \n",
              "customer_type                      Transient  \n",
              "adr                                     75.0  \n",
              "required_car_parking_spaces                0  \n",
              "total_of_special_requests                  0  \n",
              "reservation_status                 Check-Out  \n",
              "reservation_status_date           2015-07-02  "
            ],
            "text/html": [
              "\n",
              "  <div id=\"df-486fa296-fee1-4b67-839d-e3be57f8015d\">\n",
              "    <div class=\"colab-df-container\">\n",
              "      <div>\n",
              "<style scoped>\n",
              "    .dataframe tbody tr th:only-of-type {\n",
              "        vertical-align: middle;\n",
              "    }\n",
              "\n",
              "    .dataframe tbody tr th {\n",
              "        vertical-align: top;\n",
              "    }\n",
              "\n",
              "    .dataframe thead th {\n",
              "        text-align: right;\n",
              "    }\n",
              "</style>\n",
              "<table border=\"1\" class=\"dataframe\">\n",
              "  <thead>\n",
              "    <tr style=\"text-align: right;\">\n",
              "      <th></th>\n",
              "      <th>0</th>\n",
              "      <th>1</th>\n",
              "      <th>2</th>\n",
              "      <th>3</th>\n",
              "    </tr>\n",
              "  </thead>\n",
              "  <tbody>\n",
              "    <tr>\n",
              "      <th>hotel</th>\n",
              "      <td>Resort Hotel</td>\n",
              "      <td>Resort Hotel</td>\n",
              "      <td>Resort Hotel</td>\n",
              "      <td>Resort Hotel</td>\n",
              "    </tr>\n",
              "    <tr>\n",
              "      <th>is_canceled</th>\n",
              "      <td>0</td>\n",
              "      <td>0</td>\n",
              "      <td>0</td>\n",
              "      <td>0</td>\n",
              "    </tr>\n",
              "    <tr>\n",
              "      <th>lead_time</th>\n",
              "      <td>342</td>\n",
              "      <td>737</td>\n",
              "      <td>7</td>\n",
              "      <td>13</td>\n",
              "    </tr>\n",
              "    <tr>\n",
              "      <th>arrival_date_year</th>\n",
              "      <td>2015</td>\n",
              "      <td>2015</td>\n",
              "      <td>2015</td>\n",
              "      <td>2015</td>\n",
              "    </tr>\n",
              "    <tr>\n",
              "      <th>arrival_date_month</th>\n",
              "      <td>July</td>\n",
              "      <td>July</td>\n",
              "      <td>July</td>\n",
              "      <td>July</td>\n",
              "    </tr>\n",
              "    <tr>\n",
              "      <th>arrival_date_week_number</th>\n",
              "      <td>27</td>\n",
              "      <td>27</td>\n",
              "      <td>27</td>\n",
              "      <td>27</td>\n",
              "    </tr>\n",
              "    <tr>\n",
              "      <th>arrival_date_day_of_month</th>\n",
              "      <td>1</td>\n",
              "      <td>1</td>\n",
              "      <td>1</td>\n",
              "      <td>1</td>\n",
              "    </tr>\n",
              "    <tr>\n",
              "      <th>stays_in_weekend_nights</th>\n",
              "      <td>0</td>\n",
              "      <td>0</td>\n",
              "      <td>0</td>\n",
              "      <td>0</td>\n",
              "    </tr>\n",
              "    <tr>\n",
              "      <th>stays_in_week_nights</th>\n",
              "      <td>0</td>\n",
              "      <td>0</td>\n",
              "      <td>1</td>\n",
              "      <td>1</td>\n",
              "    </tr>\n",
              "    <tr>\n",
              "      <th>adults</th>\n",
              "      <td>2</td>\n",
              "      <td>2</td>\n",
              "      <td>1</td>\n",
              "      <td>1</td>\n",
              "    </tr>\n",
              "    <tr>\n",
              "      <th>children</th>\n",
              "      <td>0.0</td>\n",
              "      <td>0.0</td>\n",
              "      <td>0.0</td>\n",
              "      <td>0.0</td>\n",
              "    </tr>\n",
              "    <tr>\n",
              "      <th>babies</th>\n",
              "      <td>0</td>\n",
              "      <td>0</td>\n",
              "      <td>0</td>\n",
              "      <td>0</td>\n",
              "    </tr>\n",
              "    <tr>\n",
              "      <th>meal</th>\n",
              "      <td>BB</td>\n",
              "      <td>BB</td>\n",
              "      <td>BB</td>\n",
              "      <td>BB</td>\n",
              "    </tr>\n",
              "    <tr>\n",
              "      <th>country</th>\n",
              "      <td>PRT</td>\n",
              "      <td>PRT</td>\n",
              "      <td>GBR</td>\n",
              "      <td>GBR</td>\n",
              "    </tr>\n",
              "    <tr>\n",
              "      <th>market_segment</th>\n",
              "      <td>Direct</td>\n",
              "      <td>Direct</td>\n",
              "      <td>Direct</td>\n",
              "      <td>Corporate</td>\n",
              "    </tr>\n",
              "    <tr>\n",
              "      <th>distribution_channel</th>\n",
              "      <td>Direct</td>\n",
              "      <td>Direct</td>\n",
              "      <td>Direct</td>\n",
              "      <td>Corporate</td>\n",
              "    </tr>\n",
              "    <tr>\n",
              "      <th>is_repeated_guest</th>\n",
              "      <td>0</td>\n",
              "      <td>0</td>\n",
              "      <td>0</td>\n",
              "      <td>0</td>\n",
              "    </tr>\n",
              "    <tr>\n",
              "      <th>previous_cancellations</th>\n",
              "      <td>0</td>\n",
              "      <td>0</td>\n",
              "      <td>0</td>\n",
              "      <td>0</td>\n",
              "    </tr>\n",
              "    <tr>\n",
              "      <th>previous_bookings_not_canceled</th>\n",
              "      <td>0</td>\n",
              "      <td>0</td>\n",
              "      <td>0</td>\n",
              "      <td>0</td>\n",
              "    </tr>\n",
              "    <tr>\n",
              "      <th>reserved_room_type</th>\n",
              "      <td>C</td>\n",
              "      <td>C</td>\n",
              "      <td>A</td>\n",
              "      <td>A</td>\n",
              "    </tr>\n",
              "    <tr>\n",
              "      <th>assigned_room_type</th>\n",
              "      <td>C</td>\n",
              "      <td>C</td>\n",
              "      <td>C</td>\n",
              "      <td>A</td>\n",
              "    </tr>\n",
              "    <tr>\n",
              "      <th>booking_changes</th>\n",
              "      <td>3</td>\n",
              "      <td>4</td>\n",
              "      <td>0</td>\n",
              "      <td>0</td>\n",
              "    </tr>\n",
              "    <tr>\n",
              "      <th>deposit_type</th>\n",
              "      <td>No Deposit</td>\n",
              "      <td>No Deposit</td>\n",
              "      <td>No Deposit</td>\n",
              "      <td>No Deposit</td>\n",
              "    </tr>\n",
              "    <tr>\n",
              "      <th>agent</th>\n",
              "      <td>NaN</td>\n",
              "      <td>NaN</td>\n",
              "      <td>NaN</td>\n",
              "      <td>304.0</td>\n",
              "    </tr>\n",
              "    <tr>\n",
              "      <th>company</th>\n",
              "      <td>NaN</td>\n",
              "      <td>NaN</td>\n",
              "      <td>NaN</td>\n",
              "      <td>NaN</td>\n",
              "    </tr>\n",
              "    <tr>\n",
              "      <th>days_in_waiting_list</th>\n",
              "      <td>0</td>\n",
              "      <td>0</td>\n",
              "      <td>0</td>\n",
              "      <td>0</td>\n",
              "    </tr>\n",
              "    <tr>\n",
              "      <th>customer_type</th>\n",
              "      <td>Transient</td>\n",
              "      <td>Transient</td>\n",
              "      <td>Transient</td>\n",
              "      <td>Transient</td>\n",
              "    </tr>\n",
              "    <tr>\n",
              "      <th>adr</th>\n",
              "      <td>0.0</td>\n",
              "      <td>0.0</td>\n",
              "      <td>75.0</td>\n",
              "      <td>75.0</td>\n",
              "    </tr>\n",
              "    <tr>\n",
              "      <th>required_car_parking_spaces</th>\n",
              "      <td>0</td>\n",
              "      <td>0</td>\n",
              "      <td>0</td>\n",
              "      <td>0</td>\n",
              "    </tr>\n",
              "    <tr>\n",
              "      <th>total_of_special_requests</th>\n",
              "      <td>0</td>\n",
              "      <td>0</td>\n",
              "      <td>0</td>\n",
              "      <td>0</td>\n",
              "    </tr>\n",
              "    <tr>\n",
              "      <th>reservation_status</th>\n",
              "      <td>Check-Out</td>\n",
              "      <td>Check-Out</td>\n",
              "      <td>Check-Out</td>\n",
              "      <td>Check-Out</td>\n",
              "    </tr>\n",
              "    <tr>\n",
              "      <th>reservation_status_date</th>\n",
              "      <td>2015-07-01</td>\n",
              "      <td>2015-07-01</td>\n",
              "      <td>2015-07-02</td>\n",
              "      <td>2015-07-02</td>\n",
              "    </tr>\n",
              "  </tbody>\n",
              "</table>\n",
              "</div>\n",
              "      <button class=\"colab-df-convert\" onclick=\"convertToInteractive('df-486fa296-fee1-4b67-839d-e3be57f8015d')\"\n",
              "              title=\"Convert this dataframe to an interactive table.\"\n",
              "              style=\"display:none;\">\n",
              "        \n",
              "  <svg xmlns=\"http://www.w3.org/2000/svg\" height=\"24px\"viewBox=\"0 0 24 24\"\n",
              "       width=\"24px\">\n",
              "    <path d=\"M0 0h24v24H0V0z\" fill=\"none\"/>\n",
              "    <path d=\"M18.56 5.44l.94 2.06.94-2.06 2.06-.94-2.06-.94-.94-2.06-.94 2.06-2.06.94zm-11 1L8.5 8.5l.94-2.06 2.06-.94-2.06-.94L8.5 2.5l-.94 2.06-2.06.94zm10 10l.94 2.06.94-2.06 2.06-.94-2.06-.94-.94-2.06-.94 2.06-2.06.94z\"/><path d=\"M17.41 7.96l-1.37-1.37c-.4-.4-.92-.59-1.43-.59-.52 0-1.04.2-1.43.59L10.3 9.45l-7.72 7.72c-.78.78-.78 2.05 0 2.83L4 21.41c.39.39.9.59 1.41.59.51 0 1.02-.2 1.41-.59l7.78-7.78 2.81-2.81c.8-.78.8-2.07 0-2.86zM5.41 20L4 18.59l7.72-7.72 1.47 1.35L5.41 20z\"/>\n",
              "  </svg>\n",
              "      </button>\n",
              "      \n",
              "  <style>\n",
              "    .colab-df-container {\n",
              "      display:flex;\n",
              "      flex-wrap:wrap;\n",
              "      gap: 12px;\n",
              "    }\n",
              "\n",
              "    .colab-df-convert {\n",
              "      background-color: #E8F0FE;\n",
              "      border: none;\n",
              "      border-radius: 50%;\n",
              "      cursor: pointer;\n",
              "      display: none;\n",
              "      fill: #1967D2;\n",
              "      height: 32px;\n",
              "      padding: 0 0 0 0;\n",
              "      width: 32px;\n",
              "    }\n",
              "\n",
              "    .colab-df-convert:hover {\n",
              "      background-color: #E2EBFA;\n",
              "      box-shadow: 0px 1px 2px rgba(60, 64, 67, 0.3), 0px 1px 3px 1px rgba(60, 64, 67, 0.15);\n",
              "      fill: #174EA6;\n",
              "    }\n",
              "\n",
              "    [theme=dark] .colab-df-convert {\n",
              "      background-color: #3B4455;\n",
              "      fill: #D2E3FC;\n",
              "    }\n",
              "\n",
              "    [theme=dark] .colab-df-convert:hover {\n",
              "      background-color: #434B5C;\n",
              "      box-shadow: 0px 1px 3px 1px rgba(0, 0, 0, 0.15);\n",
              "      filter: drop-shadow(0px 1px 2px rgba(0, 0, 0, 0.3));\n",
              "      fill: #FFFFFF;\n",
              "    }\n",
              "  </style>\n",
              "\n",
              "      <script>\n",
              "        const buttonEl =\n",
              "          document.querySelector('#df-486fa296-fee1-4b67-839d-e3be57f8015d button.colab-df-convert');\n",
              "        buttonEl.style.display =\n",
              "          google.colab.kernel.accessAllowed ? 'block' : 'none';\n",
              "\n",
              "        async function convertToInteractive(key) {\n",
              "          const element = document.querySelector('#df-486fa296-fee1-4b67-839d-e3be57f8015d');\n",
              "          const dataTable =\n",
              "            await google.colab.kernel.invokeFunction('convertToInteractive',\n",
              "                                                     [key], {});\n",
              "          if (!dataTable) return;\n",
              "\n",
              "          const docLinkHtml = 'Like what you see? Visit the ' +\n",
              "            '<a target=\"_blank\" href=https://colab.research.google.com/notebooks/data_table.ipynb>data table notebook</a>'\n",
              "            + ' to learn more about interactive tables.';\n",
              "          element.innerHTML = '';\n",
              "          dataTable['output_type'] = 'display_data';\n",
              "          await google.colab.output.renderOutput(dataTable, element);\n",
              "          const docLink = document.createElement('div');\n",
              "          docLink.innerHTML = docLinkHtml;\n",
              "          element.appendChild(docLink);\n",
              "        }\n",
              "      </script>\n",
              "    </div>\n",
              "  </div>\n",
              "  "
            ]
          },
          "metadata": {},
          "execution_count": 12
        }
      ],
      "source": [
        "# Dataset First Look- Top 4 rows\n",
        "dataset.head(4).T"
      ]
    },
    {
      "cell_type": "code",
      "execution_count": null,
      "metadata": {
        "colab": {
          "base_uri": "https://localhost:8080/"
        },
        "id": "RjqxaFD0T_Nv",
        "outputId": "a10cbec6-29a8-484f-dd55-4766041dd364"
      },
      "outputs": [
        {
          "output_type": "execute_result",
          "data": {
            "text/plain": [
              "                                    119386      119387      119388      119389\n",
              "hotel                           City Hotel  City Hotel  City Hotel  City Hotel\n",
              "is_canceled                              0           0           0           0\n",
              "lead_time                              102          34         109         205\n",
              "arrival_date_year                     2017        2017        2017        2017\n",
              "arrival_date_month                  August      August      August      August\n",
              "arrival_date_week_number                35          35          35          35\n",
              "arrival_date_day_of_month               31          31          31          29\n",
              "stays_in_weekend_nights                  2           2           2           2\n",
              "stays_in_week_nights                     5           5           5           7\n",
              "adults                                   3           2           2           2\n",
              "children                               0.0         0.0         0.0         0.0\n",
              "babies                                   0           0           0           0\n",
              "meal                                    BB          BB          BB          HB\n",
              "country                                FRA         DEU         GBR         DEU\n",
              "market_segment                   Online TA   Online TA   Online TA   Online TA\n",
              "distribution_channel                 TA/TO       TA/TO       TA/TO       TA/TO\n",
              "is_repeated_guest                        0           0           0           0\n",
              "previous_cancellations                   0           0           0           0\n",
              "previous_bookings_not_canceled           0           0           0           0\n",
              "reserved_room_type                       E           D           A           A\n",
              "assigned_room_type                       E           D           A           A\n",
              "booking_changes                          0           0           0           0\n",
              "deposit_type                    No Deposit  No Deposit  No Deposit  No Deposit\n",
              "agent                                  9.0         9.0        89.0         9.0\n",
              "company                                NaN         NaN         NaN         NaN\n",
              "days_in_waiting_list                     0           0           0           0\n",
              "customer_type                    Transient   Transient   Transient   Transient\n",
              "adr                                 225.43      157.71       104.4       151.2\n",
              "required_car_parking_spaces              0           0           0           0\n",
              "total_of_special_requests                2           4           0           2\n",
              "reservation_status               Check-Out   Check-Out   Check-Out   Check-Out\n",
              "reservation_status_date         2017-09-07  2017-09-07  2017-09-07  2017-09-07"
            ],
            "text/html": [
              "\n",
              "  <div id=\"df-0a4f4719-77e7-4668-8a50-8cd61cb3eb73\">\n",
              "    <div class=\"colab-df-container\">\n",
              "      <div>\n",
              "<style scoped>\n",
              "    .dataframe tbody tr th:only-of-type {\n",
              "        vertical-align: middle;\n",
              "    }\n",
              "\n",
              "    .dataframe tbody tr th {\n",
              "        vertical-align: top;\n",
              "    }\n",
              "\n",
              "    .dataframe thead th {\n",
              "        text-align: right;\n",
              "    }\n",
              "</style>\n",
              "<table border=\"1\" class=\"dataframe\">\n",
              "  <thead>\n",
              "    <tr style=\"text-align: right;\">\n",
              "      <th></th>\n",
              "      <th>119386</th>\n",
              "      <th>119387</th>\n",
              "      <th>119388</th>\n",
              "      <th>119389</th>\n",
              "    </tr>\n",
              "  </thead>\n",
              "  <tbody>\n",
              "    <tr>\n",
              "      <th>hotel</th>\n",
              "      <td>City Hotel</td>\n",
              "      <td>City Hotel</td>\n",
              "      <td>City Hotel</td>\n",
              "      <td>City Hotel</td>\n",
              "    </tr>\n",
              "    <tr>\n",
              "      <th>is_canceled</th>\n",
              "      <td>0</td>\n",
              "      <td>0</td>\n",
              "      <td>0</td>\n",
              "      <td>0</td>\n",
              "    </tr>\n",
              "    <tr>\n",
              "      <th>lead_time</th>\n",
              "      <td>102</td>\n",
              "      <td>34</td>\n",
              "      <td>109</td>\n",
              "      <td>205</td>\n",
              "    </tr>\n",
              "    <tr>\n",
              "      <th>arrival_date_year</th>\n",
              "      <td>2017</td>\n",
              "      <td>2017</td>\n",
              "      <td>2017</td>\n",
              "      <td>2017</td>\n",
              "    </tr>\n",
              "    <tr>\n",
              "      <th>arrival_date_month</th>\n",
              "      <td>August</td>\n",
              "      <td>August</td>\n",
              "      <td>August</td>\n",
              "      <td>August</td>\n",
              "    </tr>\n",
              "    <tr>\n",
              "      <th>arrival_date_week_number</th>\n",
              "      <td>35</td>\n",
              "      <td>35</td>\n",
              "      <td>35</td>\n",
              "      <td>35</td>\n",
              "    </tr>\n",
              "    <tr>\n",
              "      <th>arrival_date_day_of_month</th>\n",
              "      <td>31</td>\n",
              "      <td>31</td>\n",
              "      <td>31</td>\n",
              "      <td>29</td>\n",
              "    </tr>\n",
              "    <tr>\n",
              "      <th>stays_in_weekend_nights</th>\n",
              "      <td>2</td>\n",
              "      <td>2</td>\n",
              "      <td>2</td>\n",
              "      <td>2</td>\n",
              "    </tr>\n",
              "    <tr>\n",
              "      <th>stays_in_week_nights</th>\n",
              "      <td>5</td>\n",
              "      <td>5</td>\n",
              "      <td>5</td>\n",
              "      <td>7</td>\n",
              "    </tr>\n",
              "    <tr>\n",
              "      <th>adults</th>\n",
              "      <td>3</td>\n",
              "      <td>2</td>\n",
              "      <td>2</td>\n",
              "      <td>2</td>\n",
              "    </tr>\n",
              "    <tr>\n",
              "      <th>children</th>\n",
              "      <td>0.0</td>\n",
              "      <td>0.0</td>\n",
              "      <td>0.0</td>\n",
              "      <td>0.0</td>\n",
              "    </tr>\n",
              "    <tr>\n",
              "      <th>babies</th>\n",
              "      <td>0</td>\n",
              "      <td>0</td>\n",
              "      <td>0</td>\n",
              "      <td>0</td>\n",
              "    </tr>\n",
              "    <tr>\n",
              "      <th>meal</th>\n",
              "      <td>BB</td>\n",
              "      <td>BB</td>\n",
              "      <td>BB</td>\n",
              "      <td>HB</td>\n",
              "    </tr>\n",
              "    <tr>\n",
              "      <th>country</th>\n",
              "      <td>FRA</td>\n",
              "      <td>DEU</td>\n",
              "      <td>GBR</td>\n",
              "      <td>DEU</td>\n",
              "    </tr>\n",
              "    <tr>\n",
              "      <th>market_segment</th>\n",
              "      <td>Online TA</td>\n",
              "      <td>Online TA</td>\n",
              "      <td>Online TA</td>\n",
              "      <td>Online TA</td>\n",
              "    </tr>\n",
              "    <tr>\n",
              "      <th>distribution_channel</th>\n",
              "      <td>TA/TO</td>\n",
              "      <td>TA/TO</td>\n",
              "      <td>TA/TO</td>\n",
              "      <td>TA/TO</td>\n",
              "    </tr>\n",
              "    <tr>\n",
              "      <th>is_repeated_guest</th>\n",
              "      <td>0</td>\n",
              "      <td>0</td>\n",
              "      <td>0</td>\n",
              "      <td>0</td>\n",
              "    </tr>\n",
              "    <tr>\n",
              "      <th>previous_cancellations</th>\n",
              "      <td>0</td>\n",
              "      <td>0</td>\n",
              "      <td>0</td>\n",
              "      <td>0</td>\n",
              "    </tr>\n",
              "    <tr>\n",
              "      <th>previous_bookings_not_canceled</th>\n",
              "      <td>0</td>\n",
              "      <td>0</td>\n",
              "      <td>0</td>\n",
              "      <td>0</td>\n",
              "    </tr>\n",
              "    <tr>\n",
              "      <th>reserved_room_type</th>\n",
              "      <td>E</td>\n",
              "      <td>D</td>\n",
              "      <td>A</td>\n",
              "      <td>A</td>\n",
              "    </tr>\n",
              "    <tr>\n",
              "      <th>assigned_room_type</th>\n",
              "      <td>E</td>\n",
              "      <td>D</td>\n",
              "      <td>A</td>\n",
              "      <td>A</td>\n",
              "    </tr>\n",
              "    <tr>\n",
              "      <th>booking_changes</th>\n",
              "      <td>0</td>\n",
              "      <td>0</td>\n",
              "      <td>0</td>\n",
              "      <td>0</td>\n",
              "    </tr>\n",
              "    <tr>\n",
              "      <th>deposit_type</th>\n",
              "      <td>No Deposit</td>\n",
              "      <td>No Deposit</td>\n",
              "      <td>No Deposit</td>\n",
              "      <td>No Deposit</td>\n",
              "    </tr>\n",
              "    <tr>\n",
              "      <th>agent</th>\n",
              "      <td>9.0</td>\n",
              "      <td>9.0</td>\n",
              "      <td>89.0</td>\n",
              "      <td>9.0</td>\n",
              "    </tr>\n",
              "    <tr>\n",
              "      <th>company</th>\n",
              "      <td>NaN</td>\n",
              "      <td>NaN</td>\n",
              "      <td>NaN</td>\n",
              "      <td>NaN</td>\n",
              "    </tr>\n",
              "    <tr>\n",
              "      <th>days_in_waiting_list</th>\n",
              "      <td>0</td>\n",
              "      <td>0</td>\n",
              "      <td>0</td>\n",
              "      <td>0</td>\n",
              "    </tr>\n",
              "    <tr>\n",
              "      <th>customer_type</th>\n",
              "      <td>Transient</td>\n",
              "      <td>Transient</td>\n",
              "      <td>Transient</td>\n",
              "      <td>Transient</td>\n",
              "    </tr>\n",
              "    <tr>\n",
              "      <th>adr</th>\n",
              "      <td>225.43</td>\n",
              "      <td>157.71</td>\n",
              "      <td>104.4</td>\n",
              "      <td>151.2</td>\n",
              "    </tr>\n",
              "    <tr>\n",
              "      <th>required_car_parking_spaces</th>\n",
              "      <td>0</td>\n",
              "      <td>0</td>\n",
              "      <td>0</td>\n",
              "      <td>0</td>\n",
              "    </tr>\n",
              "    <tr>\n",
              "      <th>total_of_special_requests</th>\n",
              "      <td>2</td>\n",
              "      <td>4</td>\n",
              "      <td>0</td>\n",
              "      <td>2</td>\n",
              "    </tr>\n",
              "    <tr>\n",
              "      <th>reservation_status</th>\n",
              "      <td>Check-Out</td>\n",
              "      <td>Check-Out</td>\n",
              "      <td>Check-Out</td>\n",
              "      <td>Check-Out</td>\n",
              "    </tr>\n",
              "    <tr>\n",
              "      <th>reservation_status_date</th>\n",
              "      <td>2017-09-07</td>\n",
              "      <td>2017-09-07</td>\n",
              "      <td>2017-09-07</td>\n",
              "      <td>2017-09-07</td>\n",
              "    </tr>\n",
              "  </tbody>\n",
              "</table>\n",
              "</div>\n",
              "      <button class=\"colab-df-convert\" onclick=\"convertToInteractive('df-0a4f4719-77e7-4668-8a50-8cd61cb3eb73')\"\n",
              "              title=\"Convert this dataframe to an interactive table.\"\n",
              "              style=\"display:none;\">\n",
              "        \n",
              "  <svg xmlns=\"http://www.w3.org/2000/svg\" height=\"24px\"viewBox=\"0 0 24 24\"\n",
              "       width=\"24px\">\n",
              "    <path d=\"M0 0h24v24H0V0z\" fill=\"none\"/>\n",
              "    <path d=\"M18.56 5.44l.94 2.06.94-2.06 2.06-.94-2.06-.94-.94-2.06-.94 2.06-2.06.94zm-11 1L8.5 8.5l.94-2.06 2.06-.94-2.06-.94L8.5 2.5l-.94 2.06-2.06.94zm10 10l.94 2.06.94-2.06 2.06-.94-2.06-.94-.94-2.06-.94 2.06-2.06.94z\"/><path d=\"M17.41 7.96l-1.37-1.37c-.4-.4-.92-.59-1.43-.59-.52 0-1.04.2-1.43.59L10.3 9.45l-7.72 7.72c-.78.78-.78 2.05 0 2.83L4 21.41c.39.39.9.59 1.41.59.51 0 1.02-.2 1.41-.59l7.78-7.78 2.81-2.81c.8-.78.8-2.07 0-2.86zM5.41 20L4 18.59l7.72-7.72 1.47 1.35L5.41 20z\"/>\n",
              "  </svg>\n",
              "      </button>\n",
              "      \n",
              "  <style>\n",
              "    .colab-df-container {\n",
              "      display:flex;\n",
              "      flex-wrap:wrap;\n",
              "      gap: 12px;\n",
              "    }\n",
              "\n",
              "    .colab-df-convert {\n",
              "      background-color: #E8F0FE;\n",
              "      border: none;\n",
              "      border-radius: 50%;\n",
              "      cursor: pointer;\n",
              "      display: none;\n",
              "      fill: #1967D2;\n",
              "      height: 32px;\n",
              "      padding: 0 0 0 0;\n",
              "      width: 32px;\n",
              "    }\n",
              "\n",
              "    .colab-df-convert:hover {\n",
              "      background-color: #E2EBFA;\n",
              "      box-shadow: 0px 1px 2px rgba(60, 64, 67, 0.3), 0px 1px 3px 1px rgba(60, 64, 67, 0.15);\n",
              "      fill: #174EA6;\n",
              "    }\n",
              "\n",
              "    [theme=dark] .colab-df-convert {\n",
              "      background-color: #3B4455;\n",
              "      fill: #D2E3FC;\n",
              "    }\n",
              "\n",
              "    [theme=dark] .colab-df-convert:hover {\n",
              "      background-color: #434B5C;\n",
              "      box-shadow: 0px 1px 3px 1px rgba(0, 0, 0, 0.15);\n",
              "      filter: drop-shadow(0px 1px 2px rgba(0, 0, 0, 0.3));\n",
              "      fill: #FFFFFF;\n",
              "    }\n",
              "  </style>\n",
              "\n",
              "      <script>\n",
              "        const buttonEl =\n",
              "          document.querySelector('#df-0a4f4719-77e7-4668-8a50-8cd61cb3eb73 button.colab-df-convert');\n",
              "        buttonEl.style.display =\n",
              "          google.colab.kernel.accessAllowed ? 'block' : 'none';\n",
              "\n",
              "        async function convertToInteractive(key) {\n",
              "          const element = document.querySelector('#df-0a4f4719-77e7-4668-8a50-8cd61cb3eb73');\n",
              "          const dataTable =\n",
              "            await google.colab.kernel.invokeFunction('convertToInteractive',\n",
              "                                                     [key], {});\n",
              "          if (!dataTable) return;\n",
              "\n",
              "          const docLinkHtml = 'Like what you see? Visit the ' +\n",
              "            '<a target=\"_blank\" href=https://colab.research.google.com/notebooks/data_table.ipynb>data table notebook</a>'\n",
              "            + ' to learn more about interactive tables.';\n",
              "          element.innerHTML = '';\n",
              "          dataTable['output_type'] = 'display_data';\n",
              "          await google.colab.output.renderOutput(dataTable, element);\n",
              "          const docLink = document.createElement('div');\n",
              "          docLink.innerHTML = docLinkHtml;\n",
              "          element.appendChild(docLink);\n",
              "        }\n",
              "      </script>\n",
              "    </div>\n",
              "  </div>\n",
              "  "
            ]
          },
          "metadata": {},
          "execution_count": 13
        }
      ],
      "source": [
        "# Dataset First Look- Bottom 4 rows\n",
        "dataset.tail(4).T"
      ]
    },
    {
      "cell_type": "markdown",
      "metadata": {
        "id": "7hBIi_osiCS2"
      },
      "source": [
        "### Dataset Rows & Columns count"
      ]
    },
    {
      "cell_type": "code",
      "execution_count": null,
      "metadata": {
        "id": "Kllu7SJgmLij"
      },
      "outputs": [],
      "source": [
        "# Dataset Rows & Columns count\n",
        "print('Dataset Rows :{} \\nDataset Columns :{}'.format(dataset.shape[0],dataset.shape[1]))\n"
      ]
    },
    {
      "cell_type": "markdown",
      "metadata": {
        "id": "JlHwYmJAmNHm"
      },
      "source": [
        "### Dataset Information"
      ]
    },
    {
      "cell_type": "code",
      "execution_count": null,
      "metadata": {
        "colab": {
          "base_uri": "https://localhost:8080/"
        },
        "id": "e9hRXRi6meOf",
        "outputId": "da05c731-3bee-4505-ddb7-d96b083c50a8"
      },
      "outputs": [
        {
          "output_type": "stream",
          "name": "stdout",
          "text": [
            "<class 'pandas.core.frame.DataFrame'>\n",
            "RangeIndex: 119390 entries, 0 to 119389\n",
            "Data columns (total 32 columns):\n",
            " #   Column                          Non-Null Count   Dtype  \n",
            "---  ------                          --------------   -----  \n",
            " 0   hotel                           119390 non-null  object \n",
            " 1   is_canceled                     119390 non-null  int64  \n",
            " 2   lead_time                       119390 non-null  int64  \n",
            " 3   arrival_date_year               119390 non-null  int64  \n",
            " 4   arrival_date_month              119390 non-null  object \n",
            " 5   arrival_date_week_number        119390 non-null  int64  \n",
            " 6   arrival_date_day_of_month       119390 non-null  int64  \n",
            " 7   stays_in_weekend_nights         119390 non-null  int64  \n",
            " 8   stays_in_week_nights            119390 non-null  int64  \n",
            " 9   adults                          119390 non-null  int64  \n",
            " 10  children                        119386 non-null  float64\n",
            " 11  babies                          119390 non-null  int64  \n",
            " 12  meal                            119390 non-null  object \n",
            " 13  country                         118902 non-null  object \n",
            " 14  market_segment                  119390 non-null  object \n",
            " 15  distribution_channel            119390 non-null  object \n",
            " 16  is_repeated_guest               119390 non-null  int64  \n",
            " 17  previous_cancellations          119390 non-null  int64  \n",
            " 18  previous_bookings_not_canceled  119390 non-null  int64  \n",
            " 19  reserved_room_type              119390 non-null  object \n",
            " 20  assigned_room_type              119390 non-null  object \n",
            " 21  booking_changes                 119390 non-null  int64  \n",
            " 22  deposit_type                    119390 non-null  object \n",
            " 23  agent                           103050 non-null  float64\n",
            " 24  company                         6797 non-null    float64\n",
            " 25  days_in_waiting_list            119390 non-null  int64  \n",
            " 26  customer_type                   119390 non-null  object \n",
            " 27  adr                             119390 non-null  float64\n",
            " 28  required_car_parking_spaces     119390 non-null  int64  \n",
            " 29  total_of_special_requests       119390 non-null  int64  \n",
            " 30  reservation_status              119390 non-null  object \n",
            " 31  reservation_status_date         119390 non-null  object \n",
            "dtypes: float64(4), int64(16), object(12)\n",
            "memory usage: 29.1+ MB\n"
          ]
        }
      ],
      "source": [
        "# Dataset Info\n",
        "dataset.info()"
      ]
    },
    {
      "cell_type": "markdown",
      "metadata": {
        "id": "35m5QtbWiB9F"
      },
      "source": [
        "#### Duplicate Values"
      ]
    },
    {
      "cell_type": "code",
      "execution_count": null,
      "metadata": {
        "colab": {
          "base_uri": "https://localhost:8080/"
        },
        "id": "1sLdpKYkmox0",
        "outputId": "f3b98dba-a9b9-43f2-9d6e-5c92c0ad3faa"
      },
      "outputs": [
        {
          "output_type": "execute_result",
          "data": {
            "text/plain": [
              "0.26797889270458164"
            ]
          },
          "metadata": {},
          "execution_count": 15
        }
      ],
      "source": [
        "# Dataset Duplicate Value Count\n",
        "len(dataset[dataset.duplicated()])/dataset.shape[0]"
      ]
    },
    {
      "cell_type": "markdown",
      "metadata": {
        "id": "XfoqwwyWezJ9"
      },
      "source": [
        "## Define DF"
      ]
    },
    {
      "cell_type": "code",
      "execution_count": 4,
      "metadata": {
        "id": "cP0DtuK3evlI"
      },
      "outputs": [],
      "source": []
    },
    {
      "cell_type": "code",
      "execution_count": 5,
      "metadata": {
        "colab": {
          "base_uri": "https://localhost:8080/"
        },
        "id": "fgc5oQwDhdAH",
        "outputId": "1c56d32c-6fe5-4a7e-cacc-569d6affe675"
      },
      "outputs": [
        {
          "output_type": "execute_result",
          "data": {
            "text/plain": [
              "(87396, 32)"
            ]
          },
          "metadata": {},
          "execution_count": 5
        }
      ],
      "source": [
        "# Dropping Duplicate Values\n",
        "df = dataset.drop_duplicates()\n",
        "df.shape"
      ]
    },
    {
      "cell_type": "markdown",
      "metadata": {
        "id": "PoPl-ycgm1ru"
      },
      "source": [
        "#### Missing Values/Null Values"
      ]
    },
    {
      "cell_type": "code",
      "execution_count": 6,
      "metadata": {
        "colab": {
          "base_uri": "https://localhost:8080/"
        },
        "id": "GgHWkxvamxVg",
        "outputId": "e9e62ff7-e700-462e-a505-081e31a3e438"
      },
      "outputs": [
        {
          "output_type": "execute_result",
          "data": {
            "text/plain": [
              "company                           82137\n",
              "agent                             12193\n",
              "country                             452\n",
              "children                              4\n",
              "reserved_room_type                    0\n",
              "assigned_room_type                    0\n",
              "booking_changes                       0\n",
              "deposit_type                          0\n",
              "hotel                                 0\n",
              "previous_cancellations                0\n",
              "days_in_waiting_list                  0\n",
              "customer_type                         0\n",
              "adr                                   0\n",
              "required_car_parking_spaces           0\n",
              "total_of_special_requests             0\n",
              "reservation_status                    0\n",
              "previous_bookings_not_canceled        0\n",
              "is_repeated_guest                     0\n",
              "is_canceled                           0\n",
              "distribution_channel                  0\n",
              "market_segment                        0\n",
              "meal                                  0\n",
              "babies                                0\n",
              "adults                                0\n",
              "stays_in_week_nights                  0\n",
              "stays_in_weekend_nights               0\n",
              "arrival_date_day_of_month             0\n",
              "arrival_date_week_number              0\n",
              "arrival_date_month                    0\n",
              "arrival_date_year                     0\n",
              "lead_time                             0\n",
              "reservation_status_date               0\n",
              "dtype: int64"
            ]
          },
          "metadata": {},
          "execution_count": 6
        }
      ],
      "source": [
        "# Missing Values/Null Values Count\n",
        "df.isna().sum().sort_values(ascending = False)"
      ]
    },
    {
      "cell_type": "code",
      "execution_count": 7,
      "metadata": {
        "colab": {
          "base_uri": "https://localhost:8080/",
          "height": 0
        },
        "id": "3q5wnI3om9sJ",
        "outputId": "ec5e56b9-afe1-4857-9cc1-234aa44bfbd4"
      },
      "outputs": [
        {
          "output_type": "display_data",
          "data": {
            "text/plain": [
              "<Figure size 432x288 with 1 Axes>"
            ],
            "image/png": "[encoded data removed]"
          },
          "metadata": {
            "needs_background": "light"
          }
        }
      ],
      "source": [
        "# Finding percentage of missing values\n",
        "df_nan_perc = df.isna().sum().sort_values(ascending = False)*100/len(df)\n",
        "\n",
        "# Visualizing the missing values\n",
        "df_nan_perc = df_nan_perc[df_nan_perc!=0].round(3)\n",
        "df_nan_perc.plot.bar()\n",
        "# Adding text on top of bars\n",
        "for x in range(len(df_nan_perc)):\n",
        "  plt.text(x,df_nan_perc[x]+1,df_nan_perc[x], ha ='center')"
      ]
    },
    {
      "cell_type": "markdown",
      "metadata": {
        "id": "RM1HqXv-zUdS"
      },
      "source": [
        "- From the above visualisation we can see that more than 90% of the data is missing from the `'company'` column and also some data is missing from three other columns as well.\n",
        "- We can drop the `'company'` and `'agent'`column.\n",
        "- We can drop the missing rows from columns `'country'` and `'children'`."
      ]
    },
    {
      "cell_type": "code",
      "execution_count": 7,
      "metadata": {
        "id": "t4OmUAdiG3hq"
      },
      "outputs": [],
      "source": []
    },
    {
      "cell_type": "code",
      "execution_count": 7,
      "metadata": {
        "id": "zgCAuhzXe_dP"
      },
      "outputs": [],
      "source": []
    },
    {
      "cell_type": "markdown",
      "metadata": {
        "id": "Dm2BBo8kfATh"
      },
      "source": [
        "## Define DF_1"
      ]
    },
    {
      "cell_type": "code",
      "execution_count": 8,
      "metadata": {
        "colab": {
          "base_uri": "https://localhost:8080/"
        },
        "id": "uJn1ZeCN1Awq",
        "outputId": "c4377111-87ed-49c3-954a-ce721cbd6714"
      },
      "outputs": [
        {
          "output_type": "stream",
          "name": "stdout",
          "text": [
            "Shape of the dataset before cleaning : (119390, 32)\n",
            "Shape of the dataset after cleaning : (86940, 30)\n"
          ]
        }
      ],
      "source": [
        "#Droping missing values\n",
        "df_1 =   df.drop(['company','agent'],axis = 1).dropna()\n",
        "print('Shape of the dataset before cleaning :',dataset.shape)\n",
        "print('Shape of the dataset after cleaning :',df_1.shape)"
      ]
    },
    {
      "cell_type": "code",
      "execution_count": 9,
      "metadata": {
        "colab": {
          "base_uri": "https://localhost:8080/"
        },
        "id": "IA172Ay-1IxM",
        "outputId": "c34dc0f6-2af5-4f39-c999-02a2dd4c31b3"
      },
      "outputs": [
        {
          "output_type": "execute_result",
          "data": {
            "text/plain": [
              "(166, 32)"
            ]
          },
          "metadata": {},
          "execution_count": 9
        }
      ],
      "source": [
        "df[(df.adults+df.babies+df.children)==0].shape"
      ]
    },
    {
      "cell_type": "markdown",
      "metadata": {
        "id": "H0kj-8xxnORC"
      },
      "source": [
        "### What did you know about your dataset?"
      ]
    },
    {
      "cell_type": "markdown",
      "metadata": {
        "id": "gfoNAAC-nUe_"
      },
      "source": [
        "This data set contains booking information for a city hotel and a resort hotel, and includes information such as when the booking was made, length of stay, the number of adults, children, and/or babies, and the number of available parking spaces, among other things."
      ]
    },
    {
      "cell_type": "markdown",
      "metadata": {
        "id": "nA9Y7ga8ng1Z"
      },
      "source": [
        "## ***2. Understanding Your Variables***"
      ]
    },
    {
      "cell_type": "markdown",
      "metadata": {
        "id": "JLCnxqikgOHf"
      },
      "source": [
        "#### Useless"
      ]
    },
    {
      "cell_type": "code",
      "execution_count": null,
      "metadata": {
        "colab": {
          "base_uri": "https://localhost:8080/"
        },
        "id": "j7xfkqrt5Ag5",
        "outputId": "5a48af75-c5ca-4fa6-d15e-69e70ccd24f7"
      },
      "outputs": [
        {
          "output_type": "execute_result",
          "data": {
            "text/plain": [
              "Index(['hotel', 'is_canceled', 'lead_time', 'arrival_date_year',\n",
              "       'arrival_date_month', 'arrival_date_week_number',\n",
              "       'arrival_date_day_of_month', 'stays_in_weekend_nights',\n",
              "       'stays_in_week_nights', 'adults', 'children', 'babies', 'meal',\n",
              "       'country', 'market_segment', 'distribution_channel',\n",
              "       'is_repeated_guest', 'previous_cancellations',\n",
              "       'previous_bookings_not_canceled', 'reserved_room_type',\n",
              "       'assigned_room_type', 'booking_changes', 'deposit_type',\n",
              "       'days_in_waiting_list', 'customer_type', 'adr',\n",
              "       'required_car_parking_spaces', 'total_of_special_requests',\n",
              "       'reservation_status', 'reservation_status_date'],\n",
              "      dtype='object')"
            ]
          },
          "metadata": {},
          "execution_count": 29
        }
      ],
      "source": [
        "# Dataset Columns\n",
        "df_1.columns"
      ]
    },
    {
      "cell_type": "code",
      "execution_count": null,
      "metadata": {
        "colab": {
          "base_uri": "https://localhost:8080/"
        },
        "id": "DnOaZdaE5Q5t",
        "outputId": "d192b053-2fcc-49c4-946c-f48cfde009ff"
      },
      "outputs": [
        {
          "output_type": "execute_result",
          "data": {
            "text/plain": [
              "                                  count         mean        std      min  \\\n",
              "is_canceled                     86940.0     0.275903   0.446971     0.00   \n",
              "lead_time                       86940.0    80.193375  86.100147     0.00   \n",
              "arrival_date_year               86940.0  2016.211824   0.686016  2015.00   \n",
              "arrival_date_week_number        86940.0    26.841477  13.654505     1.00   \n",
              "arrival_date_day_of_month       86940.0    15.818024   8.834469     1.00   \n",
              "stays_in_weekend_nights         86940.0     1.007396   1.028763     0.00   \n",
              "stays_in_week_nights            86940.0     2.628744   2.043753     0.00   \n",
              "adults                          86940.0     1.878525   0.625860     0.00   \n",
              "children                        86940.0     0.139211   0.456786     0.00   \n",
              "babies                          86940.0     0.010835   0.113592     0.00   \n",
              "is_repeated_guest               86940.0     0.039234   0.194152     0.00   \n",
              "previous_cancellations          86940.0     0.030228   0.369574     0.00   \n",
              "previous_bookings_not_canceled  86940.0     0.176708   1.717885     0.00   \n",
              "booking_changes                 86940.0     0.271854   0.728090     0.00   \n",
              "days_in_waiting_list            86940.0     0.753497  10.041816     0.00   \n",
              "adr                             86940.0   106.574804  54.957439    -6.38   \n",
              "required_car_parking_spaces     86940.0     0.083448   0.280402     0.00   \n",
              "total_of_special_requests       86940.0     0.699459   0.831840     0.00   \n",
              "\n",
              "                                    25%     50%     75%     max  \n",
              "is_canceled                        0.00     0.0     1.0     1.0  \n",
              "lead_time                         12.00    50.0   125.0   737.0  \n",
              "arrival_date_year               2016.00  2016.0  2017.0  2017.0  \n",
              "arrival_date_week_number          16.00    27.0    37.0    53.0  \n",
              "arrival_date_day_of_month          8.00    16.0    23.0    31.0  \n",
              "stays_in_weekend_nights            0.00     1.0     2.0    16.0  \n",
              "stays_in_week_nights               1.00     2.0     4.0    41.0  \n",
              "adults                             2.00     2.0     2.0    55.0  \n",
              "children                           0.00     0.0     0.0    10.0  \n",
              "babies                             0.00     0.0     0.0    10.0  \n",
              "is_repeated_guest                  0.00     0.0     0.0     1.0  \n",
              "previous_cancellations             0.00     0.0     0.0    26.0  \n",
              "previous_bookings_not_canceled     0.00     0.0     0.0    72.0  \n",
              "booking_changes                    0.00     0.0     0.0    21.0  \n",
              "days_in_waiting_list               0.00     0.0     0.0   391.0  \n",
              "adr                               72.25    98.4   134.1  5400.0  \n",
              "required_car_parking_spaces        0.00     0.0     0.0     8.0  \n",
              "total_of_special_requests          0.00     0.0     1.0     5.0  "
            ],
            "text/html": [
              "\n",
              "  <div id=\"df-7e429a3d-b786-4ddc-b06d-1a154382a4f4\">\n",
              "    <div class=\"colab-df-container\">\n",
              "      <div>\n",
              "<style scoped>\n",
              "    .dataframe tbody tr th:only-of-type {\n",
              "        vertical-align: middle;\n",
              "    }\n",
              "\n",
              "    .dataframe tbody tr th {\n",
              "        vertical-align: top;\n",
              "    }\n",
              "\n",
              "    .dataframe thead th {\n",
              "        text-align: right;\n",
              "    }\n",
              "</style>\n",
              "<table border=\"1\" class=\"dataframe\">\n",
              "  <thead>\n",
              "    <tr style=\"text-align: right;\">\n",
              "      <th></th>\n",
              "      <th>count</th>\n",
              "      <th>mean</th>\n",
              "      <th>std</th>\n",
              "      <th>min</th>\n",
              "      <th>25%</th>\n",
              "      <th>50%</th>\n",
              "      <th>75%</th>\n",
              "      <th>max</th>\n",
              "    </tr>\n",
              "  </thead>\n",
              "  <tbody>\n",
              "    <tr>\n",
              "      <th>is_canceled</th>\n",
              "      <td>86940.0</td>\n",
              "      <td>0.275903</td>\n",
              "      <td>0.446971</td>\n",
              "      <td>0.00</td>\n",
              "      <td>0.00</td>\n",
              "      <td>0.0</td>\n",
              "      <td>1.0</td>\n",
              "      <td>1.0</td>\n",
              "    </tr>\n",
              "    <tr>\n",
              "      <th>lead_time</th>\n",
              "      <td>86940.0</td>\n",
              "      <td>80.193375</td>\n",
              "      <td>86.100147</td>\n",
              "      <td>0.00</td>\n",
              "      <td>12.00</td>\n",
              "      <td>50.0</td>\n",
              "      <td>125.0</td>\n",
              "      <td>737.0</td>\n",
              "    </tr>\n",
              "    <tr>\n",
              "      <th>arrival_date_year</th>\n",
              "      <td>86940.0</td>\n",
              "      <td>2016.211824</td>\n",
              "      <td>0.686016</td>\n",
              "      <td>2015.00</td>\n",
              "      <td>2016.00</td>\n",
              "      <td>2016.0</td>\n",
              "      <td>2017.0</td>\n",
              "      <td>2017.0</td>\n",
              "    </tr>\n",
              "    <tr>\n",
              "      <th>arrival_date_week_number</th>\n",
              "      <td>86940.0</td>\n",
              "      <td>26.841477</td>\n",
              "      <td>13.654505</td>\n",
              "      <td>1.00</td>\n",
              "      <td>16.00</td>\n",
              "      <td>27.0</td>\n",
              "      <td>37.0</td>\n",
              "      <td>53.0</td>\n",
              "    </tr>\n",
              "    <tr>\n",
              "      <th>arrival_date_day_of_month</th>\n",
              "      <td>86940.0</td>\n",
              "      <td>15.818024</td>\n",
              "      <td>8.834469</td>\n",
              "      <td>1.00</td>\n",
              "      <td>8.00</td>\n",
              "      <td>16.0</td>\n",
              "      <td>23.0</td>\n",
              "      <td>31.0</td>\n",
              "    </tr>\n",
              "    <tr>\n",
              "      <th>stays_in_weekend_nights</th>\n",
              "      <td>86940.0</td>\n",
              "      <td>1.007396</td>\n",
              "      <td>1.028763</td>\n",
              "      <td>0.00</td>\n",
              "      <td>0.00</td>\n",
              "      <td>1.0</td>\n",
              "      <td>2.0</td>\n",
              "      <td>16.0</td>\n",
              "    </tr>\n",
              "    <tr>\n",
              "      <th>stays_in_week_nights</th>\n",
              "      <td>86940.0</td>\n",
              "      <td>2.628744</td>\n",
              "      <td>2.043753</td>\n",
              "      <td>0.00</td>\n",
              "      <td>1.00</td>\n",
              "      <td>2.0</td>\n",
              "      <td>4.0</td>\n",
              "      <td>41.0</td>\n",
              "    </tr>\n",
              "    <tr>\n",
              "      <th>adults</th>\n",
              "      <td>86940.0</td>\n",
              "      <td>1.878525</td>\n",
              "      <td>0.625860</td>\n",
              "      <td>0.00</td>\n",
              "      <td>2.00</td>\n",
              "      <td>2.0</td>\n",
              "      <td>2.0</td>\n",
              "      <td>55.0</td>\n",
              "    </tr>\n",
              "    <tr>\n",
              "      <th>children</th>\n",
              "      <td>86940.0</td>\n",
              "      <td>0.139211</td>\n",
              "      <td>0.456786</td>\n",
              "      <td>0.00</td>\n",
              "      <td>0.00</td>\n",
              "      <td>0.0</td>\n",
              "      <td>0.0</td>\n",
              "      <td>10.0</td>\n",
              "    </tr>\n",
              "    <tr>\n",
              "      <th>babies</th>\n",
              "      <td>86940.0</td>\n",
              "      <td>0.010835</td>\n",
              "      <td>0.113592</td>\n",
              "      <td>0.00</td>\n",
              "      <td>0.00</td>\n",
              "      <td>0.0</td>\n",
              "      <td>0.0</td>\n",
              "      <td>10.0</td>\n",
              "    </tr>\n",
              "    <tr>\n",
              "      <th>is_repeated_guest</th>\n",
              "      <td>86940.0</td>\n",
              "      <td>0.039234</td>\n",
              "      <td>0.194152</td>\n",
              "      <td>0.00</td>\n",
              "      <td>0.00</td>\n",
              "      <td>0.0</td>\n",
              "      <td>0.0</td>\n",
              "      <td>1.0</td>\n",
              "    </tr>\n",
              "    <tr>\n",
              "      <th>previous_cancellations</th>\n",
              "      <td>86940.0</td>\n",
              "      <td>0.030228</td>\n",
              "      <td>0.369574</td>\n",
              "      <td>0.00</td>\n",
              "      <td>0.00</td>\n",
              "      <td>0.0</td>\n",
              "      <td>0.0</td>\n",
              "      <td>26.0</td>\n",
              "    </tr>\n",
              "    <tr>\n",
              "      <th>previous_bookings_not_canceled</th>\n",
              "      <td>86940.0</td>\n",
              "      <td>0.176708</td>\n",
              "      <td>1.717885</td>\n",
              "      <td>0.00</td>\n",
              "      <td>0.00</td>\n",
              "      <td>0.0</td>\n",
              "      <td>0.0</td>\n",
              "      <td>72.0</td>\n",
              "    </tr>\n",
              "    <tr>\n",
              "      <th>booking_changes</th>\n",
              "      <td>86940.0</td>\n",
              "      <td>0.271854</td>\n",
              "      <td>0.728090</td>\n",
              "      <td>0.00</td>\n",
              "      <td>0.00</td>\n",
              "      <td>0.0</td>\n",
              "      <td>0.0</td>\n",
              "      <td>21.0</td>\n",
              "    </tr>\n",
              "    <tr>\n",
              "      <th>days_in_waiting_list</th>\n",
              "      <td>86940.0</td>\n",
              "      <td>0.753497</td>\n",
              "      <td>10.041816</td>\n",
              "      <td>0.00</td>\n",
              "      <td>0.00</td>\n",
              "      <td>0.0</td>\n",
              "      <td>0.0</td>\n",
              "      <td>391.0</td>\n",
              "    </tr>\n",
              "    <tr>\n",
              "      <th>adr</th>\n",
              "      <td>86940.0</td>\n",
              "      <td>106.574804</td>\n",
              "      <td>54.957439</td>\n",
              "      <td>-6.38</td>\n",
              "      <td>72.25</td>\n",
              "      <td>98.4</td>\n",
              "      <td>134.1</td>\n",
              "      <td>5400.0</td>\n",
              "    </tr>\n",
              "    <tr>\n",
              "      <th>required_car_parking_spaces</th>\n",
              "      <td>86940.0</td>\n",
              "      <td>0.083448</td>\n",
              "      <td>0.280402</td>\n",
              "      <td>0.00</td>\n",
              "      <td>0.00</td>\n",
              "      <td>0.0</td>\n",
              "      <td>0.0</td>\n",
              "      <td>8.0</td>\n",
              "    </tr>\n",
              "    <tr>\n",
              "      <th>total_of_special_requests</th>\n",
              "      <td>86940.0</td>\n",
              "      <td>0.699459</td>\n",
              "      <td>0.831840</td>\n",
              "      <td>0.00</td>\n",
              "      <td>0.00</td>\n",
              "      <td>0.0</td>\n",
              "      <td>1.0</td>\n",
              "      <td>5.0</td>\n",
              "    </tr>\n",
              "  </tbody>\n",
              "</table>\n",
              "</div>\n",
              "      <button class=\"colab-df-convert\" onclick=\"convertToInteractive('df-7e429a3d-b786-4ddc-b06d-1a154382a4f4')\"\n",
              "              title=\"Convert this dataframe to an interactive table.\"\n",
              "              style=\"display:none;\">\n",
              "        \n",
              "  <svg xmlns=\"http://www.w3.org/2000/svg\" height=\"24px\"viewBox=\"0 0 24 24\"\n",
              "       width=\"24px\">\n",
              "    <path d=\"M0 0h24v24H0V0z\" fill=\"none\"/>\n",
              "    <path d=\"M18.56 5.44l.94 2.06.94-2.06 2.06-.94-2.06-.94-.94-2.06-.94 2.06-2.06.94zm-11 1L8.5 8.5l.94-2.06 2.06-.94-2.06-.94L8.5 2.5l-.94 2.06-2.06.94zm10 10l.94 2.06.94-2.06 2.06-.94-2.06-.94-.94-2.06-.94 2.06-2.06.94z\"/><path d=\"M17.41 7.96l-1.37-1.37c-.4-.4-.92-.59-1.43-.59-.52 0-1.04.2-1.43.59L10.3 9.45l-7.72 7.72c-.78.78-.78 2.05 0 2.83L4 21.41c.39.39.9.59 1.41.59.51 0 1.02-.2 1.41-.59l7.78-7.78 2.81-2.81c.8-.78.8-2.07 0-2.86zM5.41 20L4 18.59l7.72-7.72 1.47 1.35L5.41 20z\"/>\n",
              "  </svg>\n",
              "      </button>\n",
              "      \n",
              "  <style>\n",
              "    .colab-df-container {\n",
              "      display:flex;\n",
              "      flex-wrap:wrap;\n",
              "      gap: 12px;\n",
              "    }\n",
              "\n",
              "    .colab-df-convert {\n",
              "      background-color: #E8F0FE;\n",
              "      border: none;\n",
              "      border-radius: 50%;\n",
              "      cursor: pointer;\n",
              "      display: none;\n",
              "      fill: #1967D2;\n",
              "      height: 32px;\n",
              "      padding: 0 0 0 0;\n",
              "      width: 32px;\n",
              "    }\n",
              "\n",
              "    .colab-df-convert:hover {\n",
              "      background-color: #E2EBFA;\n",
              "      box-shadow: 0px 1px 2px rgba(60, 64, 67, 0.3), 0px 1px 3px 1px rgba(60, 64, 67, 0.15);\n",
              "      fill: #174EA6;\n",
              "    }\n",
              "\n",
              "    [theme=dark] .colab-df-convert {\n",
              "      background-color: #3B4455;\n",
              "      fill: #D2E3FC;\n",
              "    }\n",
              "\n",
              "    [theme=dark] .colab-df-convert:hover {\n",
              "      background-color: #434B5C;\n",
              "      box-shadow: 0px 1px 3px 1px rgba(0, 0, 0, 0.15);\n",
              "      filter: drop-shadow(0px 1px 2px rgba(0, 0, 0, 0.3));\n",
              "      fill: #FFFFFF;\n",
              "    }\n",
              "  </style>\n",
              "\n",
              "      <script>\n",
              "        const buttonEl =\n",
              "          document.querySelector('#df-7e429a3d-b786-4ddc-b06d-1a154382a4f4 button.colab-df-convert');\n",
              "        buttonEl.style.display =\n",
              "          google.colab.kernel.accessAllowed ? 'block' : 'none';\n",
              "\n",
              "        async function convertToInteractive(key) {\n",
              "          const element = document.querySelector('#df-7e429a3d-b786-4ddc-b06d-1a154382a4f4');\n",
              "          const dataTable =\n",
              "            await google.colab.kernel.invokeFunction('convertToInteractive',\n",
              "                                                     [key], {});\n",
              "          if (!dataTable) return;\n",
              "\n",
              "          const docLinkHtml = 'Like what you see? Visit the ' +\n",
              "            '<a target=\"_blank\" href=https://colab.research.google.com/notebooks/data_table.ipynb>data table notebook</a>'\n",
              "            + ' to learn more about interactive tables.';\n",
              "          element.innerHTML = '';\n",
              "          dataTable['output_type'] = 'display_data';\n",
              "          await google.colab.output.renderOutput(dataTable, element);\n",
              "          const docLink = document.createElement('div');\n",
              "          docLink.innerHTML = docLinkHtml;\n",
              "          element.appendChild(docLink);\n",
              "        }\n",
              "      </script>\n",
              "    </div>\n",
              "  </div>\n",
              "  "
            ]
          },
          "metadata": {},
          "execution_count": 30
        }
      ],
      "source": [
        "# Dataset Describe\n",
        "df_1.describe().T"
      ]
    },
    {
      "cell_type": "markdown",
      "metadata": {
        "id": "PBTbrJXOngz2"
      },
      "source": [
        "### Variables Description "
      ]
    },
    {
      "cell_type": "markdown",
      "metadata": {
        "id": "aJV4KIxSnxay"
      },
      "source": [
        "| Field | Description |\n",
        "| --- | --- |\n",
        "| hotel | H1= Resort Hotel H2=City Hotel |\n",
        "| is_cancelled | \"If the booking was cancelled(1) or not(0)\" |\n",
        "| lead_time | \"Number of days that elapsed between the entering date of the booking into the PMS and the arrival date\" |\n",
        "| arrival_date_year | Year of arrival date |\n",
        "| arrival_date_month | Month of arrival date |\n",
        "| arrival_date_week_number | Week number for arrival date |\n",
        "| arrival_dat_day | Day of arrival date |\n",
        "| stays_in_weekend_nights | \"Number of weekend nights (Saturday or Sunday) the guest stayed or booked to stay at the hotel\" |\n",
        "| stays_in_week_nights | Number of week nights (Monday to Friday) the guest stayed or booked to stay at the hotel |\n",
        "| adults | Number of adults | \n",
        "| children | Number of children |\n",
        "| babies | Number of babies |\n",
        "| meal | Kind of meal opted |\n",
        "| country | Country code | \n",
        "| market_segment | \"Which segment the customer belongs to\" |\n",
        "|  Distribution _channel | \"How the customer accessed the stay-corporate booking/Direct/TA.TO\" |  \n",
        "|  is_repeated_guest | Guest coming for first time or not |  \n",
        "|  previous_cancellation | Was there a cancellation before |  \n",
        "|  previous_bookings | Count of previous bookings |  \n",
        "|  reserved_room_type | Type of room reserved |  \n",
        "|  assigned_room_type | Type of room assigned |  \n",
        "|  booking_changes | Count of changes made to booking |  \n",
        "|  deposit_type | Deposit type |  \t\n",
        "|  agent | Booked through agent |  \n",
        "|  days_in_waiting_list | Number of days in waiting list |  \n",
        "|  customer_type | Type of customer |  \n",
        "|  required_car_parking | If car parking is required |  \n",
        "|  total_of_special_req | \"Number of additional special requirements\" |  \n",
        "|  reservation_status | Reservation of status |  \n",
        "|  reservation_status_date | Date of the specific status |  "
      ]
    },
    {
      "cell_type": "markdown",
      "metadata": {
        "id": "u3PMJOP6ngxN"
      },
      "source": [
        "### Check Unique Values for each variable."
      ]
    },
    {
      "cell_type": "code",
      "execution_count": null,
      "metadata": {
        "id": "oxbhQJXlVh52"
      },
      "outputs": [],
      "source": [
        "print(df_1['hotel'])"
      ]
    },
    {
      "cell_type": "code",
      "execution_count": null,
      "metadata": {
        "id": "zms12Yq5n-jE"
      },
      "outputs": [],
      "source": [
        "# Check Unique Values for each variable.\n",
        "df_1_unique = df_1.nunique().sort_values()\n",
        "df_1_unique.index"
      ]
    },
    {
      "cell_type": "code",
      "execution_count": null,
      "metadata": {
        "id": "Pc9Pz15IhLGH"
      },
      "outputs": [],
      "source": [
        "# Print only unique values that are less than 54\n",
        "unique_8 = df_1_unique[df_1_unique < 54].index"
      ]
    },
    {
      "cell_type": "code",
      "execution_count": null,
      "metadata": {
        "id": "YLSNcCShhaOK"
      },
      "outputs": [],
      "source": [
        "for column in unique_8:\n",
        "  print('Unique values in {:30}:'.format(column),df_1[column].unique(),'\\n')"
      ]
    },
    {
      "cell_type": "markdown",
      "metadata": {
        "id": "dauF4eBmngu3"
      },
      "source": [
        "## 3. ***Data Wrangling***"
      ]
    },
    {
      "cell_type": "markdown",
      "metadata": {
        "id": "bKJF3rekwFvQ"
      },
      "source": [
        "### Data Wrangling Code"
      ]
    },
    {
      "cell_type": "markdown",
      "metadata": {
        "id": "OSQooiA2gY9E"
      },
      "source": [
        "#### Hidden - Run These"
      ]
    },
    {
      "cell_type": "code",
      "execution_count": 10,
      "metadata": {
        "colab": {
          "base_uri": "https://localhost:8080/",
          "height": 0
        },
        "id": "_mr56tse-1mK",
        "outputId": "22f06122-f64b-4309-91e6-1b1a309c7556"
      },
      "outputs": [
        {
          "output_type": "display_data",
          "data": {
            "text/plain": [
              "<Figure size 720x432 with 1 Axes>"
            ],
            "image/png": "[encoded data removed]"
          },
          "metadata": {
            "needs_background": "light"
          }
        }
      ],
      "source": [
        "df_1['reservation_status_date'] = pd.to_datetime(df_1['reservation_status_date'])\n",
        "# Count the number of values by date\n",
        "counts = df_1['reservation_status_date'].value_counts()\n",
        "\n",
        "dates = counts.index\n",
        "counts = counts.values\n",
        "# Set the figure size\n",
        "plt.figure(figsize=(10, 6))\n",
        "# Get the counts\n",
        "plt.xlim(pd.Timestamp('2014-10-17'), pd.Timestamp('2017-09-14'))\n",
        "# Plot the bar plot\n",
        "plt.bar(dates, counts)\n",
        "plt.show()"
      ]
    },
    {
      "cell_type": "code",
      "execution_count": 11,
      "metadata": {
        "colab": {
          "base_uri": "https://localhost:8080/",
          "height": 0
        },
        "id": "wk-9a2fpoLcV",
        "outputId": "bc6ccd93-dc09-437d-ea9c-15466a4d2f61"
      },
      "outputs": [
        {
          "output_type": "display_data",
          "data": {
            "text/plain": [
              "<Figure size 720x432 with 1 Axes>"
            ],
            "image/png": "[encoded data removed]"
          },
          "metadata": {
            "needs_background": "light"
          }
        }
      ],
      "source": [
        "# Write your code to make your dataset analysis ready.\n",
        "# Set the figure size\n",
        "plt.figure(figsize=(10, 6))\n",
        "# Get the counts\n",
        "plt.xlim(pd.Timestamp('2015-05-01'), pd.Timestamp('2017-09-14'))\n",
        "# Plot the bar plot\n",
        "plt.bar(dates, counts)\n",
        "plt.show()\n"
      ]
    },
    {
      "cell_type": "markdown",
      "metadata": {
        "id": "noVdjp6Wgeiy"
      },
      "source": [
        "#### Define DF_2"
      ]
    },
    {
      "cell_type": "code",
      "execution_count": 12,
      "metadata": {
        "id": "5C59JnGm8cwD"
      },
      "outputs": [],
      "source": [
        "df_2=df_1[(df_1['reservation_status_date']>pd.Timestamp('2015-05-01'))&((df_1['reservation_status_date']<pd.Timestamp('2017-09-01')))]"
      ]
    },
    {
      "cell_type": "code",
      "execution_count": 13,
      "metadata": {
        "colab": {
          "base_uri": "https://localhost:8080/",
          "height": 0
        },
        "id": "aQQdAJaG91JU",
        "outputId": "fb208e85-bb61-455f-a11f-5e867ff69004"
      },
      "outputs": [
        {
          "output_type": "display_data",
          "data": {
            "text/plain": [
              "<Figure size 720x432 with 1 Axes>"
            ],
            "image/png": "[encoded data removed]"
          },
          "metadata": {
            "needs_background": "light"
          }
        }
      ],
      "source": [
        "counts = df_2['reservation_status_date'].value_counts()\n",
        "\n",
        "dates = counts.index\n",
        "counts = counts.values\n",
        "# Set the figure size\n",
        "plt.figure(figsize=(10, 6))\n",
        "# Get the counts\n",
        "#plt.xlim(pd.Timestamp('2014-10-17'), pd.Timestamp('2017-09-14'))\n",
        "# Plot the bar plot\n",
        "plt.bar(dates, counts)\n",
        "plt.show()"
      ]
    },
    {
      "cell_type": "markdown",
      "metadata": {
        "id": "MSa1f5Uengrz"
      },
      "source": [
        "### What all manipulations have you done and insights you found?"
      ]
    },
    {
      "cell_type": "markdown",
      "metadata": {
        "id": "LbyXE7I1olp8"
      },
      "source": [
        "Answer Here."
      ]
    },
    {
      "cell_type": "markdown",
      "metadata": {
        "id": "GF8Ens_Soomf"
      },
      "source": [
        "## ***4. Data Vizualization, Storytelling & Experimenting with charts : Understand the relationships between variables***"
      ]
    },
    {
      "cell_type": "markdown",
      "metadata": {
        "id": "eUFKUDBefugx"
      },
      "source": [
        "#### First visual"
      ]
    },
    {
      "cell_type": "markdown",
      "metadata": {
        "id": "2QZcuKp3ZiNf"
      },
      "source": [
        "- We can observe the trend in number of bookings using the above chart\n",
        "- There seems to be an overall increase in the number of bookings in the year 2016 followed by a decrease in 2017.\n",
        "- The number of cancellations also seems to follow the same pattern. \n",
        "-In the following sections we can look into the factors which affect the cancellation rate and number of bookings. "
      ]
    },
    {
      "cell_type": "markdown",
      "metadata": {
        "id": "OopIPJDl5Cv9"
      },
      "source": [
        "### Univariate -Multiple visualizations"
      ]
    },
    {
      "cell_type": "markdown",
      "metadata": {
        "id": "BvQ2HUDAtFIB"
      },
      "source": [
        "#### Ordinal categorical data"
      ]
    },
    {
      "cell_type": "code",
      "execution_count": null,
      "metadata": {
        "id": "Na6NPxInmya6"
      },
      "outputs": [],
      "source": []
    },
    {
      "cell_type": "markdown",
      "source": [],
      "metadata": {
        "id": "6CyZ85GA3QnT"
      }
    },
    {
      "cell_type": "code",
      "execution_count": null,
      "metadata": {
        "id": "1pu2YxNkovYS",
        "colab": {
          "base_uri": "https://localhost:8080/",
          "height": 753
        },
        "outputId": "5fc4d691-ea46-4cfa-9eda-e4ffcc0d1f16"
      },
      "outputs": [
        {
          "output_type": "stream",
          "name": "stdout",
          "text": [
            "0 arrival_date_month\n",
            "1 meal\n",
            "2 market_segment\n",
            "3 distribution_channel\n",
            "4 reserved_room_type\n",
            "5 assigned_room_type\n",
            "6 deposit_type\n",
            "7 customer_type\n",
            "8 reservation_status\n"
          ]
        },
        {
          "output_type": "display_data",
          "data": {
            "text/plain": [
              "<Figure size 1800x3024 with 9 Axes>"
            ],
            "image/png": "[encoded data removed]"
          },
          "metadata": {
            "needs_background": "light"
          }
        }
      ],
      "source": [
        "cat_columns = df_2.select_dtypes(exclude=['int', 'float']).columns\n",
        "#let's try to plot all the non numerical categorical columns. First let's remove columns \n",
        "#having too many categories, also the 'hotel' column since we plotted it before.  \n",
        "cat_columns =list(cat_columns)\n",
        "cat_columns.remove('reservation_status_date')\n",
        "cat_columns.remove('country')\n",
        "cat_columns.remove('hotel')\n",
        "cat_columns\n",
        "\n",
        "# set a larger figure size for subplots\n",
        "plt.figure(figsize = [25  , 42]) \n",
        "for i,x in enumerate(cat_columns):\n",
        "  print(i,x)\n",
        "  # 11 row, 3 cols, subplot i+1 since subplot starts from 1\n",
        "  plt.subplot(11, 3,i+1)\n",
        "  # Get the value counts of the x column\n",
        "  counts = (df_2[x].value_counts()*100/len(df_2)).round(1)\n",
        "  \n",
        "  # Create a barplot using the value counts\n",
        "  sns.barplot(x=counts.index, y=counts.values, order = counts.index )\n",
        "  plt.title(str(x)) \n",
        "  plt.xticks(rotation = 20)\n",
        "  #plt.xlabel(str(x))\n",
        "  for idx,y in enumerate(counts.values):\n",
        "    plt.text(idx,y+1,'{} %'.format(y), ha ='center')\n",
        "    #\n",
        "plt.show()\n"
      ]
    },
    {
      "cell_type": "markdown",
      "source": [
        "- We can see that `24%` of total bookings occures during `july` and `August`. \n",
        "- While only `11%` of total bookings occures during `january` and `November`.\n",
        "We can look into yearwise distributions later to see if this trend keeps up.\n",
        "- The favourite meal is `BB   (Breakfast in Bed)` with `77%` of total orders\n",
        "-`Online TA/TO` (Travel agent/Tour Operator) is the most prefered medium of bookings with the `59%` of total number of bookings\n",
        "- `Room type A` is more prefered by the customer followed by `D` and `E`. `H` is the least prefered room. \n",
        " Later we can check if the demand has a correlation with the price the room. \n",
        "- `No deposit bookings` account for the majority of bookings\n",
        "- `Customer type transient` makes the majority of bookings followed by `Transient party` and `Contract type`"
      ],
      "metadata": {
        "id": "C3JDaF6weRI_"
      }
    },
    {
      "cell_type": "markdown",
      "metadata": {
        "id": "5ZhUL5Jjis2r"
      },
      "source": [
        "## **Univariate Analysis Questions**"
      ]
    },
    {
      "cell_type": "markdown",
      "metadata": {
        "id": "HQ5dhGPVin8K"
      },
      "source": [
        "[ Hints : - Do the Vizualization in a structured way while following \"UBM\" Rule.\n",
        "\n",
        "U - Univariate Analysis,\n",
        "\n",
        "B - Bivariate Analysis (Numerical - Categorical, Numerical - Numerical, Categorical - Categorical)\n",
        "\n",
        "M - Multivariate Analysis ]\n",
        "\n",
        "\n",
        "\n",
        "\n",
        "\n",
        "\n",
        "\n",
        "\n",
        "\n",
        "\n",
        "\n",
        "\n",
        "\n",
        "\n",
        "\n",
        "\n",
        "\n",
        "\n",
        "\n",
        "\n",
        "\n",
        "\n",
        "\n",
        "\n",
        "\n",
        "\n",
        "\n",
        "\n",
        "\n",
        "\n",
        "\n",
        "\n",
        "\n",
        "\n",
        "\n",
        "\n",
        "\n",
        "\n",
        "\n",
        "\n",
        "\n",
        "\n",
        "\n",
        "\n",
        "\n",
        "\n",
        "\n",
        "\n",
        "\n",
        "\n",
        "\n",
        "\n",
        "\n",
        "\n",
        "\n",
        "\n",
        "\n",
        "\n",
        "\n",
        "\n",
        "\n",
        "\n",
        "\n",
        "\n",
        "\n",
        "\n",
        "\n",
        "\n",
        "\n",
        "\n",
        "\n",
        "\n",
        "\n",
        "\n",
        "\n",
        "\n",
        "\n",
        "\n",
        "\n",
        "\n",
        "\n",
        "\n",
        "\n",
        "\n",
        "\n",
        "\n",
        "\n",
        "\n",
        "\n",
        "\n",
        "\n",
        "\n",
        "\n",
        "\n",
        "\n",
        "\n",
        "\n",
        "\n",
        "\n",
        "\n",
        "\n",
        "\n",
        "\n",
        "\n",
        "\n",
        "\n",
        "\n",
        "\n",
        "\n",
        "\n",
        "\n",
        "\n",
        "\n",
        "\n",
        "\n",
        "\n",
        "\n",
        "\n",
        "\n",
        "\n",
        "\n",
        "\n",
        "\n",
        "\n",
        "\n",
        "\n",
        "\n",
        "\n",
        "\n",
        "\n",
        "\n",
        "\n",
        "\n",
        "\n",
        "\n",
        "\n",
        "\n",
        "\n",
        "\n",
        "\n",
        "\n",
        "\n",
        "\n",
        "\n",
        "\n",
        "\n",
        "\n",
        "\n",
        "\n",
        "\n",
        "\n",
        "\n",
        "\n",
        "\n",
        "\n",
        "\n",
        "\n",
        "\n",
        "\n",
        "\n",
        "\n",
        "\n",
        "\n",
        "\n",
        "\n",
        "\n",
        "\n",
        "\n",
        "+"
      ]
    },
    {
      "cell_type": "markdown",
      "metadata": {
        "id": "GKriEuS8p3OG"
      },
      "source": [
        "#### 1. What is the trend of **bookings** over **month**, **week** and **day**?\n",
        "#### Chart-1"
      ]
    },
    {
      "cell_type": "code",
      "execution_count": null,
      "metadata": {
        "colab": {
          "base_uri": "https://localhost:8080/",
          "height": 368
        },
        "id": "kYr490Xq4atA",
        "outputId": "214aed87-96fa-4ad2-b14d-6816e315e025"
      },
      "outputs": [
        {
          "data": {
            "text/plain": [
              "(array([-5.,  0.,  5., 10., 15., 20., 25., 30., 35.]),\n",
              " <a list of 9 Text major ticklabel objects>)"
            ]
          },
          "execution_count": 49,
          "metadata": {},
          "output_type": "execute_result"
        },
        {
          "data": {
            "image/png": "[encoded data removed]",
            "text/plain": [
              "<Figure size 1800x360 with 3 Axes>"
            ]
          },
          "metadata": {},
          "output_type": "display_data"
        }
      ],
      "source": [
        "# Now lets plot the categorical ordinal variables\n",
        "cat_columns_ordinal =['arrival_date_month', 'arrival_date_week_number', 'arrival_date_day_of_month']\n",
        "# Create histogram\n",
        "\n",
        "plt.figure(figsize = [25  , 5]) \n",
        "\n",
        "  # 1 row, 3 cols, subplot i+1 since subplot starts from 1\n",
        "plt.subplot(1, 3, 1)\n",
        "#bins = ['January', 'February', 'March', 'April', 'May', 'June',\n",
        "#        'July', 'August', 'September', 'October', 'November', 'December',]  \n",
        "x=cat_columns_ordinal[0]\n",
        "plt.hist(df_2[x], bins = 12)\n",
        "plt.xlabel(str(x))\n",
        "plt.xticks(rotation = 20)\n",
        "\n",
        "plt.subplot(1, 3, 2)\n",
        "  \n",
        "x=cat_columns_ordinal[1]\n",
        "plt.hist(df_2[x], bins = 53)\n",
        "plt.xlabel(str(x))\n",
        "plt.xticks(rotation = 20)\n",
        "\n",
        "plt.subplot(1, 3, 3)\n",
        "  \n",
        "x=cat_columns_ordinal[2]\n",
        "plt.hist(df_2[x], bins = 31)\n",
        "plt.xlabel(str(x))\n",
        "plt.xticks(rotation = 20)\n",
        "#bins = df_1.arrival_date_month.unique()77"
      ]
    },
    {
      "cell_type": "markdown",
      "metadata": {
        "id": "K5QZ13OEpz2H"
      },
      "source": [
        "##### 1. Why did you pick the specific chart?"
      ]
    },
    {
      "cell_type": "markdown",
      "metadata": {
        "id": "XESiWehPqBRc"
      },
      "source": [
        "Histograms helps us to see the distribution of data over categories or a period of time."
      ]
    },
    {
      "cell_type": "markdown",
      "metadata": {
        "id": "lQ7QKXXCp7Bj"
      },
      "source": [
        "##### 2. What is/are the insight(s) found from the chart?"
      ]
    },
    {
      "cell_type": "markdown",
      "metadata": {
        "id": "C_j1G7yiqdRP"
      },
      "source": [
        "Answer Here"
      ]
    },
    {
      "cell_type": "markdown",
      "metadata": {
        "id": "pYA8-Rx2qGXL"
      },
      "source": [
        "- We can see that bookings vary by season and by the day of month"
      ]
    },
    {
      "cell_type": "code",
      "execution_count": null,
      "metadata": {
        "id": "mJsF9_58qK38"
      },
      "outputs": [],
      "source": []
    },
    {
      "cell_type": "markdown",
      "metadata": {
        "id": "448CDAPjqfQr"
      },
      "source": [
        "##### 3. Will the gained insights help creating a positive business impact? \n",
        "Are there any insights that lead to negative growth? Justify with specific reason."
      ]
    },
    {
      "cell_type": "markdown",
      "metadata": {
        "id": "3cspy4FjqxJW"
      },
      "source": [
        "Answer Here"
      ]
    },
    {
      "cell_type": "markdown",
      "metadata": {
        "id": "KSlN3yHqYklG"
      },
      "source": [
        "#### 2. What is the percentage of cancellations?\n",
        "#### Chart - 2"
      ]
    },
    {
      "cell_type": "code",
      "execution_count": null,
      "metadata": {
        "colab": {
          "base_uri": "https://localhost:8080/",
          "height": 336
        },
        "id": "R4YgtaqtYklH",
        "outputId": "0ffde38f-de37-481c-dac0-aae03ebc5d4f"
      },
      "outputs": [
        {
          "data": {
            "image/png": "[encoded data removed]",
            "text/plain": [
              "<Figure size 720x360 with 1 Axes>"
            ]
          },
          "metadata": {},
          "output_type": "display_data"
        }
      ],
      "source": [
        "# Chart - 2 visualization code\n",
        "#identify percentage of cancellations\n",
        "\n",
        "# Get percentage of value counts for 'arrival_date_month' column\n",
        "counts = (df_2['is_canceled'].value_counts()*100/len(df_2)).round(2)\n",
        "\n",
        "# Set figure size\n",
        "plt.figure(figsize = [10  , 5])   \n",
        "\n",
        "# Create a barplot using the value counts\n",
        "sns.barplot(x=counts.index, y=counts.values, order = counts.index )\n",
        "\n",
        "#Rotate x-tick labels for easier reading, add x-label\n",
        "plt.xticks(rotation = 20)\n",
        "plt.xlabel('is_canceled')\n",
        "\n",
        "#Add value count labels on top of each bar\n",
        "for idx,y in enumerate(counts.values):\n",
        "  \n",
        "  #plt.text(x_co-ord, y_co-ord, value, ha(horrizontal alignment))\n",
        "  plt.text(idx,y+0.5,str(y)+'%', ha ='center') \n",
        "plt.show()"
      ]
    },
    {
      "cell_type": "markdown",
      "metadata": {
        "id": "t6dVpIINYklI"
      },
      "source": [
        "\n",
        "\n",
        "\n",
        "\n",
        "\n",
        "\n",
        "##### 1. Why did you pick the specific chart?"
      ]
    },
    {
      "cell_type": "markdown",
      "metadata": {
        "id": "5aaW0BYyYklI"
      },
      "source": [
        "A bar chart makes it easier compare the different categories. Here it helps to visualize and compare the proportion of bookings that were cancelled"
      ]
    },
    {
      "cell_type": "markdown",
      "metadata": {
        "id": "ijmpgYnKYklI"
      },
      "source": [
        "##### 2. What is/are the insight(s) found from the chart?"
      ]
    },
    {
      "cell_type": "markdown",
      "metadata": {
        "id": "PSx9atu2YklI"
      },
      "source": [
        "- From the chart we an see that a good portion (`27%`) of the bookings were cancelled which leads to loss of revenue"
      ]
    },
    {
      "cell_type": "markdown",
      "metadata": {
        "id": "-JiQyfWJYklI"
      },
      "source": [
        "##### 3. Will the gained insights help creating a positive business impact? \n",
        "Are there any insights that lead to negative growth? Justify with specific reason."
      ]
    },
    {
      "cell_type": "markdown",
      "metadata": {
        "id": "BcBbebzrYklV"
      },
      "source": [
        "- The cancellations can lead to negative growth due to a decrease in revenue. Further analysis can be conducted to identify the reason/sources of high cancellations"
      ]
    },
    {
      "cell_type": "markdown",
      "metadata": {
        "id": "EM7whBJCYoAo"
      },
      "source": [
        "#### 3. Which are the prefered Room type, Meal and Medium of Booking?\n",
        "#### Chart - 3"
      ]
    },
    {
      "cell_type": "code",
      "execution_count": null,
      "metadata": {
        "colab": {
          "base_uri": "https://localhost:8080/",
          "height": 352
        },
        "id": "t6GMdE67YoAp",
        "outputId": "048170e3-058b-45b8-b823-1a8a44567446"
      },
      "outputs": [
        {
          "data": {
            "image/png": "[encoded data removed]",
            "text/plain": [
              "<Figure size 1584x360 with 3 Axes>"
            ]
          },
          "metadata": {},
          "output_type": "display_data"
        }
      ],
      "source": [
        "# Chart - 3 visualization code\n",
        "customer_columns =[\"meal\",\"distribution_channel\",\"reserved_room_type\"]\n",
        "\n",
        "# set a larger figure size for subplots\n",
        "plt.figure(figsize = [22  , 5]) \n",
        "for i,x in enumerate(customer_columns):\n",
        "  \n",
        "  # 1 row, 3 cols, subplot i+1 since subplot starts from 1\n",
        "  plt.subplot(1, 3,i+1)\n",
        "  # Get the value counts of the x column\n",
        "  counts = (df_2[x].value_counts()*100/len(df_2)).round(2)\n",
        "  \n",
        "  # Create a barplot using the value counts\n",
        "  sns.barplot(x=counts.index, y=counts.values, order = counts.index )\n",
        "  \n",
        "  plt.xticks(rotation = 20)\n",
        "  plt.xlabel(str(x))\n",
        "  for idx,y in enumerate(counts.values):\n",
        "    plt.text(idx,y+0.5,str(y)+'%', ha ='center') \n",
        "plt.show()"
      ]
    },
    {
      "cell_type": "markdown",
      "metadata": {
        "id": "fge-S5ZAYoAp"
      },
      "source": [
        "##### 1. Why did you pick the specific chart?"
      ]
    },
    {
      "cell_type": "markdown",
      "metadata": {
        "id": "5dBItgRVYoAp"
      },
      "source": [
        "Answer Here."
      ]
    },
    {
      "cell_type": "markdown",
      "metadata": {
        "id": "85gYPyotYoAp"
      },
      "source": [
        "##### 2. What is/are the insight(s) found from the chart?"
      ]
    },
    {
      "cell_type": "markdown",
      "metadata": {
        "id": "4jstXR6OYoAp"
      },
      "source": [
        "Answer Here"
      ]
    },
    {
      "cell_type": "markdown",
      "metadata": {
        "id": "RoGjAbkUYoAp"
      },
      "source": [
        "##### 3. Will the gained insights help creating a positive business impact? \n",
        "Are there any insights that lead to negative growth? Justify with specific reason."
      ]
    },
    {
      "cell_type": "markdown",
      "metadata": {
        "id": "zfJ8IqMcYoAp"
      },
      "source": [
        "Answer Here"
      ]
    },
    {
      "cell_type": "markdown",
      "metadata": {
        "id": "OTk1Xle6dwKq"
      },
      "source": [
        "#### 3. Which are the prefered deposit type?\n",
        "#### Chart - 3"
      ]
    },
    {
      "cell_type": "code",
      "execution_count": null,
      "metadata": {
        "colab": {
          "base_uri": "https://localhost:8080/",
          "height": 352
        },
        "outputId": "048170e3-058b-45b8-b823-1a8a44567446",
        "id": "38z6hPfhdwKq"
      },
      "outputs": [
        {
          "data": {
            "image/png": "[encoded data removed]",
            "text/plain": [
              "<Figure size 1584x360 with 3 Axes>"
            ]
          },
          "metadata": {},
          "output_type": "display_data"
        }
      ],
      "source": [
        "# Chart - 3 visualization code\n",
        "customer_columns =[\"meal\",\"distribution_channel\",\"reserved_room_type\"]\n",
        "\n",
        "# set a larger figure size for subplots\n",
        "plt.figure(figsize = [22  , 5]) \n",
        "for i,x in enumerate(customer_columns):\n",
        "  \n",
        "  # 1 row, 3 cols, subplot i+1 since subplot starts from 1\n",
        "  plt.subplot(1, 3,i+1)\n",
        "  # Get the value counts of the x column\n",
        "  counts = (df_2[x].value_counts()*100/len(df_2)).round(2)\n",
        "  \n",
        "  # Create a barplot using the value counts\n",
        "  sns.barplot(x=counts.index, y=counts.values, order = counts.index )\n",
        "  \n",
        "  plt.xticks(rotation = 20)\n",
        "  plt.xlabel(str(x))\n",
        "  for idx,y in enumerate(counts.values):\n",
        "    plt.text(idx,y+0.5,str(y)+'%', ha ='center') \n",
        "plt.show()"
      ]
    },
    {
      "cell_type": "markdown",
      "metadata": {
        "id": "pqIBYjPMdwKr"
      },
      "source": [
        "##### 1. Why did you pick the specific chart?"
      ]
    },
    {
      "cell_type": "markdown",
      "metadata": {
        "id": "jxdCFy44dwKr"
      },
      "source": [
        "Answer Here."
      ]
    },
    {
      "cell_type": "markdown",
      "metadata": {
        "id": "celXxlmsdwKs"
      },
      "source": [
        "##### 2. What is/are the insight(s) found from the chart?"
      ]
    },
    {
      "cell_type": "markdown",
      "metadata": {
        "id": "fSSRKMjddwKs"
      },
      "source": [
        "Answer Here"
      ]
    },
    {
      "cell_type": "markdown",
      "metadata": {
        "id": "Rd_SbhQ9dwKs"
      },
      "source": [
        "##### 3. Will the gained insights help creating a positive business impact? \n",
        "Are there any insights that lead to negative growth? Justify with specific reason."
      ]
    },
    {
      "cell_type": "markdown",
      "metadata": {
        "id": "IJtNuESidwKs"
      },
      "source": [
        "Answer Here"
      ]
    },
    {
      "cell_type": "markdown",
      "metadata": {
        "id": "mZmrZinTlEKW"
      },
      "source": [
        "## **Bivariate Analysis**"
      ]
    },
    {
      "cell_type": "markdown",
      "metadata": {
        "id": "OH-pJp9IphqM"
      },
      "source": [
        "#### 4. Which Hotel generates highest ADR?\n",
        "#### Chart - 4"
      ]
    },
    {
      "cell_type": "code",
      "execution_count": null,
      "metadata": {
        "colab": {
          "base_uri": "https://localhost:8080/",
          "height": 290
        },
        "id": "r84ImAAL3t8e",
        "outputId": "8b0c5226-06f8-4b0b-8748-30f969b3de2a"
      },
      "outputs": [
        {
          "data": {
            "image/png": "[encoded data removed]",
            "text/plain": [
              "<Figure size 432x288 with 1 Axes>"
            ]
          },
          "metadata": {},
          "output_type": "display_data"
        }
      ],
      "source": [
        "# Chart - 2 visualization code\n",
        "\n",
        "group_1 = pd.DataFrame(df_2[['hotel','adr']].groupby(['hotel']).sum())\n",
        "# Grouping returns a multi-index pandas series. Use pd.DataFrame to convert to a dataframe\n",
        "sns.barplot(data = group_1, x=group_1.index,y='adr')\n",
        "#Add value count labels on top of each bar\n",
        "for idx,y in enumerate(group_1.values):\n",
        "  \n",
        "  #plt.text(x_co-ord, y_co-ord, value, ha(horrizontal alignment))\n",
        "  plt.text(idx,y+(10**5),str((y/10**6).round(2))+' M', ha ='center') \n",
        "plt.show()"
      ]
    },
    {
      "cell_type": "markdown",
      "metadata": {
        "id": "bbFf2-_FphqN"
      },
      "source": [
        "##### 1. Why did you pick the specific chart?"
      ]
    },
    {
      "cell_type": "markdown",
      "metadata": {
        "id": "loh7H2nzphqN"
      },
      "source": [
        "Here the Bar chart helps us to easily visualize and compare the difference in revenue of the two hotels."
      ]
    },
    {
      "cell_type": "markdown",
      "metadata": {
        "id": "_ouA3fa0phqN"
      },
      "source": [
        "##### 2. What is/are the insight(s) found from the chart?"
      ]
    },
    {
      "cell_type": "markdown",
      "metadata": {
        "id": "VECbqPI7phqN"
      },
      "source": [
        "- City Hotel and Resort hotel has generated a revenue of `5.9 M Pounds` and `3.9 M pounds` respectively during the period `2015-05-01` - `2017-09-01`."
      ]
    },
    {
      "cell_type": "markdown",
      "metadata": {
        "id": "Seke61FWphqN"
      },
      "source": [
        "##### 3. Will the gained insights help creating a positive business impact? \n",
        "Are there any insights that lead to negative growth? Justify with specific reason."
      ]
    },
    {
      "cell_type": "markdown",
      "metadata": {
        "id": "DW4_bGpfphqN"
      },
      "source": [
        " - Revenue is a key metric which is used to identify the performance of a hotel. This can help us in the further evaluations."
      ]
    },
    {
      "cell_type": "markdown",
      "metadata": {
        "id": "4Of9eVA-YrdM"
      },
      "source": [
        "#### 5. How does average of ADR varies by Week, Month, Market Segment, Customer type and Room type?\n",
        "#### Chart - 5"
      ]
    },
    {
      "cell_type": "code",
      "execution_count": null,
      "metadata": {
        "colab": {
          "base_uri": "https://localhost:8080/"
        },
        "id": "xKbuWRTflETN",
        "outputId": "9e9e2058-c1f7-45da-d6bc-1431db1d52d7"
      },
      "outputs": [
        {
          "data": {
            "text/plain": [
              "Index(['hotel', 'is_canceled', 'lead_time', 'arrival_date_year',\n",
              "       'arrival_date_month', 'arrival_date_week_number',\n",
              "       'arrival_date_day_of_month', 'stays_in_weekend_nights',\n",
              "       'stays_in_week_nights', 'adults', 'children', 'babies', 'meal',\n",
              "       'country', 'market_segment', 'distribution_channel',\n",
              "       'is_repeated_guest', 'previous_cancellations',\n",
              "       'previous_bookings_not_canceled', 'reserved_room_type',\n",
              "       'assigned_room_type', 'booking_changes', 'deposit_type',\n",
              "       'days_in_waiting_list', 'customer_type', 'adr',\n",
              "       'required_car_parking_spaces', 'total_of_special_requests',\n",
              "       'reservation_status', 'reservation_status_date'],\n",
              "      dtype='object')"
            ]
          },
          "execution_count": 25,
          "metadata": {},
          "output_type": "execute_result"
        }
      ],
      "source": [
        "df_2.columns"
      ]
    },
    {
      "cell_type": "code",
      "execution_count": 21,
      "metadata": {
        "colab": {
          "base_uri": "https://localhost:8080/",
          "height": 894
        },
        "id": "irlUoxc8YrdO",
        "outputId": "f859ed3f-abfb-4b08-ce3c-18ef2828fabf"
      },
      "outputs": [
        {
          "output_type": "execute_result",
          "data": {
            "text/plain": [
              "<matplotlib.axes._subplots.AxesSubplot at 0x7fa38450a2b0>"
            ]
          },
          "metadata": {},
          "execution_count": 21
        },
        {
          "output_type": "display_data",
          "data": {
            "text/plain": [
              "<Figure size 432x288 with 1 Axes>"
            ],
            "image/png": "[encoded data removed]"
          },
          "metadata": {
            "needs_background": "light"
          }
        },
        {
          "output_type": "display_data",
          "data": {
            "text/plain": [
              "<Figure size 432x288 with 1 Axes>"
            ],
            "image/png": "[encoded data removed]"
          },
          "metadata": {
            "needs_background": "light"
          }
        },
        {
          "output_type": "display_data",
          "data": {
            "text/plain": [
              "<Figure size 432x288 with 1 Axes>"
            ],
            "image/png": "[encoded data removed]"
          },
          "metadata": {
            "needs_background": "light"
          }
        }
      ],
      "source": [
        "# Chart - 4 visualization code\n",
        "df_2[['adr','arrival_date_week_number']].groupby('arrival_date_week_number').mean().plot()\n",
        "df_2[['adr','reserved_room_type']].groupby('reserved_room_type').mean().sort_values(by='adr', ascending =False).plot(kind='bar')\n",
        "df_2[['adr','market_segment']].groupby('market_segment').mean().sort_values(by='adr', ascending =False).plot(kind='bar')"
      ]
    },
    {
      "cell_type": "markdown",
      "metadata": {
        "id": "iky9q4vBYrdO"
      },
      "source": [
        "##### 1. Why did you pick the specific chart?"
      ]
    },
    {
      "cell_type": "markdown",
      "metadata": {
        "id": "aJRCwT6DYrdO"
      },
      "source": [
        "- Here the line chart helps to see the trend of ADR over time, while the bar chart helps to compare different categories."
      ]
    },
    {
      "cell_type": "markdown",
      "metadata": {
        "id": "F6T5p64dYrdO"
      },
      "source": [
        "##### 2. What is/are the insight(s) found from the chart?"
      ]
    },
    {
      "cell_type": "markdown",
      "metadata": {
        "id": "Xx8WAJvtYrdO"
      },
      "source": [
        "- The peak in average `ADR` occurs during the `weeks 30-35` which can be correlated to high booking demand.\n",
        "- This might be due to the hotels adjusting the room rates for the higher demand and increased sales of other amenities. \n",
        "- The rooms which generates the highest `ADR` are `H` followed `G`, and `F`\n",
        "- The market segment which generates highest `ADR` are `Online Travel Agent` followed by `Direct Booking` and `Aviation`\n"
      ]
    },
    {
      "cell_type": "markdown",
      "metadata": {
        "id": "y-Ehk30pYrdP"
      },
      "source": [
        "##### 3. Will the gained insights help creating a positive business impact? \n",
        "- Since online TA generates high ADR the management can direct its marketing towards online mediums to increase its visibility on these platforms and potentially capture more bookings."
      ]
    },
    {
      "cell_type": "markdown",
      "metadata": {
        "id": "jLNxxz7MYrdP"
      },
      "source": [
        "Answer Here"
      ]
    },
    {
      "cell_type": "markdown",
      "metadata": {
        "id": "PIIx-8_IphqN"
      },
      "source": [
        "#### 6. Which hotel has highest cancellations?\n",
        "#### Chart - 6"
      ]
    },
    {
      "cell_type": "code",
      "execution_count": null,
      "metadata": {
        "colab": {
          "base_uri": "https://localhost:8080/",
          "height": 143
        },
        "id": "B0tXKpNHp43m",
        "outputId": "9bf85f52-e50a-42b7-a35e-1de55a1ce1f6"
      },
      "outputs": [
        {
          "data": {
            "text/html": [
              "\n",
              "  <div id=\"df-5d72dbdc-b61a-4933-9092-98a0d176218d\">\n",
              "    <div class=\"colab-df-container\">\n",
              "      <div>\n",
              "<style scoped>\n",
              "    .dataframe tbody tr th:only-of-type {\n",
              "        vertical-align: middle;\n",
              "    }\n",
              "\n",
              "    .dataframe tbody tr th {\n",
              "        vertical-align: top;\n",
              "    }\n",
              "\n",
              "    .dataframe thead th {\n",
              "        text-align: right;\n",
              "    }\n",
              "</style>\n",
              "<table border=\"1\" class=\"dataframe\">\n",
              "  <thead>\n",
              "    <tr style=\"text-align: right;\">\n",
              "      <th></th>\n",
              "      <th>is_canceled</th>\n",
              "    </tr>\n",
              "    <tr>\n",
              "      <th>hotel</th>\n",
              "      <th></th>\n",
              "    </tr>\n",
              "  </thead>\n",
              "  <tbody>\n",
              "    <tr>\n",
              "      <th>City Hotel</th>\n",
              "      <td>61.56</td>\n",
              "    </tr>\n",
              "    <tr>\n",
              "      <th>Resort Hotel</th>\n",
              "      <td>38.44</td>\n",
              "    </tr>\n",
              "  </tbody>\n",
              "</table>\n",
              "</div>\n",
              "      <button class=\"colab-df-convert\" onclick=\"convertToInteractive('df-5d72dbdc-b61a-4933-9092-98a0d176218d')\"\n",
              "              title=\"Convert this dataframe to an interactive table.\"\n",
              "              style=\"display:none;\">\n",
              "        \n",
              "  <svg xmlns=\"http://www.w3.org/2000/svg\" height=\"24px\"viewBox=\"0 0 24 24\"\n",
              "       width=\"24px\">\n",
              "    <path d=\"M0 0h24v24H0V0z\" fill=\"none\"/>\n",
              "    <path d=\"M18.56 5.44l.94 2.06.94-2.06 2.06-.94-2.06-.94-.94-2.06-.94 2.06-2.06.94zm-11 1L8.5 8.5l.94-2.06 2.06-.94-2.06-.94L8.5 2.5l-.94 2.06-2.06.94zm10 10l.94 2.06.94-2.06 2.06-.94-2.06-.94-.94-2.06-.94 2.06-2.06.94z\"/><path d=\"M17.41 7.96l-1.37-1.37c-.4-.4-.92-.59-1.43-.59-.52 0-1.04.2-1.43.59L10.3 9.45l-7.72 7.72c-.78.78-.78 2.05 0 2.83L4 21.41c.39.39.9.59 1.41.59.51 0 1.02-.2 1.41-.59l7.78-7.78 2.81-2.81c.8-.78.8-2.07 0-2.86zM5.41 20L4 18.59l7.72-7.72 1.47 1.35L5.41 20z\"/>\n",
              "  </svg>\n",
              "      </button>\n",
              "      \n",
              "  <style>\n",
              "    .colab-df-container {\n",
              "      display:flex;\n",
              "      flex-wrap:wrap;\n",
              "      gap: 12px;\n",
              "    }\n",
              "\n",
              "    .colab-df-convert {\n",
              "      background-color: #E8F0FE;\n",
              "      border: none;\n",
              "      border-radius: 50%;\n",
              "      cursor: pointer;\n",
              "      display: none;\n",
              "      fill: #1967D2;\n",
              "      height: 32px;\n",
              "      padding: 0 0 0 0;\n",
              "      width: 32px;\n",
              "    }\n",
              "\n",
              "    .colab-df-convert:hover {\n",
              "      background-color: #E2EBFA;\n",
              "      box-shadow: 0px 1px 2px rgba(60, 64, 67, 0.3), 0px 1px 3px 1px rgba(60, 64, 67, 0.15);\n",
              "      fill: #174EA6;\n",
              "    }\n",
              "\n",
              "    [theme=dark] .colab-df-convert {\n",
              "      background-color: #3B4455;\n",
              "      fill: #D2E3FC;\n",
              "    }\n",
              "\n",
              "    [theme=dark] .colab-df-convert:hover {\n",
              "      background-color: #434B5C;\n",
              "      box-shadow: 0px 1px 3px 1px rgba(0, 0, 0, 0.15);\n",
              "      filter: drop-shadow(0px 1px 2px rgba(0, 0, 0, 0.3));\n",
              "      fill: #FFFFFF;\n",
              "    }\n",
              "  </style>\n",
              "\n",
              "      <script>\n",
              "        const buttonEl =\n",
              "          document.querySelector('#df-5d72dbdc-b61a-4933-9092-98a0d176218d button.colab-df-convert');\n",
              "        buttonEl.style.display =\n",
              "          google.colab.kernel.accessAllowed ? 'block' : 'none';\n",
              "\n",
              "        async function convertToInteractive(key) {\n",
              "          const element = document.querySelector('#df-5d72dbdc-b61a-4933-9092-98a0d176218d');\n",
              "          const dataTable =\n",
              "            await google.colab.kernel.invokeFunction('convertToInteractive',\n",
              "                                                     [key], {});\n",
              "          if (!dataTable) return;\n",
              "\n",
              "          const docLinkHtml = 'Like what you see? Visit the ' +\n",
              "            '<a target=\"_blank\" href=https://colab.research.google.com/notebooks/data_table.ipynb>data table notebook</a>'\n",
              "            + ' to learn more about interactive tables.';\n",
              "          element.innerHTML = '';\n",
              "          dataTable['output_type'] = 'display_data';\n",
              "          await google.colab.output.renderOutput(dataTable, element);\n",
              "          const docLink = document.createElement('div');\n",
              "          docLink.innerHTML = docLinkHtml;\n",
              "          element.appendChild(docLink);\n",
              "        }\n",
              "      </script>\n",
              "    </div>\n",
              "  </div>\n",
              "  "
            ],
            "text/plain": [
              "              is_canceled\n",
              "hotel                    \n",
              "City Hotel          61.56\n",
              "Resort Hotel        38.44"
            ]
          },
          "execution_count": 77,
          "metadata": {},
          "output_type": "execute_result"
        }
      ],
      "source": [
        "counts = (pd.DataFrame(df_2[['hotel','is_canceled']].groupby('hotel').count())*100/len(df_2)).round(2)\n",
        "counts"
      ]
    },
    {
      "cell_type": "code",
      "execution_count": null,
      "metadata": {
        "colab": {
          "base_uri": "https://localhost:8080/",
          "height": 355
        },
        "id": "lqAIGUfyphqO",
        "outputId": "d5b3a48c-fb50-4674-a6bf-87acc4deec26"
      },
      "outputs": [
        {
          "data": {
            "image/png": "[encoded data removed]",
            "text/plain": [
              "<Figure size 720x360 with 1 Axes>"
            ]
          },
          "metadata": {},
          "output_type": "display_data"
        }
      ],
      "source": [
        "# Chart - 7 visualization code\n",
        "\n",
        "#identify percentage of cancellations for each hotel\n",
        "\n",
        "# Get percentage of cancellations for 'hotel' column\n",
        "counts = (pd.DataFrame(df_2[['hotel','is_canceled']].groupby('hotel').count())*100/len(df_2)).round(2)\n",
        "\n",
        "\n",
        "# Set figure size\n",
        "plt.figure(figsize = [10  , 5])   \n",
        "\n",
        "# Create a barplot using the value counts\n",
        "sns.barplot(data=counts,x=counts.index, y=counts.columns[0])\n",
        "\n",
        "#Rotate x-tick labels for easier reading, add x-label\n",
        "plt.xticks(rotation = 20)\n",
        "plt.xlabel('is_canceled')\n",
        "\n",
        "#Add value count labels on top of each bar\n",
        "for idx,y in enumerate(counts.values):\n",
        "  \n",
        "  #plt.text(x_co-ord, y_co-ord, value, ha(horrizontal alignment))\n",
        "  plt.text(idx,y+0.5,str(y)+'%', ha ='center') \n",
        "plt.show()"
      ]
    },
    {
      "cell_type": "markdown",
      "metadata": {
        "id": "t27r6nlMphqO"
      },
      "source": [
        "##### 1. Why did you pick the specific chart?"
      ]
    },
    {
      "cell_type": "markdown",
      "metadata": {
        "id": "iv6ro40sphqO"
      },
      "source": [
        "Answer Here."
      ]
    },
    {
      "cell_type": "markdown",
      "metadata": {
        "id": "r2jJGEOYphqO"
      },
      "source": [
        "##### 2. What is/are the insight(s) found from the chart?"
      ]
    },
    {
      "cell_type": "markdown",
      "metadata": {
        "id": "Po6ZPi4hphqO"
      },
      "source": [
        "Answer Here"
      ]
    },
    {
      "cell_type": "markdown",
      "metadata": {
        "id": "b0JNsNcRphqO"
      },
      "source": [
        "##### 3. Will the gained insights help creating a positive business impact? \n",
        "Are there any insights that lead to negative growth? Justify with specific reason."
      ]
    },
    {
      "cell_type": "markdown",
      "metadata": {
        "id": "xvSq8iUTphqO"
      },
      "source": [
        "Answer Here"
      ]
    },
    {
      "cell_type": "markdown",
      "metadata": {
        "id": "bamQiAODYuh1"
      },
      "source": [
        "#### 7. How does cancellation rate varies by Month , Customer type and Market Segment? \n",
        "#### Chart - 7 stacked bar chart with %"
      ]
    },
    {
      "cell_type": "code",
      "execution_count": null,
      "metadata": {
        "colab": {
          "base_uri": "https://localhost:8080/",
          "height": 301
        },
        "id": "7dDdSyJ6G3Tn",
        "outputId": "cbd4f3ba-dca1-465c-d022-919d5f29598a"
      },
      "outputs": [
        {
          "data": {
            "text/plain": [
              "<matplotlib.axes._subplots.AxesSubplot at 0x7f9562bd4280>"
            ]
          },
          "execution_count": 142,
          "metadata": {},
          "output_type": "execute_result"
        },
        {
          "data": {
            "image/png": "[encoded data removed]",
            "text/plain": [
              "<Figure size 432x288 with 1 Axes>"
            ]
          },
          "metadata": {},
          "output_type": "display_data"
        }
      ],
      "source": [
        "group_1 = pd.DataFrame(df_2[['is_canceled','arrival_date_week_number']].groupby('arrival_date_week_number').count())\n",
        "group_1.iloc[:,0] = group_1.iloc[:,0]*100/len(df_2)#.plot(kind='bar')\n",
        "group_1.plot(kind='bar')"
      ]
    },
    {
      "cell_type": "code",
      "execution_count": null,
      "metadata": {
        "colab": {
          "base_uri": "https://localhost:8080/",
          "height": 895
        },
        "id": "TIJwrbroYuh3",
        "outputId": "c1cb2dac-b39c-4bf2-dd2c-384f81b16084"
      },
      "outputs": [
        {
          "data": {
            "text/plain": [
              "<matplotlib.axes._subplots.AxesSubplot at 0x7f95632c6ca0>"
            ]
          },
          "execution_count": 98,
          "metadata": {},
          "output_type": "execute_result"
        },
        {
          "data": {
            "image/png": "[encoded data removed]",
            "text/plain": [
              "<Figure size 432x288 with 1 Axes>"
            ]
          },
          "metadata": {},
          "output_type": "display_data"
        },
        {
          "data": {
            "image/png": "[encoded data removed]",
            "text/plain": [
              "<Figure size 432x288 with 1 Axes>"
            ]
          },
          "metadata": {},
          "output_type": "display_data"
        },
        {
          "data": {
            "image/png": "[encoded data removed]",
            "text/plain": [
              "<Figure size 432x288 with 1 Axes>"
            ]
          },
          "metadata": {},
          "output_type": "display_data"
        }
      ],
      "source": [
        "# Chart - 5 visualization code\n",
        "# Chart - 4 visualization code\n",
        "(pd.DataFrame(df_2[['is_canceled','arrival_date_week_number']].groupby('arrival_date_week_number').count())*100/len(df_2)).round(2).plot(kind='bar')\n",
        "(pd.DataFrame(df_2[['is_canceled','reserved_room_type']].groupby('reserved_room_type').count())*100/len(df_2)).round(2).plot(kind='bar')\n",
        "(pd.DataFrame(df_2[['is_canceled','market_segment']].groupby('market_segment').count())*100/len(df_2)).round(2).plot(kind='bar')"
      ]
    },
    {
      "cell_type": "markdown",
      "metadata": {
        "id": "QHF8YVU7Yuh3"
      },
      "source": [
        "##### 1. Why did you pick the specific chart?"
      ]
    },
    {
      "cell_type": "markdown",
      "metadata": {
        "id": "dcxuIMRPYuh3"
      },
      "source": [
        "Answer Here."
      ]
    },
    {
      "cell_type": "markdown",
      "metadata": {
        "id": "GwzvFGzlYuh3"
      },
      "source": [
        "##### 2. What is/are the insight(s) found from the chart?"
      ]
    },
    {
      "cell_type": "markdown",
      "metadata": {
        "id": "uyqkiB8YYuh3"
      },
      "source": [
        "Answer Here"
      ]
    },
    {
      "cell_type": "markdown",
      "metadata": {
        "id": "qYpmQ266Yuh3"
      },
      "source": [
        "##### 3. Will the gained insights help creating a positive business impact? \n",
        "Are there any insights that lead to negative growth? Justify with specific reason."
      ]
    },
    {
      "cell_type": "markdown",
      "metadata": {
        "id": "_WtzZ_hCYuh4"
      },
      "source": [
        "Answer Here"
      ]
    },
    {
      "cell_type": "code",
      "execution_count": null,
      "metadata": {
        "id": "36kINW_fn-dL"
      },
      "outputs": [],
      "source": []
    },
    {
      "cell_type": "markdown",
      "metadata": {
        "id": "BZR9WyysphqO"
      },
      "source": [
        "#### 8. Which Customer Type would become a repeated guest?\n",
        "#### Chart - 8 -stacked bar chart with %"
      ]
    },
    {
      "cell_type": "code",
      "execution_count": null,
      "metadata": {
        "colab": {
          "base_uri": "https://localhost:8080/",
          "height": 72
        },
        "id": "TdPTWpAVphqO",
        "outputId": "b60d15af-42e6-4628-98d2-da4e22b68b81"
      },
      "outputs": [
        {
          "data": {
            "application/vnd.google.colaboratory.intrinsic+json": {
              "type": "string"
            },
            "text/plain": [
              "\"columns = ['lead_time', 'stays_in_weekend_nights',\\n       'stays_in_week_nights',\\n       'previous_bookings_not_canceled', 'booking_changes',\\n       'days_in_waiting_list']\\nfor column in columns:\\n  #group_1 = df_2[['is_repeated_guest','total_of_special_requests']]\\n  sns.stripplot(data = df_2,y=column,x='is_repeated_guest')\\n  plt.show()\""
            ]
          },
          "execution_count": 164,
          "metadata": {},
          "output_type": "execute_result"
        }
      ],
      "source": [
        "# Chart - 8 visualization code\n",
        "\"\"\"columns = ['lead_time', 'stays_in_weekend_nights',\n",
        "       'stays_in_week_nights',\n",
        "       'previous_bookings_not_canceled', 'booking_changes',\n",
        "       'days_in_waiting_list']\n",
        "for column in columns:\n",
        "  #group_1 = df_2[['is_repeated_guest','total_of_special_requests']]\n",
        "  sns.stripplot(data = df_2,y=column,x='is_repeated_guest')\n",
        "  plt.show()\"\"\"\n",
        "sns.stripplot(data = df_2,y=column,='is_repeated_guest')"
      ]
    },
    {
      "cell_type": "code",
      "execution_count": null,
      "metadata": {
        "colab": {
          "base_uri": "https://localhost:8080/",
          "height": 266
        },
        "id": "xnCezpOjzCa2",
        "outputId": "482fb5ec-b1d9-48dc-a9b0-13dc0ae48bf4"
      },
      "outputs": [
        {
          "data": {
            "text/plain": [
              "<matplotlib.axes._subplots.AxesSubplot at 0x7f9560832130>"
            ]
          },
          "execution_count": 158,
          "metadata": {},
          "output_type": "execute_result"
        },
        {
          "data": {
            "image/png": "[encoded data removed]",
            "text/plain": [
              "<Figure size 432x288 with 1 Axes>"
            ]
          },
          "metadata": {},
          "output_type": "display_data"
        }
      ],
      "source": [
        "# Create a pie plot of the is_repeated_guest variable\n",
        "#sns.pieplot(x='is_repeated_guest', data=df_1)\n",
        "df_1.groupby('is_repeated_guest').size().plot(kind='pie', y=['1','2'],autopct='%1.0f%%')\n",
        "# Show the plot\n",
        "#plt.show()"
      ]
    },
    {
      "cell_type": "markdown",
      "metadata": {
        "id": "jj7wYXLtphqO"
      },
      "source": [
        "##### 1. Why did you pick the specific chart?"
      ]
    },
    {
      "cell_type": "markdown",
      "metadata": {
        "id": "Ob8u6rCTphqO"
      },
      "source": [
        "Answer Here."
      ]
    },
    {
      "cell_type": "markdown",
      "metadata": {
        "id": "eZrbJ2SmphqO"
      },
      "source": [
        "##### 2. What is/are the insight(s) found from the chart?"
      ]
    },
    {
      "cell_type": "markdown",
      "metadata": {
        "id": "mZtgC_hjphqO"
      },
      "source": [
        "Answer Here"
      ]
    },
    {
      "cell_type": "markdown",
      "metadata": {
        "id": "rFu4xreNphqO"
      },
      "source": [
        "##### 3. Will the gained insights help creating a positive business impact? \n",
        "Are there any insights that lead to negative growth? Justify with specific reason."
      ]
    },
    {
      "cell_type": "markdown",
      "metadata": {
        "id": "ey_0qi68phqO"
      },
      "source": [
        "Answer Here"
      ]
    },
    {
      "cell_type": "markdown",
      "metadata": {
        "id": "YJ55k-q6phqO"
      },
      "source": [
        "#### 9. Does market segment affects Booking changes?\n",
        "#### Chart - 9"
      ]
    },
    {
      "cell_type": "code",
      "execution_count": null,
      "metadata": {
        "colab": {
          "base_uri": "https://localhost:8080/"
        },
        "id": "6OYLZqv65dwv",
        "outputId": "3a36d90f-cb9c-429b-8faf-36d97911d9bc"
      },
      "outputs": [
        {
          "data": {
            "text/plain": [
              "Index(['hotel', 'is_canceled', 'lead_time', 'arrival_date_year',\n",
              "       'arrival_date_month', 'arrival_date_week_number',\n",
              "       'arrival_date_day_of_month', 'stays_in_weekend_nights',\n",
              "       'stays_in_week_nights', 'adults', 'children', 'babies', 'meal',\n",
              "       'country', 'market_segment', 'distribution_channel',\n",
              "       'is_repeated_guest', 'previous_cancellations',\n",
              "       'previous_bookings_not_canceled', 'reserved_room_type',\n",
              "       'assigned_room_type', 'booking_changes', 'deposit_type',\n",
              "       'days_in_waiting_list', 'customer_type', 'adr',\n",
              "       'required_car_parking_spaces', 'total_of_special_requests',\n",
              "       'reservation_status', 'reservation_status_date'],\n",
              "      dtype='object')"
            ]
          },
          "execution_count": 165,
          "metadata": {},
          "output_type": "execute_result"
        }
      ],
      "source": [
        "df_2.columns"
      ]
    },
    {
      "cell_type": "code",
      "execution_count": null,
      "metadata": {
        "colab": {
          "background_save": true,
          "base_uri": "https://localhost:8080/"
        },
        "id": "B2aS4O1ophqO",
        "outputId": "f0013b4f-7cd5-4c5d-cdd9-8abbd82fb66e"
      },
      "outputs": [
        {
          "data": {
            "text/plain": [
              "<matplotlib.axes._subplots.AxesSubplot at 0x7f95628908e0>"
            ]
          },
          "execution_count": 166,
          "metadata": {},
          "output_type": "execute_result"
        },
        {
          "data": {
            "image/png": "[encoded data removed]",
            "text/plain": [
              "<Figure size 432x288 with 1 Axes>"
            ]
          },
          "metadata": {},
          "output_type": "display_data"
        }
      ],
      "source": [
        "# Chart - 9 visualization code\n",
        "sns.stripplot(data = df_2,y='market_segment',x='booking_changes')"
      ]
    },
    {
      "cell_type": "markdown",
      "metadata": {
        "id": "gCFgpxoyphqP"
      },
      "source": [
        "##### 1. Why did you pick the specific chart?"
      ]
    },
    {
      "cell_type": "markdown",
      "metadata": {
        "id": "TVxDimi2phqP"
      },
      "source": [
        "Answer Here."
      ]
    },
    {
      "cell_type": "markdown",
      "metadata": {
        "id": "OVtJsKN_phqQ"
      },
      "source": [
        "##### 2. What is/are the insight(s) found from the chart?"
      ]
    },
    {
      "cell_type": "markdown",
      "metadata": {
        "id": "ngGi97qjphqQ"
      },
      "source": [
        "Answer Here"
      ]
    },
    {
      "cell_type": "markdown",
      "metadata": {
        "id": "lssrdh5qphqQ"
      },
      "source": [
        "##### 3. Will the gained insights help creating a positive business impact? \n",
        "Are there any insights that lead to negative growth? Justify with specific reason."
      ]
    },
    {
      "cell_type": "markdown",
      "metadata": {
        "id": "tBpY5ekJphqQ"
      },
      "source": [
        "Answer Here"
      ]
    },
    {
      "cell_type": "markdown",
      "metadata": {
        "id": "U2RJ9gkRphqQ"
      },
      "source": [
        "#### 10. Is there any relationship between Lead Time and Cancellation Rate?\n",
        "#### Chart - 10"
      ]
    },
    {
      "cell_type": "code",
      "execution_count": null,
      "metadata": {
        "id": "GM7a4YP4phqQ"
      },
      "outputs": [],
      "source": [
        "# Chart - 10 visualization code"
      ]
    },
    {
      "cell_type": "markdown",
      "metadata": {
        "id": "1M8mcRywphqQ"
      },
      "source": [
        "##### 1. Why did you pick the specific chart?"
      ]
    },
    {
      "cell_type": "markdown",
      "metadata": {
        "id": "8agQvks0phqQ"
      },
      "source": [
        "Answer Here."
      ]
    },
    {
      "cell_type": "markdown",
      "metadata": {
        "id": "tgIPom80phqQ"
      },
      "source": [
        "##### 2. What is/are the insight(s) found from the chart?"
      ]
    },
    {
      "cell_type": "markdown",
      "metadata": {
        "id": "Qp13pnNzphqQ"
      },
      "source": [
        "Answer Here"
      ]
    },
    {
      "cell_type": "markdown",
      "metadata": {
        "id": "JMzcOPDDphqR"
      },
      "source": [
        "##### 3. Will the gained insights help creating a positive business impact? \n",
        "Are there any insights that lead to negative growth? Justify with specific reason."
      ]
    },
    {
      "cell_type": "markdown",
      "metadata": {
        "id": "R4Ka1PC2phqR"
      },
      "source": [
        "Answer Here"
      ]
    },
    {
      "cell_type": "markdown",
      "metadata": {
        "id": "d5dP_MazeSQ1"
      },
      "source": [
        "#### 10. Is there any relationship between Deposit type and Cancellation Rate?\n",
        "#### Chart - 10"
      ]
    },
    {
      "cell_type": "code",
      "execution_count": null,
      "metadata": {
        "id": "vYQ4INZ5eSQ1"
      },
      "outputs": [],
      "source": [
        "# Chart - 10 visualization code"
      ]
    },
    {
      "cell_type": "markdown",
      "metadata": {
        "id": "b1PYqozveSQ1"
      },
      "source": [
        "##### 1. Why did you pick the specific chart?"
      ]
    },
    {
      "cell_type": "markdown",
      "metadata": {
        "id": "FFLb0UMYeSQ2"
      },
      "source": [
        "Answer Here."
      ]
    },
    {
      "cell_type": "markdown",
      "metadata": {
        "id": "W9fasnFUeSQ2"
      },
      "source": [
        "##### 2. What is/are the insight(s) found from the chart?"
      ]
    },
    {
      "cell_type": "markdown",
      "metadata": {
        "id": "YlhZmLXzeSQ2"
      },
      "source": [
        "Answer Here"
      ]
    },
    {
      "cell_type": "markdown",
      "metadata": {
        "id": "brV7SCAFeSQ2"
      },
      "source": [
        "##### 3. Will the gained insights help creating a positive business impact? \n",
        "Are there any insights that lead to negative growth? Justify with specific reason."
      ]
    },
    {
      "cell_type": "markdown",
      "metadata": {
        "id": "Sv6aGqVqeSQ3"
      },
      "source": [
        "Answer Here"
      ]
    },
    {
      "cell_type": "markdown",
      "metadata": {
        "id": "x-EpHcCOp1ci"
      },
      "source": [
        "#### 11. Duration  of stay over months?\n",
        "#### Chart - 11"
      ]
    },
    {
      "cell_type": "code",
      "execution_count": null,
      "metadata": {
        "id": "mAQTIvtqp1cj"
      },
      "outputs": [],
      "source": [
        "# Chart - 11 visualization code"
      ]
    },
    {
      "cell_type": "markdown",
      "metadata": {
        "id": "X_VqEhTip1ck"
      },
      "source": [
        "##### 1. Why did you pick the specific chart?"
      ]
    },
    {
      "cell_type": "markdown",
      "metadata": {
        "id": "-vsMzt_np1ck"
      },
      "source": [
        "Answer Here."
      ]
    },
    {
      "cell_type": "markdown",
      "metadata": {
        "id": "8zGJKyg5p1ck"
      },
      "source": [
        "##### 2. What is/are the insight(s) found from the chart?"
      ]
    },
    {
      "cell_type": "markdown",
      "metadata": {
        "id": "ZYdMsrqVp1ck"
      },
      "source": [
        "Answer Here"
      ]
    },
    {
      "cell_type": "markdown",
      "metadata": {
        "id": "PVzmfK_Ep1ck"
      },
      "source": [
        "##### 3. Will the gained insights help creating a positive business impact? \n",
        "Are there any insights that lead to negative growth? Justify with specific reason."
      ]
    },
    {
      "cell_type": "markdown",
      "metadata": {
        "id": "druuKYZpp1ck"
      },
      "source": [
        "Answer Here"
      ]
    },
    {
      "cell_type": "markdown",
      "metadata": {
        "id": "n3dbpmDWp1ck"
      },
      "source": [
        "#### 12. Duration of stay vs ADR?\n",
        "#### Chart - 12 /chat compare two numerical variables plots - 1.scatter"
      ]
    },
    {
      "cell_type": "code",
      "execution_count": null,
      "metadata": {
        "id": "bwevp1tKp1ck"
      },
      "outputs": [],
      "source": [
        "# Chart - 12 visualization code"
      ]
    },
    {
      "cell_type": "markdown",
      "metadata": {
        "id": "ylSl6qgtp1ck"
      },
      "source": [
        "##### 1. Why did you pick the specific chart?"
      ]
    },
    {
      "cell_type": "markdown",
      "metadata": {
        "id": "m2xqNkiQp1ck"
      },
      "source": [
        "Answer Here."
      ]
    },
    {
      "cell_type": "markdown",
      "metadata": {
        "id": "ZWILFDl5p1ck"
      },
      "source": [
        "##### 2. What is/are the insight(s) found from the chart?"
      ]
    },
    {
      "cell_type": "markdown",
      "metadata": {
        "id": "x-lUsV2mp1ck"
      },
      "source": [
        "Answer Here"
      ]
    },
    {
      "cell_type": "markdown",
      "metadata": {
        "id": "M7G43BXep1ck"
      },
      "source": [
        "##### 3. Will the gained insights help creating a positive business impact? \n",
        "Are there any insights that lead to negative growth? Justify with specific reason."
      ]
    },
    {
      "cell_type": "markdown",
      "metadata": {
        "id": "5wwDJXsLp1cl"
      },
      "source": [
        "Answer Here"
      ]
    },
    {
      "cell_type": "markdown",
      "source": [
        "### Multi Variate Visualization"
      ],
      "metadata": {
        "id": "YKGNM3yMPjYJ"
      }
    },
    {
      "cell_type": "markdown",
      "metadata": {
        "id": "8cZljQNkfDg_"
      },
      "source": [
        "#### Chart - 14"
      ]
    },
    {
      "cell_type": "code",
      "execution_count": null,
      "metadata": {
        "id": "tAOMYKF5fDg_",
        "colab": {
          "base_uri": "https://localhost:8080/"
        },
        "outputId": "8ef2f9d3-58e2-453a-a883-01f9145f2d5a"
      },
      "outputs": [
        {
          "output_type": "execute_result",
          "data": {
            "text/plain": [
              "hotel             City Hotel       Resort Hotel      \n",
              "is_canceled                0     1            0     1\n",
              "arrival_date_year                                    \n",
              "2015                    5128  1321         5381  1123\n",
              "2016                   18969  7787        11968  3400\n",
              "2017                   13126  6838         8062  3271"
            ],
            "text/html": [
              "\n",
              "  <div id=\"df-f64f5950-ace4-41b0-9ea9-671c44032984\">\n",
              "    <div class=\"colab-df-container\">\n",
              "      <div>\n",
              "<style scoped>\n",
              "    .dataframe tbody tr th:only-of-type {\n",
              "        vertical-align: middle;\n",
              "    }\n",
              "\n",
              "    .dataframe tbody tr th {\n",
              "        vertical-align: top;\n",
              "    }\n",
              "\n",
              "    .dataframe thead tr th {\n",
              "        text-align: left;\n",
              "    }\n",
              "\n",
              "    .dataframe thead tr:last-of-type th {\n",
              "        text-align: right;\n",
              "    }\n",
              "</style>\n",
              "<table border=\"1\" class=\"dataframe\">\n",
              "  <thead>\n",
              "    <tr>\n",
              "      <th>hotel</th>\n",
              "      <th colspan=\"2\" halign=\"left\">City Hotel</th>\n",
              "      <th colspan=\"2\" halign=\"left\">Resort Hotel</th>\n",
              "    </tr>\n",
              "    <tr>\n",
              "      <th>is_canceled</th>\n",
              "      <th>0</th>\n",
              "      <th>1</th>\n",
              "      <th>0</th>\n",
              "      <th>1</th>\n",
              "    </tr>\n",
              "    <tr>\n",
              "      <th>arrival_date_year</th>\n",
              "      <th></th>\n",
              "      <th></th>\n",
              "      <th></th>\n",
              "      <th></th>\n",
              "    </tr>\n",
              "  </thead>\n",
              "  <tbody>\n",
              "    <tr>\n",
              "      <th>2015</th>\n",
              "      <td>5128</td>\n",
              "      <td>1321</td>\n",
              "      <td>5381</td>\n",
              "      <td>1123</td>\n",
              "    </tr>\n",
              "    <tr>\n",
              "      <th>2016</th>\n",
              "      <td>18969</td>\n",
              "      <td>7787</td>\n",
              "      <td>11968</td>\n",
              "      <td>3400</td>\n",
              "    </tr>\n",
              "    <tr>\n",
              "      <th>2017</th>\n",
              "      <td>13126</td>\n",
              "      <td>6838</td>\n",
              "      <td>8062</td>\n",
              "      <td>3271</td>\n",
              "    </tr>\n",
              "  </tbody>\n",
              "</table>\n",
              "</div>\n",
              "      <button class=\"colab-df-convert\" onclick=\"convertToInteractive('df-f64f5950-ace4-41b0-9ea9-671c44032984')\"\n",
              "              title=\"Convert this dataframe to an interactive table.\"\n",
              "              style=\"display:none;\">\n",
              "        \n",
              "  <svg xmlns=\"http://www.w3.org/2000/svg\" height=\"24px\"viewBox=\"0 0 24 24\"\n",
              "       width=\"24px\">\n",
              "    <path d=\"M0 0h24v24H0V0z\" fill=\"none\"/>\n",
              "    <path d=\"M18.56 5.44l.94 2.06.94-2.06 2.06-.94-2.06-.94-.94-2.06-.94 2.06-2.06.94zm-11 1L8.5 8.5l.94-2.06 2.06-.94-2.06-.94L8.5 2.5l-.94 2.06-2.06.94zm10 10l.94 2.06.94-2.06 2.06-.94-2.06-.94-.94-2.06-.94 2.06-2.06.94z\"/><path d=\"M17.41 7.96l-1.37-1.37c-.4-.4-.92-.59-1.43-.59-.52 0-1.04.2-1.43.59L10.3 9.45l-7.72 7.72c-.78.78-.78 2.05 0 2.83L4 21.41c.39.39.9.59 1.41.59.51 0 1.02-.2 1.41-.59l7.78-7.78 2.81-2.81c.8-.78.8-2.07 0-2.86zM5.41 20L4 18.59l7.72-7.72 1.47 1.35L5.41 20z\"/>\n",
              "  </svg>\n",
              "      </button>\n",
              "      \n",
              "  <style>\n",
              "    .colab-df-container {\n",
              "      display:flex;\n",
              "      flex-wrap:wrap;\n",
              "      gap: 12px;\n",
              "    }\n",
              "\n",
              "    .colab-df-convert {\n",
              "      background-color: #E8F0FE;\n",
              "      border: none;\n",
              "      border-radius: 50%;\n",
              "      cursor: pointer;\n",
              "      display: none;\n",
              "      fill: #1967D2;\n",
              "      height: 32px;\n",
              "      padding: 0 0 0 0;\n",
              "      width: 32px;\n",
              "    }\n",
              "\n",
              "    .colab-df-convert:hover {\n",
              "      background-color: #E2EBFA;\n",
              "      box-shadow: 0px 1px 2px rgba(60, 64, 67, 0.3), 0px 1px 3px 1px rgba(60, 64, 67, 0.15);\n",
              "      fill: #174EA6;\n",
              "    }\n",
              "\n",
              "    [theme=dark] .colab-df-convert {\n",
              "      background-color: #3B4455;\n",
              "      fill: #D2E3FC;\n",
              "    }\n",
              "\n",
              "    [theme=dark] .colab-df-convert:hover {\n",
              "      background-color: #434B5C;\n",
              "      box-shadow: 0px 1px 3px 1px rgba(0, 0, 0, 0.15);\n",
              "      filter: drop-shadow(0px 1px 2px rgba(0, 0, 0, 0.3));\n",
              "      fill: #FFFFFF;\n",
              "    }\n",
              "  </style>\n",
              "\n",
              "      <script>\n",
              "        const buttonEl =\n",
              "          document.querySelector('#df-f64f5950-ace4-41b0-9ea9-671c44032984 button.colab-df-convert');\n",
              "        buttonEl.style.display =\n",
              "          google.colab.kernel.accessAllowed ? 'block' : 'none';\n",
              "\n",
              "        async function convertToInteractive(key) {\n",
              "          const element = document.querySelector('#df-f64f5950-ace4-41b0-9ea9-671c44032984');\n",
              "          const dataTable =\n",
              "            await google.colab.kernel.invokeFunction('convertToInteractive',\n",
              "                                                     [key], {});\n",
              "          if (!dataTable) return;\n",
              "\n",
              "          const docLinkHtml = 'Like what you see? Visit the ' +\n",
              "            '<a target=\"_blank\" href=https://colab.research.google.com/notebooks/data_table.ipynb>data table notebook</a>'\n",
              "            + ' to learn more about interactive tables.';\n",
              "          element.innerHTML = '';\n",
              "          dataTable['output_type'] = 'display_data';\n",
              "          await google.colab.output.renderOutput(dataTable, element);\n",
              "          const docLink = document.createElement('div');\n",
              "          docLink.innerHTML = docLinkHtml;\n",
              "          element.appendChild(docLink);\n",
              "        }\n",
              "      </script>\n",
              "    </div>\n",
              "  </div>\n",
              "  "
            ]
          },
          "metadata": {},
          "execution_count": 15
        },
        {
          "output_type": "display_data",
          "data": {
            "text/plain": [
              "<Figure size 432x288 with 1 Axes>"
            ],
            "image/png": "[encoded data removed]"
          },
          "metadata": {
            "needs_background": "light"
          }
        }
      ],
      "source": [
        "# Chart - 13 visualization code\n",
        "pivot_1 = pd.pivot_table(df_2, index=['arrival_date_year'], columns=['hotel','is_canceled'], aggfunc='size')\n",
        "pivot_1.plot(kind ='bar',color=['#0ebded','#1c6a80','#0bb52a','#077319'])\n",
        "pivot_1"
      ]
    },
    {
      "cell_type": "markdown",
      "metadata": {
        "id": "zZVcvF_ifDhA"
      },
      "source": [
        "##### 1. Why did you pick the specific chart?"
      ]
    },
    {
      "cell_type": "markdown",
      "metadata": {
        "id": "XcdAri3YfDhA"
      },
      "source": [
        "Answer Here."
      ]
    },
    {
      "cell_type": "markdown",
      "metadata": {
        "id": "Hq6nAkKWfDhA"
      },
      "source": [
        "##### 2. What is/are the insight(s) found from the chart?"
      ]
    },
    {
      "cell_type": "markdown",
      "metadata": {
        "id": "DTbT2NrGfDhA"
      },
      "source": [
        "Answer Here"
      ]
    },
    {
      "cell_type": "markdown",
      "metadata": {
        "id": "dGNbNPHSfDhB"
      },
      "source": [
        "##### 3. Will the gained insights help creating a positive business impact? \n",
        "Are there any insights that lead to negative growth? Justify with specific reason."
      ]
    },
    {
      "cell_type": "markdown",
      "metadata": {
        "id": "uBr77pipfDhB"
      },
      "source": [
        "Answer Here"
      ]
    },
    {
      "cell_type": "markdown",
      "metadata": {
        "id": "Ag9LCva-p1cl"
      },
      "source": [
        "#### Chart - 13 - ADR vs No. of bookings vs hotel  over time- Line plot and bar plot combined"
      ]
    },
    {
      "cell_type": "code",
      "execution_count": null,
      "metadata": {
        "id": "EUfxeq9-p1cl"
      },
      "outputs": [],
      "source": [
        "# Chart - 13 visualization code\n"
      ]
    },
    {
      "cell_type": "markdown",
      "metadata": {
        "id": "E6MkPsBcp1cl"
      },
      "source": [
        "##### 1. Why did you pick the specific chart?"
      ]
    },
    {
      "cell_type": "markdown",
      "metadata": {
        "id": "V22bRsFWp1cl"
      },
      "source": [
        "Answer Here."
      ]
    },
    {
      "cell_type": "markdown",
      "metadata": {
        "id": "2cELzS2fp1cl"
      },
      "source": [
        "##### 2. What is/are the insight(s) found from the chart?"
      ]
    },
    {
      "cell_type": "markdown",
      "metadata": {
        "id": "ozQPc2_Ip1cl"
      },
      "source": [
        "Answer Here"
      ]
    },
    {
      "cell_type": "markdown",
      "metadata": {
        "id": "3MPXvC8up1cl"
      },
      "source": [
        "##### 3. Will the gained insights help creating a positive business impact? \n",
        "Are there any insights that lead to negative growth? Justify with specific reason."
      ]
    },
    {
      "cell_type": "markdown",
      "metadata": {
        "id": "GL8l1tdLp1cl"
      },
      "source": [
        "Answer Here"
      ]
    },
    {
      "cell_type": "markdown",
      "metadata": {
        "id": "q29F0dvdveiT"
      },
      "source": [
        "#### Chart - 15 - Pair Plot "
      ]
    },
    {
      "cell_type": "code",
      "execution_count": null,
      "metadata": {
        "id": "o58-TEIhveiU"
      },
      "outputs": [],
      "source": [
        "# Pair Plot visualization code"
      ]
    },
    {
      "cell_type": "markdown",
      "metadata": {
        "id": "EXh0U9oCveiU"
      },
      "source": [
        "##### 1. Why did you pick the specific chart?"
      ]
    },
    {
      "cell_type": "markdown",
      "metadata": {
        "id": "eMmPjTByveiU"
      },
      "source": [
        "Answer Here."
      ]
    },
    {
      "cell_type": "markdown",
      "metadata": {
        "id": "22aHeOlLveiV"
      },
      "source": [
        "##### 2. What is/are the insight(s) found from the chart?"
      ]
    },
    {
      "cell_type": "markdown",
      "metadata": {
        "id": "uPQ8RGwHveiV"
      },
      "source": [
        "Answer Here"
      ]
    },
    {
      "cell_type": "markdown",
      "metadata": {
        "id": "NC_X3p0fY2L0"
      },
      "source": [
        "#### Chart - 14 - Correlation Heatmap"
      ]
    },
    {
      "cell_type": "code",
      "execution_count": null,
      "metadata": {
        "id": "xyC9zolEZNRQ",
        "colab": {
          "base_uri": "https://localhost:8080/"
        },
        "outputId": "d62c22f9-f566-4799-80fe-e48440cc40f9"
      },
      "outputs": [
        {
          "output_type": "execute_result",
          "data": {
            "text/plain": [
              "<seaborn.matrix.ClusterGrid at 0x7f29633edd90>"
            ]
          },
          "metadata": {},
          "execution_count": 20
        },
        {
          "output_type": "display_data",
          "data": {
            "text/plain": [
              "<Figure size 792x720 with 4 Axes>"
            ],
            "image/png": "[encoded data removed]"
          },
          "metadata": {
            "needs_background": "light"
          }
        }
      ],
      "source": [
        "# Correlation Heatmap visualization code\n",
        "df_3 = df_2.drop(['arrival_date_day_of_month', 'arrival_date_year',\n",
        "                  'arrival_date_month', 'arrival_date_week_number'], axis=1)\n",
        "sns.clustermap(df_3.corr(),cmap='RdBu',center=0,figsize=(11, 10))"
      ]
    },
    {
      "cell_type": "code",
      "source": [
        "#sorted correlation chart of numerical values\n",
        "\n",
        "mask = (df_3.corr() < 0.1)&(df_3.corr() > -0.1)\n",
        "sns.clustermap(df_3.corr(),cmap='RdBu',center=0,figsize=(11, 10),annot=True,mask=mask)\n",
        "plt.show()"
      ],
      "metadata": {
        "colab": {
          "base_uri": "https://localhost:8080/"
        },
        "id": "Lw3auDL7OjZj",
        "outputId": "a45c2f91-5ad5-4a6a-dcf1-46014a9e4f82"
      },
      "execution_count": null,
      "outputs": [
        {
          "output_type": "display_data",
          "data": {
            "text/plain": [
              "<Figure size 792x720 with 4 Axes>"
            ],
            "image/png": "[encoded data removed]"
          },
          "metadata": {
            "needs_background": "light"
          }
        }
      ]
    },
    {
      "cell_type": "markdown",
      "metadata": {
        "id": "UV0SzAkaZNRQ"
      },
      "source": [
        "##### 1. Why did you pick the specific chart?"
      ]
    },
    {
      "cell_type": "markdown",
      "metadata": {
        "id": "DVPuT8LYZNRQ"
      },
      "source": [
        "Answer Here."
      ]
    },
    {
      "cell_type": "markdown",
      "metadata": {
        "id": "YPEH6qLeZNRQ"
      },
      "source": [
        "##### 2. What is/are the insight(s) found from the chart?"
      ]
    },
    {
      "cell_type": "markdown",
      "metadata": {
        "id": "bfSqtnDqZNRR"
      },
      "source": [
        "- `adr` seems to be positively correlated with children,adults,total_of_special_requests,is_cancelled\n",
        "- `lead_time` seems to be positively correlated with stays_in_weeknd_nights,stays_in_week_nights \n",
        "- `is_repeated_guest` seems to be negatively correlated with adr, is_cancelled,lead_time\n",
        "-is cancelled seems to be positively correlated with lead_time and adr also negatively correlaed with total_of_special_requests\n",
        "Answer Here"
      ]
    },
    {
      "cell_type": "markdown",
      "metadata": {
        "id": "JcMwzZxoAimU"
      },
      "source": [
        "## **5. Solution to Business Objective**"
      ]
    },
    {
      "cell_type": "markdown",
      "metadata": {
        "id": "8G2x9gOozGDZ"
      },
      "source": [
        "#### What do you suggest the client to achieve Business Objective ? \n",
        "Explain Briefly."
      ]
    },
    {
      "cell_type": "markdown",
      "metadata": {
        "id": "pASKb0qOza21"
      },
      "source": [
        "Answer Here."
      ]
    },
    {
      "cell_type": "markdown",
      "metadata": {
        "id": "gCX9965dhzqZ"
      },
      "source": [
        "# **Conclusion**"
      ]
    },
    {
      "cell_type": "markdown",
      "metadata": {
        "id": "Fjb1IsQkh3yE"
      },
      "source": [
        "Write the conclusion here."
      ]
    },
    {
      "cell_type": "markdown",
      "metadata": {
        "id": "gIfDvo9L0UH2"
      },
      "source": [
        "### ***Hurrah! You have successfully completed your EDA Capstone Project !!!***"
      ]
    }
  ],
  "metadata": {
    "colab": {
      "collapsed_sections": [
        "vncDsAP0Gaoa",
        "yQaldy8SH6Dl",
        "PH-0ReGfmX4f",
        "mDgbUHAGgjLW",
        "Y3lxredqlCYt",
        "3RnN4peoiCZX",
        "x71ZqKXriCWQ",
        "7hBIi_osiCS2",
        "JlHwYmJAmNHm",
        "XfoqwwyWezJ9",
        "Dm2BBo8kfATh",
        "nA9Y7ga8ng1Z",
        "PBTbrJXOngz2",
        "bKJF3rekwFvQ",
        "MSa1f5Uengrz",
        "OopIPJDl5Cv9",
        "GKriEuS8p3OG",
        "K5QZ13OEpz2H",
        "lQ7QKXXCp7Bj",
        "448CDAPjqfQr",
        "KSlN3yHqYklG",
        "t6dVpIINYklI",
        "ijmpgYnKYklI",
        "-JiQyfWJYklI",
        "EM7whBJCYoAo",
        "fge-S5ZAYoAp",
        "85gYPyotYoAp",
        "RoGjAbkUYoAp",
        "OTk1Xle6dwKq",
        "OH-pJp9IphqM",
        "bbFf2-_FphqN",
        "_ouA3fa0phqN",
        "Seke61FWphqN",
        "PIIx-8_IphqN",
        "t27r6nlMphqO",
        "r2jJGEOYphqO",
        "b0JNsNcRphqO",
        "bamQiAODYuh1",
        "QHF8YVU7Yuh3",
        "GwzvFGzlYuh3",
        "qYpmQ266Yuh3",
        "BZR9WyysphqO",
        "jj7wYXLtphqO",
        "eZrbJ2SmphqO",
        "rFu4xreNphqO",
        "YJ55k-q6phqO",
        "gCFgpxoyphqP",
        "OVtJsKN_phqQ",
        "lssrdh5qphqQ",
        "U2RJ9gkRphqQ",
        "1M8mcRywphqQ",
        "tgIPom80phqQ",
        "JMzcOPDDphqR",
        "d5dP_MazeSQ1",
        "x-EpHcCOp1ci",
        "X_VqEhTip1ck",
        "8zGJKyg5p1ck",
        "PVzmfK_Ep1ck",
        "n3dbpmDWp1ck",
        "ylSl6qgtp1ck",
        "ZWILFDl5p1ck",
        "8cZljQNkfDg_",
        "Ag9LCva-p1cl",
        "E6MkPsBcp1cl",
        "2cELzS2fp1cl",
        "3MPXvC8up1cl",
        "q29F0dvdveiT",
        "EXh0U9oCveiU",
        "22aHeOlLveiV",
        "NC_X3p0fY2L0",
        "UV0SzAkaZNRQ",
        "YPEH6qLeZNRQ",
        "JcMwzZxoAimU",
        "8G2x9gOozGDZ",
        "gCX9965dhzqZ",
        "gIfDvo9L0UH2"
      ],
      "provenance": [],
      "include_colab_link": true
    },
    "gpuClass": "standard",
    "kernelspec": {
      "display_name": "Python 3",
      "name": "python3"
    },
    "language_info": {
      "name": "python"
    }
  },
  "nbformat": 4,
  "nbformat_minor": 0
}