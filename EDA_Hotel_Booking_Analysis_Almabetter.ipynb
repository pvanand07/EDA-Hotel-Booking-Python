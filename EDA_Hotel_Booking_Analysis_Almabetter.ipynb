{
  "cells": [
    {
      "cell_type": "markdown",
      "metadata": {
        "id": "view-in-github",
        "colab_type": "text"
      },
      "source": [
        "<a href=\"https://colab.research.google.com/github/pvanand07/EDA-Hotel-Booking-Python/blob/master/EDA_Hotel_Booking_Analysis_Almabetter.ipynb\" target=\"_parent\"><img src=\"https://colab.research.google.com/assets/colab-badge.svg\" alt=\"Open In Colab\"/></a>"
      ]
    },
    {
      "cell_type": "markdown",
      "metadata": {
        "id": "vncDsAP0Gaoa"
      },
      "source": [
        "# **Project Name**    -    **Hotel Booking Analysis** \n",
        "\n"
      ]
    },
    {
      "cell_type": "markdown",
      "metadata": {
        "id": "beRrZCGUAJYm"
      },
      "source": [
        "##### **Project Type**    - EDA\n",
        "##### **Contribution**    - Individual\n",
        "##### **Submitted By**    - Anand Siva P V  \n"
      ]
    },
    {
      "cell_type": "markdown",
      "metadata": {
        "id": "FJNUwmbgGyua"
      },
      "source": [
        "# **Project Summary -**"
      ]
    },
    {
      "cell_type": "markdown",
      "metadata": {
        "id": "F6v_1wHtG2nS"
      },
      "source": [
        "This project aims to conduct an exploratory data analysis (EDA) on a dataset of hotel bookings to gain insights on booking patterns and customer behaviour. The analysis will focus on dentifying patterns in bookings and cancellations, customer demographics and preferences, and the effectiveness of different distribution channels.\\\n",
        "The dataset used for this project is available here.\\\n",
        " [Built using jupyter notebook and Python 3]"
      ]
    },
    {
      "cell_type": "markdown",
      "metadata": {
        "id": "w6K7xa23Elo4"
      },
      "source": [
        "# **GitHub Link -**"
      ]
    },
    {
      "cell_type": "markdown",
      "metadata": {
        "id": "h1o69JH3Eqqn"
      },
      "source": [
        "https://github.com/pvanand07/EDA-Hotel-Booking-Python/blob/master/EDA_Hotel_Booking_Analysis_Almabetter.ipynb"
      ]
    },
    {
      "cell_type": "markdown",
      "metadata": {
        "id": "yQaldy8SH6Dl"
      },
      "source": [
        "# **Problem Statement**\n"
      ]
    },
    {
      "cell_type": "markdown",
      "metadata": {
        "id": "DpeJGUA3kjGy"
      },
      "source": [
        "Have you ever wondered when the best time of year to book a hotel room is? Or the optimal length of stay in order to get the best daily rate? What if you wanted to predict whether or not a hotel was likely to receive a disproportionately high number of special requests? This hotel booking dataset can help you explore those questions! This data set contains booking information for a city hotel and a resort hotel, and includes information such as when the booking was made, length of stay, the number of adults, children, and/or babies, and the number of available parking spaces, among other things. All personally identifying information has been removed from the data. Explore and analyse the data to discover important factors that govern the bookings."
      ]
    },
    {
      "cell_type": "markdown",
      "metadata": {
        "id": "PH-0ReGfmX4f"
      },
      "source": [
        "#### **Define Your Business Objective?**"
      ]
    },
    {
      "cell_type": "markdown",
      "metadata": {
        "id": "PhDvGCAqmjP1"
      },
      "source": [
        " The business objectives that this project tries to achieve are \n",
        "- To gain a comprehensive understanding of booking patterns and customer behavior \n",
        "- Understand which amenities and services are most popular among guests\n",
        "- Determine key drivers of occupancy, revenue, and customer satisfaction\n",
        "- Form strategies for increasing occupancy, revenue and customer satisfaction."
      ]
    },
    {
      "cell_type": "markdown",
      "metadata": {
        "id": "ZrxVaUj-hHfC"
      },
      "source": [
        "1.   Well-structured, formatted, and commented code is required. \n",
        "2.   Exception Handling, Production Grade Code & Deployment Ready Code will be a plus. Those students will be awarded some additional credits. \n",
        "     \n",
        "     The additional credits will have advantages over other students during Star Student selection.\n",
        "       \n",
        "             [ Note: - Deployment Ready Code is defined as, the whole .ipynb notebook should be executable in one go\n",
        "                       without a single error logged. ]\n",
        "\n",
        "3.   Each and every logic should have proper comments.\n",
        "4. You may add as many number of charts you want. Make Sure for each and every chart the following format should be answered.\n",
        "        \n",
        "\n",
        "```\n",
        "# Chart visualization code\n",
        "```\n",
        "            \n",
        "\n",
        "*   Why did you pick the specific chart?\n",
        "*   What is/are the insight(s) found from the chart?\n",
        "* Will the gained insights help creating a positive business impact? \n",
        "Are there any insights that lead to negative growth? Justify with specific reason.\n",
        "\n",
        "5. You have to create at least 20 logical & meaningful charts having important insights.\n",
        "\n",
        "\n",
        "[ Hints : - Do the Vizualization in  a structured way while following \"UBM\" Rule. \n",
        "\n",
        "U - Univariate Analysis,\n",
        "\n",
        "B - Bivariate Analysis (Numerical - Categorical, Numerical - Numerical, Categorical - Categorical)\n",
        "\n",
        "M - Multivariate Analysis\n",
        " ]\n",
        "\n",
        "\n",
        "\n"
      ]
    },
    {
      "cell_type": "markdown",
      "metadata": {
        "id": "O_i_v8NEhb9l"
      },
      "source": [
        "# ***Let's Begin !***"
      ]
    },
    {
      "cell_type": "markdown",
      "metadata": {
        "id": "HhfV-JJviCcP"
      },
      "source": [
        "## ***1. Know Your Data***"
      ]
    },
    {
      "cell_type": "markdown",
      "metadata": {
        "id": "Y3lxredqlCYt"
      },
      "source": [
        "### Import Libraries"
      ]
    },
    {
      "cell_type": "code",
      "execution_count": null,
      "metadata": {
        "id": "M8Vqi-pPk-HR"
      },
      "outputs": [],
      "source": [
        "# Import Libraries\n",
        "import pandas as pd\n",
        "import numpy as np\n",
        "import matplotlib.pyplot as plt\n",
        "import seaborn as sns"
      ]
    },
    {
      "cell_type": "markdown",
      "metadata": {
        "id": "3RnN4peoiCZX"
      },
      "source": [
        "### Dataset Loading"
      ]
    },
    {
      "cell_type": "code",
      "execution_count": null,
      "metadata": {
        "id": "4CkvbW_SlZ_R"
      },
      "outputs": [],
      "source": [
        "# Try to load dataset if it is on local directory\n",
        "try:\n",
        "    dataset = pd.read_csv(\"Hotel Bookings.csv\")\n",
        "# Else mount and load from google drive - Only for google colab\n",
        "except:\n",
        "    from google.colab import drive\n",
        "    drive.mount('/content/drive')\n",
        "    dataset = pd.read_csv('/content/drive/MyDrive/Almabetter Projects/Hotel Booking/Hotel Bookings.csv')"
      ]
    },
    {
      "cell_type": "markdown",
      "metadata": {
        "id": "x71ZqKXriCWQ"
      },
      "source": [
        "### Dataset First View"
      ]
    },
    {
      "cell_type": "code",
      "execution_count": null,
      "metadata": {
        "colab": {
          "base_uri": "https://localhost:8080/"
        },
        "id": "LWNFOSvLl09H",
        "outputId": "8d180c62-72f4-4469-fd3f-6603a3df9751"
      },
      "outputs": [
        {
          "data": {
            "text/html": [
              "<div>\n",
              "<style scoped>\n",
              "    .dataframe tbody tr th:only-of-type {\n",
              "        vertical-align: middle;\n",
              "    }\n",
              "\n",
              "    .dataframe tbody tr th {\n",
              "        vertical-align: top;\n",
              "    }\n",
              "\n",
              "    .dataframe thead th {\n",
              "        text-align: right;\n",
              "    }\n",
              "</style>\n",
              "<table border=\"1\" class=\"dataframe\">\n",
              "  <thead>\n",
              "    <tr style=\"text-align: right;\">\n",
              "      <th></th>\n",
              "      <th>0</th>\n",
              "      <th>1</th>\n",
              "      <th>2</th>\n",
              "      <th>3</th>\n",
              "    </tr>\n",
              "  </thead>\n",
              "  <tbody>\n",
              "    <tr>\n",
              "      <th>hotel</th>\n",
              "      <td>Resort Hotel</td>\n",
              "      <td>Resort Hotel</td>\n",
              "      <td>Resort Hotel</td>\n",
              "      <td>Resort Hotel</td>\n",
              "    </tr>\n",
              "    <tr>\n",
              "      <th>is_canceled</th>\n",
              "      <td>0</td>\n",
              "      <td>0</td>\n",
              "      <td>0</td>\n",
              "      <td>0</td>\n",
              "    </tr>\n",
              "    <tr>\n",
              "      <th>lead_time</th>\n",
              "      <td>342</td>\n",
              "      <td>737</td>\n",
              "      <td>7</td>\n",
              "      <td>13</td>\n",
              "    </tr>\n",
              "    <tr>\n",
              "      <th>arrival_date_year</th>\n",
              "      <td>2015</td>\n",
              "      <td>2015</td>\n",
              "      <td>2015</td>\n",
              "      <td>2015</td>\n",
              "    </tr>\n",
              "    <tr>\n",
              "      <th>arrival_date_month</th>\n",
              "      <td>July</td>\n",
              "      <td>July</td>\n",
              "      <td>July</td>\n",
              "      <td>July</td>\n",
              "    </tr>\n",
              "    <tr>\n",
              "      <th>arrival_date_week_number</th>\n",
              "      <td>27</td>\n",
              "      <td>27</td>\n",
              "      <td>27</td>\n",
              "      <td>27</td>\n",
              "    </tr>\n",
              "    <tr>\n",
              "      <th>arrival_date_day_of_month</th>\n",
              "      <td>1</td>\n",
              "      <td>1</td>\n",
              "      <td>1</td>\n",
              "      <td>1</td>\n",
              "    </tr>\n",
              "    <tr>\n",
              "      <th>stays_in_weekend_nights</th>\n",
              "      <td>0</td>\n",
              "      <td>0</td>\n",
              "      <td>0</td>\n",
              "      <td>0</td>\n",
              "    </tr>\n",
              "    <tr>\n",
              "      <th>stays_in_week_nights</th>\n",
              "      <td>0</td>\n",
              "      <td>0</td>\n",
              "      <td>1</td>\n",
              "      <td>1</td>\n",
              "    </tr>\n",
              "    <tr>\n",
              "      <th>adults</th>\n",
              "      <td>2</td>\n",
              "      <td>2</td>\n",
              "      <td>1</td>\n",
              "      <td>1</td>\n",
              "    </tr>\n",
              "    <tr>\n",
              "      <th>children</th>\n",
              "      <td>0.0</td>\n",
              "      <td>0.0</td>\n",
              "      <td>0.0</td>\n",
              "      <td>0.0</td>\n",
              "    </tr>\n",
              "    <tr>\n",
              "      <th>babies</th>\n",
              "      <td>0</td>\n",
              "      <td>0</td>\n",
              "      <td>0</td>\n",
              "      <td>0</td>\n",
              "    </tr>\n",
              "    <tr>\n",
              "      <th>meal</th>\n",
              "      <td>BB</td>\n",
              "      <td>BB</td>\n",
              "      <td>BB</td>\n",
              "      <td>BB</td>\n",
              "    </tr>\n",
              "    <tr>\n",
              "      <th>country</th>\n",
              "      <td>PRT</td>\n",
              "      <td>PRT</td>\n",
              "      <td>GBR</td>\n",
              "      <td>GBR</td>\n",
              "    </tr>\n",
              "    <tr>\n",
              "      <th>market_segment</th>\n",
              "      <td>Direct</td>\n",
              "      <td>Direct</td>\n",
              "      <td>Direct</td>\n",
              "      <td>Corporate</td>\n",
              "    </tr>\n",
              "    <tr>\n",
              "      <th>distribution_channel</th>\n",
              "      <td>Direct</td>\n",
              "      <td>Direct</td>\n",
              "      <td>Direct</td>\n",
              "      <td>Corporate</td>\n",
              "    </tr>\n",
              "    <tr>\n",
              "      <th>is_repeated_guest</th>\n",
              "      <td>0</td>\n",
              "      <td>0</td>\n",
              "      <td>0</td>\n",
              "      <td>0</td>\n",
              "    </tr>\n",
              "    <tr>\n",
              "      <th>previous_cancellations</th>\n",
              "      <td>0</td>\n",
              "      <td>0</td>\n",
              "      <td>0</td>\n",
              "      <td>0</td>\n",
              "    </tr>\n",
              "    <tr>\n",
              "      <th>previous_bookings_not_canceled</th>\n",
              "      <td>0</td>\n",
              "      <td>0</td>\n",
              "      <td>0</td>\n",
              "      <td>0</td>\n",
              "    </tr>\n",
              "    <tr>\n",
              "      <th>reserved_room_type</th>\n",
              "      <td>C</td>\n",
              "      <td>C</td>\n",
              "      <td>A</td>\n",
              "      <td>A</td>\n",
              "    </tr>\n",
              "    <tr>\n",
              "      <th>assigned_room_type</th>\n",
              "      <td>C</td>\n",
              "      <td>C</td>\n",
              "      <td>C</td>\n",
              "      <td>A</td>\n",
              "    </tr>\n",
              "    <tr>\n",
              "      <th>booking_changes</th>\n",
              "      <td>3</td>\n",
              "      <td>4</td>\n",
              "      <td>0</td>\n",
              "      <td>0</td>\n",
              "    </tr>\n",
              "    <tr>\n",
              "      <th>deposit_type</th>\n",
              "      <td>No Deposit</td>\n",
              "      <td>No Deposit</td>\n",
              "      <td>No Deposit</td>\n",
              "      <td>No Deposit</td>\n",
              "    </tr>\n",
              "    <tr>\n",
              "      <th>agent</th>\n",
              "      <td>NaN</td>\n",
              "      <td>NaN</td>\n",
              "      <td>NaN</td>\n",
              "      <td>304.0</td>\n",
              "    </tr>\n",
              "    <tr>\n",
              "      <th>company</th>\n",
              "      <td>NaN</td>\n",
              "      <td>NaN</td>\n",
              "      <td>NaN</td>\n",
              "      <td>NaN</td>\n",
              "    </tr>\n",
              "    <tr>\n",
              "      <th>days_in_waiting_list</th>\n",
              "      <td>0</td>\n",
              "      <td>0</td>\n",
              "      <td>0</td>\n",
              "      <td>0</td>\n",
              "    </tr>\n",
              "    <tr>\n",
              "      <th>customer_type</th>\n",
              "      <td>Transient</td>\n",
              "      <td>Transient</td>\n",
              "      <td>Transient</td>\n",
              "      <td>Transient</td>\n",
              "    </tr>\n",
              "    <tr>\n",
              "      <th>adr</th>\n",
              "      <td>0.0</td>\n",
              "      <td>0.0</td>\n",
              "      <td>75.0</td>\n",
              "      <td>75.0</td>\n",
              "    </tr>\n",
              "    <tr>\n",
              "      <th>required_car_parking_spaces</th>\n",
              "      <td>0</td>\n",
              "      <td>0</td>\n",
              "      <td>0</td>\n",
              "      <td>0</td>\n",
              "    </tr>\n",
              "    <tr>\n",
              "      <th>total_of_special_requests</th>\n",
              "      <td>0</td>\n",
              "      <td>0</td>\n",
              "      <td>0</td>\n",
              "      <td>0</td>\n",
              "    </tr>\n",
              "    <tr>\n",
              "      <th>reservation_status</th>\n",
              "      <td>Check-Out</td>\n",
              "      <td>Check-Out</td>\n",
              "      <td>Check-Out</td>\n",
              "      <td>Check-Out</td>\n",
              "    </tr>\n",
              "    <tr>\n",
              "      <th>reservation_status_date</th>\n",
              "      <td>2015-07-01</td>\n",
              "      <td>2015-07-01</td>\n",
              "      <td>2015-07-02</td>\n",
              "      <td>2015-07-02</td>\n",
              "    </tr>\n",
              "  </tbody>\n",
              "</table>\n",
              "</div>"
            ],
            "text/plain": [
              "                                           0             1             2  \\\n",
              "hotel                           Resort Hotel  Resort Hotel  Resort Hotel   \n",
              "is_canceled                                0             0             0   \n",
              "lead_time                                342           737             7   \n",
              "arrival_date_year                       2015          2015          2015   \n",
              "arrival_date_month                      July          July          July   \n",
              "arrival_date_week_number                  27            27            27   \n",
              "arrival_date_day_of_month                  1             1             1   \n",
              "stays_in_weekend_nights                    0             0             0   \n",
              "stays_in_week_nights                       0             0             1   \n",
              "adults                                     2             2             1   \n",
              "children                                 0.0           0.0           0.0   \n",
              "babies                                     0             0             0   \n",
              "meal                                      BB            BB            BB   \n",
              "country                                  PRT           PRT           GBR   \n",
              "market_segment                        Direct        Direct        Direct   \n",
              "distribution_channel                  Direct        Direct        Direct   \n",
              "is_repeated_guest                          0             0             0   \n",
              "previous_cancellations                     0             0             0   \n",
              "previous_bookings_not_canceled             0             0             0   \n",
              "reserved_room_type                         C             C             A   \n",
              "assigned_room_type                         C             C             C   \n",
              "booking_changes                            3             4             0   \n",
              "deposit_type                      No Deposit    No Deposit    No Deposit   \n",
              "agent                                    NaN           NaN           NaN   \n",
              "company                                  NaN           NaN           NaN   \n",
              "days_in_waiting_list                       0             0             0   \n",
              "customer_type                      Transient     Transient     Transient   \n",
              "adr                                      0.0           0.0          75.0   \n",
              "required_car_parking_spaces                0             0             0   \n",
              "total_of_special_requests                  0             0             0   \n",
              "reservation_status                 Check-Out     Check-Out     Check-Out   \n",
              "reservation_status_date           2015-07-01    2015-07-01    2015-07-02   \n",
              "\n",
              "                                           3  \n",
              "hotel                           Resort Hotel  \n",
              "is_canceled                                0  \n",
              "lead_time                                 13  \n",
              "arrival_date_year                       2015  \n",
              "arrival_date_month                      July  \n",
              "arrival_date_week_number                  27  \n",
              "arrival_date_day_of_month                  1  \n",
              "stays_in_weekend_nights                    0  \n",
              "stays_in_week_nights                       1  \n",
              "adults                                     1  \n",
              "children                                 0.0  \n",
              "babies                                     0  \n",
              "meal                                      BB  \n",
              "country                                  GBR  \n",
              "market_segment                     Corporate  \n",
              "distribution_channel               Corporate  \n",
              "is_repeated_guest                          0  \n",
              "previous_cancellations                     0  \n",
              "previous_bookings_not_canceled             0  \n",
              "reserved_room_type                         A  \n",
              "assigned_room_type                         A  \n",
              "booking_changes                            0  \n",
              "deposit_type                      No Deposit  \n",
              "agent                                  304.0  \n",
              "company                                  NaN  \n",
              "days_in_waiting_list                       0  \n",
              "customer_type                      Transient  \n",
              "adr                                     75.0  \n",
              "required_car_parking_spaces                0  \n",
              "total_of_special_requests                  0  \n",
              "reservation_status                 Check-Out  \n",
              "reservation_status_date           2015-07-02  "
            ]
          },
          "execution_count": 4,
          "metadata": {},
          "output_type": "execute_result"
        }
      ],
      "source": [
        "# Dataset First Look- Top 4 rows\n",
        "dataset.head(4).T"
      ]
    },
    {
      "cell_type": "code",
      "execution_count": null,
      "metadata": {
        "colab": {
          "base_uri": "https://localhost:8080/"
        },
        "id": "RjqxaFD0T_Nv",
        "outputId": "eb45cad0-abc8-4b46-b059-3b7732886714"
      },
      "outputs": [
        {
          "data": {
            "text/html": [
              "<div>\n",
              "<style scoped>\n",
              "    .dataframe tbody tr th:only-of-type {\n",
              "        vertical-align: middle;\n",
              "    }\n",
              "\n",
              "    .dataframe tbody tr th {\n",
              "        vertical-align: top;\n",
              "    }\n",
              "\n",
              "    .dataframe thead th {\n",
              "        text-align: right;\n",
              "    }\n",
              "</style>\n",
              "<table border=\"1\" class=\"dataframe\">\n",
              "  <thead>\n",
              "    <tr style=\"text-align: right;\">\n",
              "      <th></th>\n",
              "      <th>119386</th>\n",
              "      <th>119387</th>\n",
              "      <th>119388</th>\n",
              "      <th>119389</th>\n",
              "    </tr>\n",
              "  </thead>\n",
              "  <tbody>\n",
              "    <tr>\n",
              "      <th>hotel</th>\n",
              "      <td>City Hotel</td>\n",
              "      <td>City Hotel</td>\n",
              "      <td>City Hotel</td>\n",
              "      <td>City Hotel</td>\n",
              "    </tr>\n",
              "    <tr>\n",
              "      <th>is_canceled</th>\n",
              "      <td>0</td>\n",
              "      <td>0</td>\n",
              "      <td>0</td>\n",
              "      <td>0</td>\n",
              "    </tr>\n",
              "    <tr>\n",
              "      <th>lead_time</th>\n",
              "      <td>102</td>\n",
              "      <td>34</td>\n",
              "      <td>109</td>\n",
              "      <td>205</td>\n",
              "    </tr>\n",
              "    <tr>\n",
              "      <th>arrival_date_year</th>\n",
              "      <td>2017</td>\n",
              "      <td>2017</td>\n",
              "      <td>2017</td>\n",
              "      <td>2017</td>\n",
              "    </tr>\n",
              "    <tr>\n",
              "      <th>arrival_date_month</th>\n",
              "      <td>August</td>\n",
              "      <td>August</td>\n",
              "      <td>August</td>\n",
              "      <td>August</td>\n",
              "    </tr>\n",
              "    <tr>\n",
              "      <th>arrival_date_week_number</th>\n",
              "      <td>35</td>\n",
              "      <td>35</td>\n",
              "      <td>35</td>\n",
              "      <td>35</td>\n",
              "    </tr>\n",
              "    <tr>\n",
              "      <th>arrival_date_day_of_month</th>\n",
              "      <td>31</td>\n",
              "      <td>31</td>\n",
              "      <td>31</td>\n",
              "      <td>29</td>\n",
              "    </tr>\n",
              "    <tr>\n",
              "      <th>stays_in_weekend_nights</th>\n",
              "      <td>2</td>\n",
              "      <td>2</td>\n",
              "      <td>2</td>\n",
              "      <td>2</td>\n",
              "    </tr>\n",
              "    <tr>\n",
              "      <th>stays_in_week_nights</th>\n",
              "      <td>5</td>\n",
              "      <td>5</td>\n",
              "      <td>5</td>\n",
              "      <td>7</td>\n",
              "    </tr>\n",
              "    <tr>\n",
              "      <th>adults</th>\n",
              "      <td>3</td>\n",
              "      <td>2</td>\n",
              "      <td>2</td>\n",
              "      <td>2</td>\n",
              "    </tr>\n",
              "    <tr>\n",
              "      <th>children</th>\n",
              "      <td>0.0</td>\n",
              "      <td>0.0</td>\n",
              "      <td>0.0</td>\n",
              "      <td>0.0</td>\n",
              "    </tr>\n",
              "    <tr>\n",
              "      <th>babies</th>\n",
              "      <td>0</td>\n",
              "      <td>0</td>\n",
              "      <td>0</td>\n",
              "      <td>0</td>\n",
              "    </tr>\n",
              "    <tr>\n",
              "      <th>meal</th>\n",
              "      <td>BB</td>\n",
              "      <td>BB</td>\n",
              "      <td>BB</td>\n",
              "      <td>HB</td>\n",
              "    </tr>\n",
              "    <tr>\n",
              "      <th>country</th>\n",
              "      <td>FRA</td>\n",
              "      <td>DEU</td>\n",
              "      <td>GBR</td>\n",
              "      <td>DEU</td>\n",
              "    </tr>\n",
              "    <tr>\n",
              "      <th>market_segment</th>\n",
              "      <td>Online TA</td>\n",
              "      <td>Online TA</td>\n",
              "      <td>Online TA</td>\n",
              "      <td>Online TA</td>\n",
              "    </tr>\n",
              "    <tr>\n",
              "      <th>distribution_channel</th>\n",
              "      <td>TA/TO</td>\n",
              "      <td>TA/TO</td>\n",
              "      <td>TA/TO</td>\n",
              "      <td>TA/TO</td>\n",
              "    </tr>\n",
              "    <tr>\n",
              "      <th>is_repeated_guest</th>\n",
              "      <td>0</td>\n",
              "      <td>0</td>\n",
              "      <td>0</td>\n",
              "      <td>0</td>\n",
              "    </tr>\n",
              "    <tr>\n",
              "      <th>previous_cancellations</th>\n",
              "      <td>0</td>\n",
              "      <td>0</td>\n",
              "      <td>0</td>\n",
              "      <td>0</td>\n",
              "    </tr>\n",
              "    <tr>\n",
              "      <th>previous_bookings_not_canceled</th>\n",
              "      <td>0</td>\n",
              "      <td>0</td>\n",
              "      <td>0</td>\n",
              "      <td>0</td>\n",
              "    </tr>\n",
              "    <tr>\n",
              "      <th>reserved_room_type</th>\n",
              "      <td>E</td>\n",
              "      <td>D</td>\n",
              "      <td>A</td>\n",
              "      <td>A</td>\n",
              "    </tr>\n",
              "    <tr>\n",
              "      <th>assigned_room_type</th>\n",
              "      <td>E</td>\n",
              "      <td>D</td>\n",
              "      <td>A</td>\n",
              "      <td>A</td>\n",
              "    </tr>\n",
              "    <tr>\n",
              "      <th>booking_changes</th>\n",
              "      <td>0</td>\n",
              "      <td>0</td>\n",
              "      <td>0</td>\n",
              "      <td>0</td>\n",
              "    </tr>\n",
              "    <tr>\n",
              "      <th>deposit_type</th>\n",
              "      <td>No Deposit</td>\n",
              "      <td>No Deposit</td>\n",
              "      <td>No Deposit</td>\n",
              "      <td>No Deposit</td>\n",
              "    </tr>\n",
              "    <tr>\n",
              "      <th>agent</th>\n",
              "      <td>9.0</td>\n",
              "      <td>9.0</td>\n",
              "      <td>89.0</td>\n",
              "      <td>9.0</td>\n",
              "    </tr>\n",
              "    <tr>\n",
              "      <th>company</th>\n",
              "      <td>NaN</td>\n",
              "      <td>NaN</td>\n",
              "      <td>NaN</td>\n",
              "      <td>NaN</td>\n",
              "    </tr>\n",
              "    <tr>\n",
              "      <th>days_in_waiting_list</th>\n",
              "      <td>0</td>\n",
              "      <td>0</td>\n",
              "      <td>0</td>\n",
              "      <td>0</td>\n",
              "    </tr>\n",
              "    <tr>\n",
              "      <th>customer_type</th>\n",
              "      <td>Transient</td>\n",
              "      <td>Transient</td>\n",
              "      <td>Transient</td>\n",
              "      <td>Transient</td>\n",
              "    </tr>\n",
              "    <tr>\n",
              "      <th>adr</th>\n",
              "      <td>225.43</td>\n",
              "      <td>157.71</td>\n",
              "      <td>104.4</td>\n",
              "      <td>151.2</td>\n",
              "    </tr>\n",
              "    <tr>\n",
              "      <th>required_car_parking_spaces</th>\n",
              "      <td>0</td>\n",
              "      <td>0</td>\n",
              "      <td>0</td>\n",
              "      <td>0</td>\n",
              "    </tr>\n",
              "    <tr>\n",
              "      <th>total_of_special_requests</th>\n",
              "      <td>2</td>\n",
              "      <td>4</td>\n",
              "      <td>0</td>\n",
              "      <td>2</td>\n",
              "    </tr>\n",
              "    <tr>\n",
              "      <th>reservation_status</th>\n",
              "      <td>Check-Out</td>\n",
              "      <td>Check-Out</td>\n",
              "      <td>Check-Out</td>\n",
              "      <td>Check-Out</td>\n",
              "    </tr>\n",
              "    <tr>\n",
              "      <th>reservation_status_date</th>\n",
              "      <td>2017-09-07</td>\n",
              "      <td>2017-09-07</td>\n",
              "      <td>2017-09-07</td>\n",
              "      <td>2017-09-07</td>\n",
              "    </tr>\n",
              "  </tbody>\n",
              "</table>\n",
              "</div>"
            ],
            "text/plain": [
              "                                    119386      119387      119388      119389\n",
              "hotel                           City Hotel  City Hotel  City Hotel  City Hotel\n",
              "is_canceled                              0           0           0           0\n",
              "lead_time                              102          34         109         205\n",
              "arrival_date_year                     2017        2017        2017        2017\n",
              "arrival_date_month                  August      August      August      August\n",
              "arrival_date_week_number                35          35          35          35\n",
              "arrival_date_day_of_month               31          31          31          29\n",
              "stays_in_weekend_nights                  2           2           2           2\n",
              "stays_in_week_nights                     5           5           5           7\n",
              "adults                                   3           2           2           2\n",
              "children                               0.0         0.0         0.0         0.0\n",
              "babies                                   0           0           0           0\n",
              "meal                                    BB          BB          BB          HB\n",
              "country                                FRA         DEU         GBR         DEU\n",
              "market_segment                   Online TA   Online TA   Online TA   Online TA\n",
              "distribution_channel                 TA/TO       TA/TO       TA/TO       TA/TO\n",
              "is_repeated_guest                        0           0           0           0\n",
              "previous_cancellations                   0           0           0           0\n",
              "previous_bookings_not_canceled           0           0           0           0\n",
              "reserved_room_type                       E           D           A           A\n",
              "assigned_room_type                       E           D           A           A\n",
              "booking_changes                          0           0           0           0\n",
              "deposit_type                    No Deposit  No Deposit  No Deposit  No Deposit\n",
              "agent                                  9.0         9.0        89.0         9.0\n",
              "company                                NaN         NaN         NaN         NaN\n",
              "days_in_waiting_list                     0           0           0           0\n",
              "customer_type                    Transient   Transient   Transient   Transient\n",
              "adr                                 225.43      157.71       104.4       151.2\n",
              "required_car_parking_spaces              0           0           0           0\n",
              "total_of_special_requests                2           4           0           2\n",
              "reservation_status               Check-Out   Check-Out   Check-Out   Check-Out\n",
              "reservation_status_date         2017-09-07  2017-09-07  2017-09-07  2017-09-07"
            ]
          },
          "execution_count": 5,
          "metadata": {},
          "output_type": "execute_result"
        }
      ],
      "source": [
        "# Dataset First Look- Bottom 4 rows\n",
        "dataset.tail(4).T"
      ]
    },
    {
      "cell_type": "markdown",
      "metadata": {
        "id": "7hBIi_osiCS2"
      },
      "source": [
        "### Dataset Rows & Columns count"
      ]
    },
    {
      "cell_type": "code",
      "execution_count": null,
      "metadata": {
        "colab": {
          "base_uri": "https://localhost:8080/"
        },
        "id": "Kllu7SJgmLij",
        "outputId": "1c9184a6-9228-4108-f8d0-cbe45fdd9073"
      },
      "outputs": [
        {
          "name": "stdout",
          "output_type": "stream",
          "text": [
            "Dataset Rows :119390 \n",
            "Dataset Columns :32\n"
          ]
        }
      ],
      "source": [
        "# Dataset Rows & Columns count\n",
        "print('Dataset Rows :{} \\nDataset Columns :{}'.format(dataset.shape[0],dataset.shape[1]))"
      ]
    },
    {
      "cell_type": "markdown",
      "metadata": {
        "id": "JlHwYmJAmNHm"
      },
      "source": [
        "### Dataset Information"
      ]
    },
    {
      "cell_type": "code",
      "execution_count": null,
      "metadata": {
        "colab": {
          "base_uri": "https://localhost:8080/"
        },
        "id": "e9hRXRi6meOf",
        "outputId": "bccb04aa-9a72-48aa-a2e8-6449fd091448"
      },
      "outputs": [
        {
          "name": "stdout",
          "output_type": "stream",
          "text": [
            "<class 'pandas.core.frame.DataFrame'>\n",
            "RangeIndex: 119390 entries, 0 to 119389\n",
            "Data columns (total 32 columns):\n",
            " #   Column                          Non-Null Count   Dtype  \n",
            "---  ------                          --------------   -----  \n",
            " 0   hotel                           119390 non-null  object \n",
            " 1   is_canceled                     119390 non-null  int64  \n",
            " 2   lead_time                       119390 non-null  int64  \n",
            " 3   arrival_date_year               119390 non-null  int64  \n",
            " 4   arrival_date_month              119390 non-null  object \n",
            " 5   arrival_date_week_number        119390 non-null  int64  \n",
            " 6   arrival_date_day_of_month       119390 non-null  int64  \n",
            " 7   stays_in_weekend_nights         119390 non-null  int64  \n",
            " 8   stays_in_week_nights            119390 non-null  int64  \n",
            " 9   adults                          119390 non-null  int64  \n",
            " 10  children                        119386 non-null  float64\n",
            " 11  babies                          119390 non-null  int64  \n",
            " 12  meal                            119390 non-null  object \n",
            " 13  country                         118902 non-null  object \n",
            " 14  market_segment                  119390 non-null  object \n",
            " 15  distribution_channel            119390 non-null  object \n",
            " 16  is_repeated_guest               119390 non-null  int64  \n",
            " 17  previous_cancellations          119390 non-null  int64  \n",
            " 18  previous_bookings_not_canceled  119390 non-null  int64  \n",
            " 19  reserved_room_type              119390 non-null  object \n",
            " 20  assigned_room_type              119390 non-null  object \n",
            " 21  booking_changes                 119390 non-null  int64  \n",
            " 22  deposit_type                    119390 non-null  object \n",
            " 23  agent                           103050 non-null  float64\n",
            " 24  company                         6797 non-null    float64\n",
            " 25  days_in_waiting_list            119390 non-null  int64  \n",
            " 26  customer_type                   119390 non-null  object \n",
            " 27  adr                             119390 non-null  float64\n",
            " 28  required_car_parking_spaces     119390 non-null  int64  \n",
            " 29  total_of_special_requests       119390 non-null  int64  \n",
            " 30  reservation_status              119390 non-null  object \n",
            " 31  reservation_status_date         119390 non-null  object \n",
            "dtypes: float64(4), int64(16), object(12)\n",
            "memory usage: 29.1+ MB\n"
          ]
        }
      ],
      "source": [
        "# Check dataset information using dataset.info() \n",
        "dataset.info()"
      ]
    },
    {
      "cell_type": "markdown",
      "metadata": {
        "id": "35m5QtbWiB9F"
      },
      "source": [
        "#### Duplicate Values"
      ]
    },
    {
      "cell_type": "code",
      "execution_count": null,
      "metadata": {
        "colab": {
          "base_uri": "https://localhost:8080/"
        },
        "id": "1sLdpKYkmox0",
        "outputId": "0db9d18e-f14d-4820-d009-e64d550a188c"
      },
      "outputs": [
        {
          "data": {
            "text/plain": [
              "26.797889270458164"
            ]
          },
          "execution_count": 8,
          "metadata": {},
          "output_type": "execute_result"
        }
      ],
      "source": [
        "# Percentage of duplicate values in dataset\n",
        "len(dataset[dataset.duplicated()])*100/dataset.shape[0]"
      ]
    },
    {
      "cell_type": "code",
      "execution_count": null,
      "metadata": {
        "colab": {
          "base_uri": "https://localhost:8080/"
        },
        "id": "fgc5oQwDhdAH",
        "outputId": "cd1caa05-c67f-4af0-e418-6740a59db214"
      },
      "outputs": [
        {
          "name": "stdout",
          "output_type": "stream",
          "text": [
            "Shape of dataset after dropping duplicate values: (87396, 32)\n"
          ]
        }
      ],
      "source": [
        "# Dropping Duplicate Values\n",
        "df = dataset.drop_duplicates().reset_index(drop = True)\n",
        "print('Shape of dataset after dropping duplicate values:',df.shape)"
      ]
    },
    {
      "cell_type": "markdown",
      "metadata": {
        "id": "PoPl-ycgm1ru"
      },
      "source": [
        "#### Missing Values/Null Values"
      ]
    },
    {
      "cell_type": "code",
      "execution_count": null,
      "metadata": {
        "colab": {
          "base_uri": "https://localhost:8080/"
        },
        "id": "GgHWkxvamxVg",
        "outputId": "5fbb9710-0e88-4133-9e50-ed177092971d"
      },
      "outputs": [
        {
          "name": "stdout",
          "output_type": "stream",
          "text": [
            "company     82137\n",
            "agent       12193\n",
            "country       452\n",
            "children        4\n",
            "dtype: int64\n"
          ]
        }
      ],
      "source": [
        "# Count of missing values/null values\n",
        "nan_count = df.isna().sum().sort_values(ascending = False)\n",
        "\n",
        "# Print only columns with non-zero number of missing values\n",
        "nan_count = nan_count[nan_count>0]\n",
        "print(nan_count)"
      ]
    },
    {
      "cell_type": "code",
      "execution_count": null,
      "metadata": {
        "colab": {
          "base_uri": "https://localhost:8080/"
        },
        "id": "3q5wnI3om9sJ",
        "outputId": "60a50109-6c78-4b30-8ef5-4ad04350f59d"
      },
      "outputs": [
        {
          "data": {
            "image/png": "[encoded data removed]",
            "text/plain": [
              "<Figure size 432x288 with 1 Axes>"
            ]
          },
          "metadata": {
            "needs_background": "light"
          },
          "output_type": "display_data"
        }
      ],
      "source": [
        "# Finding percentage of missing values\n",
        "df_nan_perc = (nan_count*100/len(df)).round(3)\n",
        "\n",
        "# Visualizing the missing values\n",
        "df_nan_perc.plot.bar()\n",
        "\n",
        "# Adding text on top of bars\n",
        "for idx,y in enumerate(df_nan_perc):\n",
        "    plt.text(idx,y+1,y, ha ='center')"
      ]
    },
    {
      "cell_type": "markdown",
      "metadata": {
        "id": "RM1HqXv-zUdS"
      },
      "source": [
        "- Most data is missing (`94%`.) from the `'company'` column and also some data is missing from three other columns as well.\n",
        "- We can drop the `'company'` and `'agent'`column.\n",
        "- We can drop the missing rows from columns `'country'` and `'children'`."
      ]
    },
    {
      "cell_type": "code",
      "execution_count": null,
      "metadata": {
        "id": "uJn1ZeCN1Awq"
      },
      "outputs": [],
      "source": [
        "#Droping missing values\n",
        "df_1 =   df.drop(['company','agent'],axis = 1).dropna().reset_index(drop = True)"
      ]
    },
    {
      "cell_type": "markdown",
      "metadata": {
        "id": "H0kj-8xxnORC"
      },
      "source": [
        "### What did you know about your dataset?"
      ]
    },
    {
      "cell_type": "markdown",
      "metadata": {
        "id": "gfoNAAC-nUe_"
      },
      "source": [
        "This data set contains booking information for a city hotel and a resort hotel, and includes information such as when the booking was made, length of stay, the number of adults, children, and/or babies, and the number of available parking spaces, among other things."
      ]
    },
    {
      "cell_type": "markdown",
      "metadata": {
        "id": "nA9Y7ga8ng1Z"
      },
      "source": [
        "## ***2. Understanding Your Variables***"
      ]
    },
    {
      "cell_type": "code",
      "execution_count": null,
      "metadata": {
        "colab": {
          "base_uri": "https://localhost:8080/"
        },
        "id": "j7xfkqrt5Ag5",
        "outputId": "5a48af75-c5ca-4fa6-d15e-69e70ccd24f7"
      },
      "outputs": [
        {
          "data": {
            "text/plain": [
              "Index(['hotel', 'is_canceled', 'lead_time', 'arrival_date_year',\n",
              "       'arrival_date_month', 'arrival_date_week_number',\n",
              "       'arrival_date_day_of_month', 'stays_in_weekend_nights',\n",
              "       'stays_in_week_nights', 'adults', 'children', 'babies', 'meal',\n",
              "       'country', 'market_segment', 'distribution_channel',\n",
              "       'is_repeated_guest', 'previous_cancellations',\n",
              "       'previous_bookings_not_canceled', 'reserved_room_type',\n",
              "       'assigned_room_type', 'booking_changes', 'deposit_type',\n",
              "       'days_in_waiting_list', 'customer_type', 'adr',\n",
              "       'required_car_parking_spaces', 'total_of_special_requests',\n",
              "       'reservation_status', 'reservation_status_date'],\n",
              "      dtype='object')"
            ]
          },
          "execution_count": 13,
          "metadata": {},
          "output_type": "execute_result"
        }
      ],
      "source": [
        "# Dataset Columns\n",
        "df_1.columns"
      ]
    },
    {
      "cell_type": "code",
      "execution_count": null,
      "metadata": {
        "colab": {
          "base_uri": "https://localhost:8080/"
        },
        "id": "DnOaZdaE5Q5t",
        "outputId": "d192b053-2fcc-49c4-946c-f48cfde009ff"
      },
      "outputs": [
        {
          "data": {
            "text/html": [
              "<div>\n",
              "<style scoped>\n",
              "    .dataframe tbody tr th:only-of-type {\n",
              "        vertical-align: middle;\n",
              "    }\n",
              "\n",
              "    .dataframe tbody tr th {\n",
              "        vertical-align: top;\n",
              "    }\n",
              "\n",
              "    .dataframe thead th {\n",
              "        text-align: right;\n",
              "    }\n",
              "</style>\n",
              "<table border=\"1\" class=\"dataframe\">\n",
              "  <thead>\n",
              "    <tr style=\"text-align: right;\">\n",
              "      <th></th>\n",
              "      <th>count</th>\n",
              "      <th>mean</th>\n",
              "      <th>std</th>\n",
              "      <th>min</th>\n",
              "      <th>25%</th>\n",
              "      <th>50%</th>\n",
              "      <th>75%</th>\n",
              "      <th>max</th>\n",
              "    </tr>\n",
              "  </thead>\n",
              "  <tbody>\n",
              "    <tr>\n",
              "      <th>is_canceled</th>\n",
              "      <td>86940.0</td>\n",
              "      <td>0.275903</td>\n",
              "      <td>0.446971</td>\n",
              "      <td>0.00</td>\n",
              "      <td>0.00</td>\n",
              "      <td>0.0</td>\n",
              "      <td>1.0</td>\n",
              "      <td>1.0</td>\n",
              "    </tr>\n",
              "    <tr>\n",
              "      <th>lead_time</th>\n",
              "      <td>86940.0</td>\n",
              "      <td>80.193375</td>\n",
              "      <td>86.100147</td>\n",
              "      <td>0.00</td>\n",
              "      <td>12.00</td>\n",
              "      <td>50.0</td>\n",
              "      <td>125.0</td>\n",
              "      <td>737.0</td>\n",
              "    </tr>\n",
              "    <tr>\n",
              "      <th>arrival_date_year</th>\n",
              "      <td>86940.0</td>\n",
              "      <td>2016.211824</td>\n",
              "      <td>0.686016</td>\n",
              "      <td>2015.00</td>\n",
              "      <td>2016.00</td>\n",
              "      <td>2016.0</td>\n",
              "      <td>2017.0</td>\n",
              "      <td>2017.0</td>\n",
              "    </tr>\n",
              "    <tr>\n",
              "      <th>arrival_date_week_number</th>\n",
              "      <td>86940.0</td>\n",
              "      <td>26.841477</td>\n",
              "      <td>13.654505</td>\n",
              "      <td>1.00</td>\n",
              "      <td>16.00</td>\n",
              "      <td>27.0</td>\n",
              "      <td>37.0</td>\n",
              "      <td>53.0</td>\n",
              "    </tr>\n",
              "    <tr>\n",
              "      <th>arrival_date_day_of_month</th>\n",
              "      <td>86940.0</td>\n",
              "      <td>15.818024</td>\n",
              "      <td>8.834469</td>\n",
              "      <td>1.00</td>\n",
              "      <td>8.00</td>\n",
              "      <td>16.0</td>\n",
              "      <td>23.0</td>\n",
              "      <td>31.0</td>\n",
              "    </tr>\n",
              "    <tr>\n",
              "      <th>stays_in_weekend_nights</th>\n",
              "      <td>86940.0</td>\n",
              "      <td>1.007396</td>\n",
              "      <td>1.028763</td>\n",
              "      <td>0.00</td>\n",
              "      <td>0.00</td>\n",
              "      <td>1.0</td>\n",
              "      <td>2.0</td>\n",
              "      <td>16.0</td>\n",
              "    </tr>\n",
              "    <tr>\n",
              "      <th>stays_in_week_nights</th>\n",
              "      <td>86940.0</td>\n",
              "      <td>2.628744</td>\n",
              "      <td>2.043753</td>\n",
              "      <td>0.00</td>\n",
              "      <td>1.00</td>\n",
              "      <td>2.0</td>\n",
              "      <td>4.0</td>\n",
              "      <td>41.0</td>\n",
              "    </tr>\n",
              "    <tr>\n",
              "      <th>adults</th>\n",
              "      <td>86940.0</td>\n",
              "      <td>1.878525</td>\n",
              "      <td>0.625860</td>\n",
              "      <td>0.00</td>\n",
              "      <td>2.00</td>\n",
              "      <td>2.0</td>\n",
              "      <td>2.0</td>\n",
              "      <td>55.0</td>\n",
              "    </tr>\n",
              "    <tr>\n",
              "      <th>children</th>\n",
              "      <td>86940.0</td>\n",
              "      <td>0.139211</td>\n",
              "      <td>0.456786</td>\n",
              "      <td>0.00</td>\n",
              "      <td>0.00</td>\n",
              "      <td>0.0</td>\n",
              "      <td>0.0</td>\n",
              "      <td>10.0</td>\n",
              "    </tr>\n",
              "    <tr>\n",
              "      <th>babies</th>\n",
              "      <td>86940.0</td>\n",
              "      <td>0.010835</td>\n",
              "      <td>0.113592</td>\n",
              "      <td>0.00</td>\n",
              "      <td>0.00</td>\n",
              "      <td>0.0</td>\n",
              "      <td>0.0</td>\n",
              "      <td>10.0</td>\n",
              "    </tr>\n",
              "    <tr>\n",
              "      <th>is_repeated_guest</th>\n",
              "      <td>86940.0</td>\n",
              "      <td>0.039234</td>\n",
              "      <td>0.194152</td>\n",
              "      <td>0.00</td>\n",
              "      <td>0.00</td>\n",
              "      <td>0.0</td>\n",
              "      <td>0.0</td>\n",
              "      <td>1.0</td>\n",
              "    </tr>\n",
              "    <tr>\n",
              "      <th>previous_cancellations</th>\n",
              "      <td>86940.0</td>\n",
              "      <td>0.030228</td>\n",
              "      <td>0.369574</td>\n",
              "      <td>0.00</td>\n",
              "      <td>0.00</td>\n",
              "      <td>0.0</td>\n",
              "      <td>0.0</td>\n",
              "      <td>26.0</td>\n",
              "    </tr>\n",
              "    <tr>\n",
              "      <th>previous_bookings_not_canceled</th>\n",
              "      <td>86940.0</td>\n",
              "      <td>0.176708</td>\n",
              "      <td>1.717885</td>\n",
              "      <td>0.00</td>\n",
              "      <td>0.00</td>\n",
              "      <td>0.0</td>\n",
              "      <td>0.0</td>\n",
              "      <td>72.0</td>\n",
              "    </tr>\n",
              "    <tr>\n",
              "      <th>booking_changes</th>\n",
              "      <td>86940.0</td>\n",
              "      <td>0.271854</td>\n",
              "      <td>0.728090</td>\n",
              "      <td>0.00</td>\n",
              "      <td>0.00</td>\n",
              "      <td>0.0</td>\n",
              "      <td>0.0</td>\n",
              "      <td>21.0</td>\n",
              "    </tr>\n",
              "    <tr>\n",
              "      <th>days_in_waiting_list</th>\n",
              "      <td>86940.0</td>\n",
              "      <td>0.753497</td>\n",
              "      <td>10.041816</td>\n",
              "      <td>0.00</td>\n",
              "      <td>0.00</td>\n",
              "      <td>0.0</td>\n",
              "      <td>0.0</td>\n",
              "      <td>391.0</td>\n",
              "    </tr>\n",
              "    <tr>\n",
              "      <th>adr</th>\n",
              "      <td>86940.0</td>\n",
              "      <td>106.574804</td>\n",
              "      <td>54.957439</td>\n",
              "      <td>-6.38</td>\n",
              "      <td>72.25</td>\n",
              "      <td>98.4</td>\n",
              "      <td>134.1</td>\n",
              "      <td>5400.0</td>\n",
              "    </tr>\n",
              "    <tr>\n",
              "      <th>required_car_parking_spaces</th>\n",
              "      <td>86940.0</td>\n",
              "      <td>0.083448</td>\n",
              "      <td>0.280402</td>\n",
              "      <td>0.00</td>\n",
              "      <td>0.00</td>\n",
              "      <td>0.0</td>\n",
              "      <td>0.0</td>\n",
              "      <td>8.0</td>\n",
              "    </tr>\n",
              "    <tr>\n",
              "      <th>total_of_special_requests</th>\n",
              "      <td>86940.0</td>\n",
              "      <td>0.699459</td>\n",
              "      <td>0.831840</td>\n",
              "      <td>0.00</td>\n",
              "      <td>0.00</td>\n",
              "      <td>0.0</td>\n",
              "      <td>1.0</td>\n",
              "      <td>5.0</td>\n",
              "    </tr>\n",
              "  </tbody>\n",
              "</table>\n",
              "</div>"
            ],
            "text/plain": [
              "                                  count         mean        std      min  \\\n",
              "is_canceled                     86940.0     0.275903   0.446971     0.00   \n",
              "lead_time                       86940.0    80.193375  86.100147     0.00   \n",
              "arrival_date_year               86940.0  2016.211824   0.686016  2015.00   \n",
              "arrival_date_week_number        86940.0    26.841477  13.654505     1.00   \n",
              "arrival_date_day_of_month       86940.0    15.818024   8.834469     1.00   \n",
              "stays_in_weekend_nights         86940.0     1.007396   1.028763     0.00   \n",
              "stays_in_week_nights            86940.0     2.628744   2.043753     0.00   \n",
              "adults                          86940.0     1.878525   0.625860     0.00   \n",
              "children                        86940.0     0.139211   0.456786     0.00   \n",
              "babies                          86940.0     0.010835   0.113592     0.00   \n",
              "is_repeated_guest               86940.0     0.039234   0.194152     0.00   \n",
              "previous_cancellations          86940.0     0.030228   0.369574     0.00   \n",
              "previous_bookings_not_canceled  86940.0     0.176708   1.717885     0.00   \n",
              "booking_changes                 86940.0     0.271854   0.728090     0.00   \n",
              "days_in_waiting_list            86940.0     0.753497  10.041816     0.00   \n",
              "adr                             86940.0   106.574804  54.957439    -6.38   \n",
              "required_car_parking_spaces     86940.0     0.083448   0.280402     0.00   \n",
              "total_of_special_requests       86940.0     0.699459   0.831840     0.00   \n",
              "\n",
              "                                    25%     50%     75%     max  \n",
              "is_canceled                        0.00     0.0     1.0     1.0  \n",
              "lead_time                         12.00    50.0   125.0   737.0  \n",
              "arrival_date_year               2016.00  2016.0  2017.0  2017.0  \n",
              "arrival_date_week_number          16.00    27.0    37.0    53.0  \n",
              "arrival_date_day_of_month          8.00    16.0    23.0    31.0  \n",
              "stays_in_weekend_nights            0.00     1.0     2.0    16.0  \n",
              "stays_in_week_nights               1.00     2.0     4.0    41.0  \n",
              "adults                             2.00     2.0     2.0    55.0  \n",
              "children                           0.00     0.0     0.0    10.0  \n",
              "babies                             0.00     0.0     0.0    10.0  \n",
              "is_repeated_guest                  0.00     0.0     0.0     1.0  \n",
              "previous_cancellations             0.00     0.0     0.0    26.0  \n",
              "previous_bookings_not_canceled     0.00     0.0     0.0    72.0  \n",
              "booking_changes                    0.00     0.0     0.0    21.0  \n",
              "days_in_waiting_list               0.00     0.0     0.0   391.0  \n",
              "adr                               72.25    98.4   134.1  5400.0  \n",
              "required_car_parking_spaces        0.00     0.0     0.0     8.0  \n",
              "total_of_special_requests          0.00     0.0     1.0     5.0  "
            ]
          },
          "execution_count": 14,
          "metadata": {},
          "output_type": "execute_result"
        }
      ],
      "source": [
        "# Dataset Describe\n",
        "df_1.describe().T"
      ]
    },
    {
      "cell_type": "markdown",
      "metadata": {
        "id": "STSKEfkWxtxl"
      },
      "source": [
        "- Cancellation rate: The is_canceled feature has a mean of 0.27, which suggests that approximately 27% of bookings are cancelled. This could be an important metric, as it could indicate issues with overbooking or customer dissatisfaction.\n",
        "\n",
        "- Lead time: The mean lead time of 80 days suggests that on average, customers book their stay about 80 days in advance. This could be useful for the hotel to know when planning for staffing and room inventory.\n",
        "\n",
        "- Room occupancy: The mean number of adults per booking is 1.87, children is 0.14, and babies is 0.01. This could indicate the typical composition of guests staying in the hotel, and could inform decisions such as room size and amenities offered.\n",
        "\n",
        "- Repeat guests: The is_repeated_guest feature has a mean of 0.04, which suggests that only 4% of guests are repeat customers. This could indicate a need for the hotel to focus on customer retention or improving the guest experience.\n",
        "\n",
        "- Special requests: The total_of_special_requests feature has a mean of 0.7, which suggests that on average, guests make about 0.7 special requests per booking. This could be useful for the hotel to know when planning for staffing and resources.\n",
        "\n",
        "- Booking Changes: The booking_changes feature has a mean of 0.27, this could indicate that guests are frequently changing their bookings, which could indicate issues with customer service or flexibility with the booking process.\n",
        "\n",
        "- Average Daily Rate: The mean of ADR is 106.57,this would be useful for the hotel to know when planning for pricing strategy.\n",
        "\n",
        "Additionally we can see that the max adr is 5400, max days in waiting list is 391 days, max lead time is 737 days which could be outliers, which can be addressed during data visualization.  "
      ]
    },
    {
      "cell_type": "markdown",
      "metadata": {
        "id": "PBTbrJXOngz2"
      },
      "source": [
        "### Variables Description "
      ]
    },
    {
      "cell_type": "markdown",
      "metadata": {
        "id": "aJV4KIxSnxay"
      },
      "source": [
        "| Field | Description |\n",
        "| --- | --- |\n",
        "| hotel | H1= Resort Hotel H2=City Hotel |\n",
        "| is_cancelled | \"If the booking was cancelled(1) or not(0)\" |\n",
        "| lead_time | \"Number of days that elapsed between the entering date of the booking into the PMS and the arrival date\" |\n",
        "| arrival_date_year | Year of arrival date |\n",
        "| arrival_date_month | Month of arrival date |\n",
        "| arrival_date_week_number | Week number for arrival date |\n",
        "| arrival_dat_day | Day of arrival date |\n",
        "| stays_in_weekend_nights | \"Number of weekend nights (Saturday or Sunday) the guest stayed or booked to stay at the hotel\" |\n",
        "| stays_in_week_nights | Number of week nights (Monday to Friday) the guest stayed or booked to stay at the hotel |\n",
        "| adults | Number of adults | \n",
        "| children | Number of children |\n",
        "| babies | Number of babies |\n",
        "| meal | Kind of meal opted |\n",
        "| country | Country code | \n",
        "| market_segment | \"Which segment the customer belongs to\" |\n",
        "|  Distribution _channel | \"How the customer accessed the stay-corporate booking/Direct/TA.TO\" |  \n",
        "|  is_repeated_guest | Guest coming for first time or not |  \n",
        "|  previous_cancellation | Was there a cancellation before |  \n",
        "|  previous_bookings | Count of previous bookings |  \n",
        "|  reserved_room_type | Type of room reserved |  \n",
        "|  assigned_room_type | Type of room assigned |  \n",
        "|  booking_changes | Count of changes made to booking |  \n",
        "|  deposit_type | Deposit type |  \t\n",
        "|  agent | Booked through agent |  \n",
        "|  days_in_waiting_list | Number of days in waiting list |  \n",
        "|  customer_type | Type of customer |  \n",
        "|  required_car_parking | If car parking is required |  \n",
        "|  total_of_special_req | \"Number of additional special requirements\" |  \n",
        "|  reservation_status | Reservation of status |  \n",
        "|  reservation_status_date | Date of the specific status |  "
      ]
    },
    {
      "cell_type": "markdown",
      "metadata": {
        "id": "u3PMJOP6ngxN"
      },
      "source": [
        "### Check Unique Values for each variable."
      ]
    },
    {
      "cell_type": "code",
      "execution_count": null,
      "metadata": {
        "id": "YLSNcCShhaOK",
        "outputId": "84f57824-2c4a-4517-bf51-639f572cd9e2"
      },
      "outputs": [
        {
          "name": "stdout",
          "output_type": "stream",
          "text": [
            "Unique values in hotel                       : ['Resort Hotel' 'City Hotel']\n",
            "Unique values in is_canceled                 : [0 1]\n",
            "Unique values in is_repeated_guest           : [0 1]\n",
            "Unique values in arrival_date_year           : [2015 2016 2017]\n",
            "Unique values in deposit_type                : ['No Deposit' 'Refundable' 'Non Refund']\n",
            "Unique values in reservation_status          : ['Check-Out' 'Canceled' 'No-Show']\n",
            "Unique values in customer_type               : ['Transient' 'Contract' 'Transient-Party' 'Group']\n",
            "Unique values in required_car_parking_spaces : [0 1 2 8 3]\n",
            "Unique values in distribution_channel        : ['Direct' 'Corporate' 'TA/TO' 'Undefined' 'GDS']\n",
            "Unique values in children                    : [ 0.  1.  2. 10.  3.]\n",
            "Unique values in babies                      : [ 0  1  2 10  9]\n",
            "Unique values in meal                        : ['BB' 'FB' 'HB' 'SC' 'Undefined']\n",
            "Unique values in total_of_special_requests   : [0 1 3 2 4 5]\n",
            "Unique values in market_segment              : ['Direct' 'Corporate' 'Online TA' 'Offline TA/TO' 'Complementary' 'Groups'\n",
            " 'Aviation']\n",
            "Unique values in reserved_room_type          : ['C' 'A' 'D' 'E' 'G' 'F' 'H' 'L' 'B' 'P']\n",
            "Unique values in assigned_room_type          : ['C' 'A' 'D' 'E' 'G' 'F' 'I' 'B' 'H' 'L' 'K' 'P']\n",
            "Unique values in arrival_date_month          : ['July' 'August' 'September' 'October' 'November' 'December' 'January'\n",
            " 'February' 'March' 'April' 'May' 'June']\n"
          ]
        }
      ],
      "source": [
        "# Check Unique Values for each variable.\n",
        "df_1_unique = df_1.nunique().sort_values()\n",
        "# Print only unique values that are less than 13\n",
        "unique_8 = df_1_unique[df_1_unique < 13].index\n",
        "for column in unique_8:\n",
        "  print('Unique values in {:28}:'.format(column),df_1[column].unique())"
      ]
    },
    {
      "cell_type": "markdown",
      "metadata": {
        "id": "dauF4eBmngu3"
      },
      "source": [
        "## **3. *Data Wrangling***"
      ]
    },
    {
      "cell_type": "markdown",
      "metadata": {
        "id": "bKJF3rekwFvQ"
      },
      "source": [
        "### Data Wrangling Code"
      ]
    },
    {
      "cell_type": "code",
      "execution_count": null,
      "metadata": {
        "colab": {
          "base_uri": "https://localhost:8080/"
        },
        "id": "_mr56tse-1mK",
        "outputId": "5cdabe87-76f2-4fcc-99e2-d0659fe11ade"
      },
      "outputs": [
        {
          "data": {
            "image/png": "[encoded data removed]",
            "text/plain": [
              "<Figure size 720x432 with 1 Axes>"
            ]
          },
          "metadata": {
            "needs_background": "light"
          },
          "output_type": "display_data"
        }
      ],
      "source": [
        "# Write your code to make your dataset analysis ready.\n",
        "# To check the distribution of data points we can use a countplot\n",
        "\n",
        "# Converting the date column in 'df_1' to a datetime data type using pd.to_datetime() function.\n",
        "df_1['reservation_status_date'] = pd.to_datetime(df_1['reservation_status_date'])\n",
        "\n",
        "# Count the number of values by date\n",
        "counts = df_1['reservation_status_date'].value_counts()\n",
        "\n",
        "# Set the figure size\n",
        "plt.figure(figsize=(10, 6))\n",
        "\n",
        "# Limit the x axis for better visualization\n",
        "plt.xlim(pd.Timestamp('2014-10-17'), pd.Timestamp('2017-09-14'))\n",
        "\n",
        "# Plot the bar plot\n",
        "plt.bar(counts.index, counts.values)\n",
        "plt.show()"
      ]
    },
    {
      "cell_type": "markdown",
      "metadata": {
        "id": "MU5PMzypxtxq"
      },
      "source": [
        "- From the plot we can see that very little data points exists before '2015-05-01'. Including these data could skew our results. \n",
        "- Hence we are only including the data from `'2015-05-01'` to `'2017-09-14'` (Last date of booking in the dataset)"
      ]
    },
    {
      "cell_type": "code",
      "execution_count": null,
      "metadata": {
        "id": "5C59JnGm8cwD"
      },
      "outputs": [],
      "source": [
        "# Trimming the rows of dataset where reservation date is older than 2015-05-01 \n",
        "df_2=df_1[(df_1['reservation_status_date']>pd.Timestamp('2015-05-01'))&((df_1['reservation_status_date']<pd.Timestamp('2017-09-14')))].reset_index(drop = True)"
      ]
    },
    {
      "cell_type": "code",
      "execution_count": null,
      "metadata": {
        "colab": {
          "base_uri": "https://localhost:8080/"
        },
        "id": "aQQdAJaG91JU",
        "outputId": "1bde4d87-da89-406a-b379-fd43b51f45e2"
      },
      "outputs": [
        {
          "data": {
            "image/png": "[encoded data removed]",
            "text/plain": [
              "<Figure size 720x432 with 1 Axes>"
            ]
          },
          "metadata": {
            "needs_background": "light"
          },
          "output_type": "display_data"
        }
      ],
      "source": [
        "# Visualizing the new selection of data points\n",
        "# Get the counts\n",
        "counts = df_2['reservation_status_date'].value_counts()\n",
        "\n",
        "# Set the figure size\n",
        "plt.figure(figsize=(10, 6))\n",
        "\n",
        "# Plot the bar plot\n",
        "plt.bar(counts.index, counts.values)\n",
        "plt.show()"
      ]
    },
    {
      "cell_type": "markdown",
      "metadata": {
        "id": "MSa1f5Uengrz"
      },
      "source": [
        "### What all manipulations have you done and insights you found?"
      ]
    },
    {
      "cell_type": "code",
      "execution_count": null,
      "metadata": {
        "id": "iGZk_OF-xtxr",
        "outputId": "d6221d3f-acf0-4eb1-ad75-1683d04219b5"
      },
      "outputs": [
        {
          "name": "stdout",
          "output_type": "stream",
          "text": [
            "Shape of the dataset before cleaning : (119390, 32)\n",
            "Shape of the dataset after cleaning : (86691, 30)\n"
          ]
        }
      ],
      "source": [
        "print('Shape of the dataset before cleaning :',dataset.shape)\n",
        "print('Shape of the dataset after cleaning :',df_2.shape)"
      ]
    },
    {
      "cell_type": "markdown",
      "metadata": {
        "id": "LbyXE7I1olp8"
      },
      "source": [
        "- `26.79%` of values in dataset are duplicated, hence these are dropped \n",
        "- Data points seems to be missing before `2015-05-01`. Hence the  data before the same is excluded from analysis.\n",
        "- `'company'`,`'agent'`,`'country'`,`'Children'` columns are missing `93.983%`, `3.951%`, `0.517%`, `0.005%` of data repectively\n",
        "- `'company'` and `'agent'`columns are dropped\n",
        "- Missing rows from columns `'country'` and `'children'` are also dropped\n",
        " "
      ]
    },
    {
      "cell_type": "markdown",
      "metadata": {
        "id": "GF8Ens_Soomf"
      },
      "source": [
        "## ***4. Data Vizualization, Storytelling & Experimenting with charts : Understand the relationships between variables***"
      ]
    },
    {
      "cell_type": "markdown",
      "metadata": {
        "id": "OopIPJDl5Cv9"
      },
      "source": [
        "## **Univariate Analysis**"
      ]
    },
    {
      "cell_type": "markdown",
      "metadata": {
        "id": "ijXsOAFPxtxs"
      },
      "source": [
        "1. To understand the distribution of data in various categorical variables lets plot a percentage bar plot"
      ]
    },
    {
      "cell_type": "code",
      "execution_count": null,
      "metadata": {
        "colab": {
          "base_uri": "https://localhost:8080/",
          "height": 753
        },
        "id": "1pu2YxNkovYS",
        "outputId": "5fc4d691-ea46-4cfa-9eda-e4ffcc0d1f16"
      },
      "outputs": [
        {
          "data": {
            "image/png": "[encoded data removed]",
            "text/plain": [
              "<Figure size 1440x1080 with 9 Axes>"
            ]
          },
          "metadata": {
            "needs_background": "light"
          },
          "output_type": "display_data"
        }
      ],
      "source": [
        "#let's try to plot all the non numerical categorical columns. First let's remove columns \n",
        "#having too many categories, also the 'hotel' column to analyze later.  \n",
        "cat_columns = df_2.select_dtypes(exclude=['int', 'float']).columns\n",
        "cat_columns =list(cat_columns)\n",
        "cat_columns.remove('reservation_status_date')\n",
        "cat_columns.remove('country')\n",
        "cat_columns.remove('hotel')\n",
        "\n",
        "# set a larger figure size for subplots\n",
        "plt.figure(figsize = [20  , 15]) \n",
        "for i,x in enumerate(cat_columns):\n",
        "\n",
        "  # 3 row, 3 cols, subplot i+1 since subplot starts from 1\n",
        "  plt.subplot(3, 3,i+1)\n",
        "\n",
        "  # Get the value counts of the x column\n",
        "  counts = (df_2[x].value_counts()*100/len(df_2)).round(1)\n",
        "  \n",
        "  # Create a barplot using the value counts\n",
        "  sns.barplot(x=counts.index, y=counts.values, order = counts.index )\n",
        "  plt.title(str(x)) \n",
        "  plt.xticks(rotation = 20)\n",
        "  # Adding percentage values on top of bars\n",
        "  for idx,y in enumerate(counts.values):\n",
        "    plt.text(idx,y+1,'{} %'.format(y), ha ='center')\n",
        "    \n",
        "plt.show()\n"
      ]
    },
    {
      "cell_type": "markdown",
      "metadata": {
        "id": "C3JDaF6weRI_"
      },
      "source": [
        "- Here bar charts are used  due to effectiveness in comparing and visualizing large categories of data\n",
        "- `August` and `July` are the months with the highest number of bookings (`12.9%` and `11.5%`, respectively) \n",
        "- While `january` and `November` has the least number of bookings (`5.3%` and `5.7%`, respectively)\n",
        "- The meal type `BB   (Breakfast in Bed)` is most prefered, (`77%`) of total orders\n",
        "- `Online TA/TO` (Travel agent/Tour Operator) is the most prefered medium of bookings(`59%`)\n",
        "- `Room type A` is the most reserved and assigned room type (`64.6%` and `53.0%`, respectively).\n",
        " Later we can check if the demand has a correlation with the price the room. \n",
        "- `No deposit bookings` account for the majority of bookings(`98.8%`)\n",
        "- `Customer type transient` makes the majority of bookings(`82.4%`)\n",
        "\n",
        "- The data suggest that Bookings during `August` and `July`, `BB meal type`, `No deposit` Booking type, Booking through `Online TA`, `Room type A`, `Transient` are the popular options among guests.\n",
        "Increasing the availability of these options could lead to an increased revenue"
      ]
    },
    {
      "cell_type": "markdown",
      "metadata": {
        "id": "5ZhUL5Jjis2r"
      },
      "source": [
        "## **Univariate Analysis Questions**"
      ]
    },
    {
      "cell_type": "markdown",
      "metadata": {
        "id": "HQ5dhGPVin8K"
      },
      "source": [
        "[ Hints : - Do the Vizualization in a structured way while following \"UBM\" Rule.\n",
        "\n",
        "U - Univariate Analysis,\n",
        "\n",
        "B - Bivariate Analysis (Numerical - Categorical, Numerical - Numerical, Categorical - Categorical)\n",
        "\n",
        "M - Multivariate Analysis ]\n",
        "\n",
        "\n",
        "\n",
        "\n",
        "\n",
        "\n",
        "\n",
        "\n",
        "\n",
        "\n",
        "\n",
        "\n",
        "\n",
        "\n",
        "\n",
        "\n",
        "\n",
        "\n",
        "\n",
        "\n",
        "\n",
        "\n",
        "\n",
        "\n",
        "\n",
        "\n",
        "\n",
        "\n",
        "\n",
        "\n",
        "\n",
        "\n",
        "\n",
        "\n",
        "\n",
        "\n",
        "\n",
        "\n",
        "\n",
        "\n",
        "\n",
        "\n",
        "\n",
        "\n",
        "\n",
        "\n",
        "\n",
        "\n",
        "\n",
        "\n",
        "\n",
        "\n",
        "\n",
        "\n",
        "\n",
        "\n",
        "\n",
        "\n",
        "\n",
        "\n",
        "\n",
        "\n",
        "\n",
        "\n",
        "\n",
        "\n",
        "\n",
        "\n",
        "\n",
        "\n",
        "\n",
        "\n",
        "\n",
        "\n",
        "\n",
        "\n",
        "\n",
        "\n",
        "\n",
        "\n",
        "\n",
        "\n",
        "\n",
        "\n",
        "\n",
        "\n",
        "\n",
        "\n",
        "\n",
        "\n",
        "\n",
        "\n",
        "\n",
        "\n",
        "\n",
        "\n",
        "\n",
        "\n",
        "\n",
        "\n",
        "\n",
        "\n",
        "\n",
        "\n",
        "\n",
        "\n",
        "\n",
        "\n",
        "\n",
        "\n",
        "\n",
        "\n",
        "\n",
        "\n",
        "\n",
        "\n",
        "\n",
        "\n",
        "\n",
        "\n",
        "\n",
        "\n",
        "\n",
        "\n",
        "\n",
        "\n",
        "\n",
        "\n",
        "\n",
        "\n",
        "\n",
        "\n",
        "\n",
        "\n",
        "\n",
        "\n",
        "\n",
        "\n",
        "\n",
        "\n",
        "\n",
        "\n",
        "\n",
        "\n",
        "\n",
        "\n",
        "\n",
        "\n",
        "\n",
        "\n",
        "\n",
        "\n",
        "\n",
        "\n",
        "\n",
        "\n",
        "\n",
        "\n",
        "\n",
        "\n",
        "\n",
        "\n",
        "\n",
        "\n",
        "\n",
        "\n",
        "\n",
        "\n",
        "+"
      ]
    },
    {
      "cell_type": "markdown",
      "metadata": {
        "id": "GKriEuS8p3OG"
      },
      "source": [
        "#### Chart - 1. What is the trend of *bookings* over **month**, **week** and **day**?"
      ]
    },
    {
      "cell_type": "code",
      "execution_count": null,
      "metadata": {
        "colab": {
          "base_uri": "https://localhost:8080/",
          "height": 368
        },
        "id": "kYr490Xq4atA",
        "outputId": "214aed87-96fa-4ad2-b14d-6816e315e025"
      },
      "outputs": [
        {
          "data": {
            "image/png": "[encoded data removed]",
            "text/plain": [
              "<Figure size 1800x360 with 3 Axes>"
            ]
          },
          "metadata": {
            "needs_background": "light"
          },
          "output_type": "display_data"
        }
      ],
      "source": [
        "cat_columns_ordinal =['arrival_date_month', 'arrival_date_week_number', 'arrival_date_day_of_month']\n",
        "\n",
        "# Create a figure with 3 subplots\n",
        "plt.figure(figsize = [25, 5]) \n",
        "\n",
        "# 1 row, 3 cols, subplot 1\n",
        "plt.subplot(1, 3, 1)\n",
        "x=cat_columns_ordinal[0]\n",
        "\n",
        "# Create a histogram of the values in the column\n",
        "plt.hist(df_2[x], bins = 12)\n",
        "plt.xlabel(str(x))\n",
        "plt.xticks(rotation = 20)\n",
        "\n",
        "# Subplot 2\n",
        "plt.subplot(1, 3, 2)\n",
        "# Assign the second column in the list to x\n",
        "x=cat_columns_ordinal[1]\n",
        "\n",
        "# Create a histogram of the values in the column\n",
        "plt.hist(df_2[x], bins = 53)\n",
        "plt.xlabel(str(x))\n",
        "plt.xticks(rotation = 20)\n",
        "\n",
        "# Subplot 3\n",
        "plt.subplot(1, 3, 3)\n",
        "x=cat_columns_ordinal[2]\n",
        "\n",
        "# Create a histogram of the values in the column\n",
        "plt.hist(df_2[x], bins = 31)\n",
        "plt.xlabel(str(x))\n",
        "plt.xticks(rotation = 20)\n",
        "\n",
        "# Show the figure\n",
        "plt.show()\n"
      ]
    },
    {
      "cell_type": "markdown",
      "metadata": {
        "id": "K5QZ13OEpz2H"
      },
      "source": [
        "##### 1. Why did you pick the specific chart?"
      ]
    },
    {
      "cell_type": "markdown",
      "metadata": {
        "id": "XESiWehPqBRc"
      },
      "source": [
        "Histograms helps us to see the distribution of data over categories or a period of time."
      ]
    },
    {
      "cell_type": "markdown",
      "metadata": {
        "id": "lQ7QKXXCp7Bj"
      },
      "source": [
        "##### 2. What is/are the insight(s) found from the chart?"
      ]
    },
    {
      "cell_type": "markdown",
      "metadata": {
        "id": "pYA8-Rx2qGXL"
      },
      "source": [
        "- Based on the data, it appears that bookings vary by season, with the highest number of bookings take place during the months of May, June, July, and August. \n",
        "- The months of November, December, January, and February tend to have the lowest levels of bookings.\""
      ]
    },
    {
      "cell_type": "markdown",
      "metadata": {
        "id": "448CDAPjqfQr"
      },
      "source": [
        "##### 3. Will the gained insights help creating a positive business impact? "
      ]
    },
    {
      "cell_type": "markdown",
      "metadata": {
        "id": "3cspy4FjqxJW"
      },
      "source": [
        "- Identifying the periods of higher demand can help the management to prepare beforehand and allocate more resources\n",
        "- Additionally strategies can be developed to address lower demand periods."
      ]
    },
    {
      "cell_type": "markdown",
      "metadata": {
        "id": "ICO9KadDxtxz"
      },
      "source": [
        "#### Chart - 2. What are the guest demographics?"
      ]
    },
    {
      "cell_type": "code",
      "execution_count": null,
      "metadata": {
        "id": "evl_oWRixtxz",
        "outputId": "49abab11-7bcc-47bd-adb0-28d7521f045f"
      },
      "outputs": [
        {
          "data": {
            "image/png": "[encoded data removed]",
            "text/plain": [
              "<Figure size 432x288 with 1 Axes>"
            ]
          },
          "metadata": {
            "needs_background": "light"
          },
          "output_type": "display_data"
        }
      ],
      "source": [
        "# Get the top 20 countries based on the number of bookings and the proportion of total bookings\n",
        "df_top = (df_2['country'].value_counts()[:20]*100/len(df_2)).round(2)\n",
        "\n",
        "# Create a bar plot with the top countries on the y-axis and the proportion of bookings on the x-axis\n",
        "sns.barplot(x=df_top.values, y=df_top.index)\n",
        "\n",
        "# Add x-axis label\n",
        "plt.xlabel('Proportion of Total Bookings')\n",
        "# Add y-axis label\n",
        "plt.ylabel('Country')\n",
        "\n",
        "# Loop through the bars and add the percentage value above each bar\n",
        "for idx,y in enumerate(df_top.values):\n",
        "    plt.text(y,idx,str(y)+'%', ha ='left')     \n",
        "# Show the plot\n",
        "plt.show()\n"
      ]
    },
    {
      "cell_type": "markdown",
      "metadata": {
        "id": "kA-npbPdxtxz"
      },
      "source": [
        "##### 1. Why did you pick the specific chart?"
      ]
    },
    {
      "cell_type": "markdown",
      "metadata": {
        "id": "zUFWh_IZxtx0"
      },
      "source": [
        "- Here horizontal bar chart helps us to visualize and compare multiple categories "
      ]
    },
    {
      "cell_type": "markdown",
      "metadata": {
        "id": "q0a2qSbSxtx0"
      },
      "source": [
        "##### 2. What is/are the insight(s) found from the chart?"
      ]
    },
    {
      "cell_type": "markdown",
      "metadata": {
        "id": "EyXaZAJExtx0"
      },
      "source": [
        "- Guests from `Portugal` has made most bookings (`31%`) followed by `United Kingdom` (`12%`) and `France` (`10%`). "
      ]
    },
    {
      "cell_type": "markdown",
      "metadata": {
        "id": "pOvmtI7mxtx0"
      },
      "source": [
        "##### 3. Will the gained insights help creating a positive business impact? "
      ]
    },
    {
      "cell_type": "markdown",
      "metadata": {
        "id": "Jcg7zAwQxtx1"
      },
      "source": [
        "- Identifying the demographics of guests helps to better prepare staffs and run ad-campaigns "
      ]
    },
    {
      "cell_type": "markdown",
      "metadata": {
        "id": "KSlN3yHqYklG"
      },
      "source": [
        "#### Chart - 3. What is the **percentage of cancellations?**\n"
      ]
    },
    {
      "cell_type": "code",
      "execution_count": null,
      "metadata": {
        "colab": {
          "base_uri": "https://localhost:8080/",
          "height": 336
        },
        "id": "R4YgtaqtYklH",
        "outputId": "0ffde38f-de37-481c-dac0-aae03ebc5d4f"
      },
      "outputs": [
        {
          "data": {
            "image/png": "[encoded data removed]",
            "text/plain": [
              "<Figure size 720x360 with 1 Axes>"
            ]
          },
          "metadata": {
            "needs_background": "light"
          },
          "output_type": "display_data"
        }
      ],
      "source": [
        "# Chart - 2 visualization code\n",
        "#identify percentage of cancellations\n",
        "\n",
        "# Get percentage of value counts for 'arrival_date_month' column\n",
        "counts = (df_2['is_canceled'].value_counts()*100/len(df_2)).round(2)\n",
        "\n",
        "# Set figure size\n",
        "plt.figure(figsize = [10  , 5])   \n",
        "\n",
        "# Create a barplot using the value counts\n",
        "sns.barplot(x=counts.index, y=counts.values, order = counts.index )\n",
        "\n",
        "#Rotate x-tick labels for easier reading, add x-label\n",
        "plt.xticks(rotation = 20)\n",
        "plt.xlabel('is_canceled')\n",
        "\n",
        "#Add value count labels on top of each bar\n",
        "for idx,y in enumerate(counts.values):\n",
        "  \n",
        "  #plt.text(x_co-ord, y_co-ord, value, ha(horrizontal alignment))\n",
        "  plt.text(idx,y+0.5,str(y)+'%', ha ='center') \n",
        "plt.show()"
      ]
    },
    {
      "cell_type": "markdown",
      "metadata": {
        "id": "t6dVpIINYklI"
      },
      "source": [
        "\n",
        "\n",
        "\n",
        "\n",
        "\n",
        "\n",
        "##### 1. Why did you pick the specific chart?"
      ]
    },
    {
      "cell_type": "markdown",
      "metadata": {
        "id": "5aaW0BYyYklI"
      },
      "source": [
        "A bar chart makes it easier compare the different categories. Here it helps to visualize and compare the proportion of bookings that were cancelled"
      ]
    },
    {
      "cell_type": "markdown",
      "metadata": {
        "id": "ijmpgYnKYklI"
      },
      "source": [
        "##### 2. What is/are the insight(s) found from the chart?"
      ]
    },
    {
      "cell_type": "markdown",
      "metadata": {
        "id": "PSx9atu2YklI"
      },
      "source": [
        "- From the chart we an see that a good portion (`27%`) of the bookings were cancelled which leads to loss of revenue"
      ]
    },
    {
      "cell_type": "markdown",
      "metadata": {
        "id": "-JiQyfWJYklI"
      },
      "source": [
        "##### 3. Will the gained insights help creating a positive business impact? \n",
        "Are there any insights that lead to negative growth? Justify with specific reason."
      ]
    },
    {
      "cell_type": "markdown",
      "metadata": {
        "id": "BcBbebzrYklV"
      },
      "source": [
        "- The cancellations can lead to negative growth due to a decrease in revenue. Further analysis can be conducted to identify the reason/sources of high cancellations"
      ]
    },
    {
      "cell_type": "markdown",
      "metadata": {
        "id": "mZmrZinTlEKW"
      },
      "source": [
        "## **Bivariate Analysis**"
      ]
    },
    {
      "cell_type": "markdown",
      "metadata": {
        "id": "OH-pJp9IphqM"
      },
      "source": [
        "#### Chart - 5. Which Hotel generates highest ADR?\n"
      ]
    },
    {
      "cell_type": "code",
      "execution_count": null,
      "metadata": {
        "colab": {
          "base_uri": "https://localhost:8080/",
          "height": 290
        },
        "id": "r84ImAAL3t8e",
        "outputId": "8b0c5226-06f8-4b0b-8748-30f969b3de2a"
      },
      "outputs": [
        {
          "data": {
            "image/png": "[encoded data removed]",
            "text/plain": [
              "<Figure size 432x288 with 1 Axes>"
            ]
          },
          "metadata": {
            "needs_background": "light"
          },
          "output_type": "display_data"
        }
      ],
      "source": [
        "# Chart - 2 visualization code\n",
        "df_2['Total_stay_duration'] = df_2['stays_in_weekend_nights'] + df_2['stays_in_week_nights']\n",
        "df_2['revenue'] = df_2['Total_stay_duration']*df_2['adr']\n",
        "group_1 = pd.DataFrame(df_2[['hotel','revenue']].groupby(['hotel']).sum())\n",
        "# Grouping returns a multi-index pandas series. Use pd.DataFrame to convert to a dataframe\n",
        "sns.barplot(data = group_1, x=group_1.index,y='revenue')\n",
        "#Add value count labels on top of each bar\n",
        "for idx,y in enumerate(group_1.values):\n",
        "  \n",
        "  #plt.text(x_co-ord, y_co-ord, value, ha(horrizontal alignment))\n",
        "  plt.text(idx,y+(10**5),str((y/10**6).round(2))+' M', ha ='center') \n",
        "plt.show()"
      ]
    },
    {
      "cell_type": "markdown",
      "metadata": {
        "id": "bbFf2-_FphqN"
      },
      "source": [
        "##### 1. Why did you pick the specific chart?"
      ]
    },
    {
      "cell_type": "markdown",
      "metadata": {
        "id": "loh7H2nzphqN"
      },
      "source": [
        "Here the Bar chart helps us to easily visualize and compare the difference in revenue of the two hotels."
      ]
    },
    {
      "cell_type": "markdown",
      "metadata": {
        "id": "_ouA3fa0phqN"
      },
      "source": [
        "##### 2. What is/are the insight(s) found from the chart?"
      ]
    },
    {
      "cell_type": "markdown",
      "metadata": {
        "id": "VECbqPI7phqN"
      },
      "source": [
        "- City Hotel and Resort hotel has generated a revenue of `18.75 M Pounds` and `15.49 M pounds` respectively during the period `2015-05-01` - `2017-09-01`."
      ]
    },
    {
      "cell_type": "markdown",
      "metadata": {
        "id": "Seke61FWphqN"
      },
      "source": [
        "##### 3. Will the gained insights help creating a positive business impact? \n",
        "Are there any insights that lead to negative growth? Justify with specific reason."
      ]
    },
    {
      "cell_type": "markdown",
      "metadata": {
        "id": "DW4_bGpfphqN"
      },
      "source": [
        " - Revenue is a key metric which is used to identify the performance of a hotel. This can help us in the further evaluations."
      ]
    },
    {
      "cell_type": "markdown",
      "metadata": {
        "id": "4Of9eVA-YrdM"
      },
      "source": [
        "#### Chart - 6. How does average of ADR varies by Week,Room type and Market Segment? \n"
      ]
    },
    {
      "cell_type": "code",
      "execution_count": null,
      "metadata": {
        "id": "rhsWtlOQxtx9",
        "outputId": "4caf6e9a-923e-4577-a367-7d0e4a6a486a"
      },
      "outputs": [
        {
          "data": {
            "image/png": "[encoded data removed]",
            "text/plain": [
              "<Figure size 1440x360 with 3 Axes>"
            ]
          },
          "metadata": {
            "needs_background": "light"
          },
          "output_type": "display_data"
        }
      ],
      "source": [
        "plt.figure(figsize = [20  , 5])\n",
        "plt.subplot(1,3,1)\n",
        "df_2.groupby('arrival_date_week_number')['adr'].mean().plot()\n",
        "plt.title(\"Average ADR by Week Number\")\n",
        "\n",
        "plt.subplot(1,3,2)\n",
        "df_2.groupby('reserved_room_type')['adr'].mean().sort_values(ascending =False).plot(kind='bar')\n",
        "plt.title(\"Average ADR by Room Type\")\n",
        "\n",
        "plt.subplot(1,3,3)\n",
        "df_2.groupby('market_segment')['adr'].mean().sort_values(ascending =False).plot(kind='bar')\n",
        "plt.title(\"Average ADR by Market Segment\")\n",
        "\n",
        "plt.show()"
      ]
    },
    {
      "cell_type": "markdown",
      "metadata": {
        "id": "iky9q4vBYrdO"
      },
      "source": [
        "##### 1. Why did you pick the specific chart?"
      ]
    },
    {
      "cell_type": "markdown",
      "metadata": {
        "id": "aJRCwT6DYrdO"
      },
      "source": [
        "- Here the line chart helps to see the trend of ADR over time, while the bar chart helps to compare different categories."
      ]
    },
    {
      "cell_type": "markdown",
      "metadata": {
        "id": "F6T5p64dYrdO"
      },
      "source": [
        "##### 2. What is/are the insight(s) found from the chart?"
      ]
    },
    {
      "cell_type": "markdown",
      "metadata": {
        "id": "Xx8WAJvtYrdO"
      },
      "source": [
        "- The peak in average `ADR` occurs during the `weeks 30-35` which can be correlated to high booking demand.\n",
        "- This might be due to the hotels adjusting the room rates for the higher demand and increased sales of other amenities. \n",
        "- The rooms which generates the highest `ADR` are `H` followed `G`, and `F`\n",
        "- The market segment which generates highest `ADR` are `Online Travel Agent` followed by `Direct Booking` and `Aviation`\n"
      ]
    },
    {
      "cell_type": "markdown",
      "metadata": {
        "id": "y-Ehk30pYrdP"
      },
      "source": [
        "##### 3. Will the gained insights help creating a positive business impact? "
      ]
    },
    {
      "cell_type": "markdown",
      "metadata": {
        "id": "4zY-Kz7sxtyA"
      },
      "source": [
        "- Since `online TA` generates high ADR the management can direct its marketing towards online mediums to increase its visibility on these platforms and potentially capture more bookings."
      ]
    },
    {
      "cell_type": "markdown",
      "metadata": {
        "id": "Fx1c3KWixtyA"
      },
      "source": [
        "#### Chart 7. How does adr varies with room type?"
      ]
    },
    {
      "cell_type": "code",
      "execution_count": null,
      "metadata": {
        "id": "CNygUJF4xtyB",
        "outputId": "ee90b1c3-f3c2-400e-f0b2-b102e90f6a43"
      },
      "outputs": [
        {
          "data": {
            "image/png": "[encoded data removed]",
            "text/plain": [
              "<Figure size 1440x360 with 2 Axes>"
            ]
          },
          "metadata": {
            "needs_background": "light"
          },
          "output_type": "display_data"
        }
      ],
      "source": [
        "# Filtering outlier in ADR\n",
        "df_2 = df_2[df_2['adr']<1000]\n",
        "\n",
        "# Set figure size\n",
        "plt.figure(figsize=(20,5))\n",
        "\n",
        "# First subplot\n",
        "plt.subplot(1,2,1)\n",
        "\n",
        "# Add boxplot for ADR over assigned room type\n",
        "sns.boxplot(x='assigned_room_type', y='adr', data=df_2)\n",
        "plt.xlabel('Assigned Room Type')\n",
        "plt.ylabel('Average Daily Rate')\n",
        "plt.title('ADR vs Room Type')\n",
        "\n",
        "# Second subplot\n",
        "plt.subplot(1,2,2)\n",
        "\n",
        "# Add countplot for bookings over room type\n",
        "sns.countplot(data=df_2, x='assigned_room_type')\n",
        "plt.xlabel('Assigned Room Type')\n",
        "plt.ylabel('Bookings Count')\n",
        "plt.title('Bookings Count vs Room Type')\n",
        "\n",
        "plt.show()\n"
      ]
    },
    {
      "cell_type": "markdown",
      "metadata": {
        "id": "w8dOe600xtyB"
      },
      "source": [
        "##### 1. Why did you pick the specific chart?"
      ]
    },
    {
      "cell_type": "markdown",
      "metadata": {
        "id": "ZhVM-Om2xtyC"
      },
      "source": [
        "- Here the box plot helps to visualize the distribution of ADR over different room types"
      ]
    },
    {
      "cell_type": "markdown",
      "metadata": {
        "id": "37vhM4ooxtyC"
      },
      "source": [
        "##### 2. What is/are the insight(s) found from the chart?"
      ]
    },
    {
      "cell_type": "markdown",
      "metadata": {
        "id": "uL3wNQ5HxtyC"
      },
      "source": [
        "- Most booked rooms are `A`, `D`, `E` with an average ADR of `95`, `109` and `119` respectively\n",
        "- Most expensive rooms are `F`,`G` and `H` with average ADR of `153`, `167`, and `172` respectively\n",
        "- Average daily rate is negatively correlated to number of bookings"
      ]
    },
    {
      "cell_type": "markdown",
      "metadata": {
        "id": "rKAQXcGaxtyD"
      },
      "source": [
        "##### 3. Will the gained insights help creating a positive business impact? "
      ]
    },
    {
      "cell_type": "markdown",
      "metadata": {
        "id": "9oNtIO2FxtyD"
      },
      "source": [
        "- Management can use these insights to optimize ADR and to maximize revenue"
      ]
    },
    {
      "cell_type": "markdown",
      "metadata": {
        "id": "PIIx-8_IphqN"
      },
      "source": [
        "#### Chart - 8. Which hotel has highest cancellations?"
      ]
    },
    {
      "cell_type": "code",
      "execution_count": null,
      "metadata": {
        "id": "-3XUkvLCxtyD",
        "outputId": "6802ed7a-b6a4-494d-fa76-574a5dd905af"
      },
      "outputs": [
        {
          "data": {
            "text/plain": [
              "hotel\n",
              "City Hotel      29.90\n",
              "Resort Hotel    23.36\n",
              "Name: is_canceled, dtype: float64"
            ]
          },
          "execution_count": 27,
          "metadata": {},
          "output_type": "execute_result"
        }
      ],
      "source": [
        "counts_total = counts = df_2.groupby('hotel')['is_canceled'].count()\n",
        "counts = (df_2.groupby('hotel')['is_canceled'].sum()* 100 / counts_total).round(2)\n",
        "counts\n",
        "#counts_r"
      ]
    },
    {
      "cell_type": "code",
      "execution_count": null,
      "metadata": {
        "colab": {
          "base_uri": "https://localhost:8080/",
          "height": 355
        },
        "id": "lqAIGUfyphqO",
        "outputId": "d5b3a48c-fb50-4674-a6bf-87acc4deec26"
      },
      "outputs": [
        {
          "data": {
            "image/png": "[encoded data removed]",
            "text/plain": [
              "<Figure size 432x288 with 1 Axes>"
            ]
          },
          "metadata": {
            "needs_background": "light"
          },
          "output_type": "display_data"
        }
      ],
      "source": [
        "\n",
        "# Get Total_bookings for each hotel\n",
        "counts_total = counts = df_2.groupby('hotel')['is_canceled'].count()\n",
        "\n",
        "# Get percentage of cancellations for each hotel\n",
        "counts = (df_2.groupby('hotel')['is_canceled'].sum()* 100 / counts_total).round(2)\n",
        "\n",
        "# Create a barplot of cancellation percentages for each hotel\n",
        "sns.barplot(x=counts.index, y=counts.values)\n",
        "\n",
        "# Add x and y labels\n",
        "plt.xlabel('Hotel')\n",
        "plt.ylabel('Cancellation Percentage (%)')\n",
        "\n",
        "# Add value count labels on top of each bar\n",
        "for i, v in enumerate(counts.values):\n",
        "    plt.text(i, v, f'{v}%', ha='center')\n",
        "\n",
        "# Show plot\n",
        "plt.show()"
      ]
    },
    {
      "cell_type": "markdown",
      "metadata": {
        "id": "t27r6nlMphqO"
      },
      "source": [
        "##### 1. Why did you pick the specific chart?"
      ]
    },
    {
      "cell_type": "markdown",
      "metadata": {
        "id": "iv6ro40sphqO"
      },
      "source": [
        "Here barchart helps us compare and visualize differences in percentage of cancellations in each hotel"
      ]
    },
    {
      "cell_type": "markdown",
      "metadata": {
        "id": "r2jJGEOYphqO"
      },
      "source": [
        "##### 2. What is/are the insight(s) found from the chart?"
      ]
    },
    {
      "cell_type": "markdown",
      "metadata": {
        "id": "Po6ZPi4hphqO"
      },
      "source": [
        "We can observe that that City Hotels have a higher percentage of cancellations compared to Resort Hotels."
      ]
    },
    {
      "cell_type": "markdown",
      "metadata": {
        "id": "b0JNsNcRphqO"
      },
      "source": [
        "##### 3. Will the gained insights help creating a positive business impact? \n",
        "Are there any insights that lead to negative growth? Justify with specific reason."
      ]
    },
    {
      "cell_type": "markdown",
      "metadata": {
        "id": "xvSq8iUTphqO"
      },
      "source": [
        "- Cancellations can lead to a loss of revenue. We can try to identify the reasons for this in our further analysis."
      ]
    },
    {
      "cell_type": "markdown",
      "metadata": {
        "id": "bamQiAODYuh1"
      },
      "source": [
        "#### Chart - 9. How does cancellation rate varies by Room Type? "
      ]
    },
    {
      "cell_type": "code",
      "execution_count": null,
      "metadata": {
        "id": "XW-6JjnGxtyG",
        "outputId": "b70c77c5-69a5-428b-f179-01abaa84001f"
      },
      "outputs": [
        {
          "data": {
            "image/png": "[encoded data removed]",
            "text/plain": [
              "<Figure size 1440x720 with 3 Axes>"
            ]
          },
          "metadata": {
            "needs_background": "light"
          },
          "output_type": "display_data"
        }
      ],
      "source": [
        "plt.figure(figsize=[20,10])\n",
        "\n",
        "# Subplot for Cancelled Room Types\n",
        "plt.subplot(2, 3, 1)\n",
        "\n",
        "# Get percentage of cancelled rooms grouped by room type\n",
        "cancelled_rooms = (df_2.groupby('reserved_room_type')['is_canceled'].sum() * 100 / len(df_2)).round(2).sort_values(ascending=False)\n",
        "\n",
        "# PLot barplot for cancelled_rooms\n",
        "sns.barplot(x=cancelled_rooms.index, y=cancelled_rooms.values)\n",
        "plt.title('Cancellation % across Room Types')\n",
        "plt.ylabel('Cancellation Percentage (%)')\n",
        "for i, v in enumerate(cancelled_rooms.values):\n",
        "    plt.text(i, v, f'{v}%', ha='center')\n",
        "\n",
        "# Subplots for Room Type Distribution\n",
        "# Use for loop to plot booking percentage for two room types\n",
        "room_types = ['reserved_room_type', 'assigned_room_type']\n",
        "for i, col in enumerate(room_types):\n",
        "    plt.subplot(2, 3, i+2)\n",
        "    counts = (df_2[col].value_counts() * 100 / len(df_2)).round(1)\n",
        "    sns.barplot(x=counts.index, y=counts.values)\n",
        "    plt.title('Booking % for '+str(col))\n",
        "    plt.ylabel('Booking Percentage (%)')\n",
        "\n",
        "    # Show % value on top of bars\n",
        "    for j, val in enumerate(counts.values):\n",
        "        plt.text(j, val, f'{val}%', ha='center')\n",
        "        "
      ]
    },
    {
      "cell_type": "markdown",
      "metadata": {
        "id": "QHF8YVU7Yuh3"
      },
      "source": [
        "##### 1. Why did you pick the specific chart?"
      ]
    },
    {
      "cell_type": "markdown",
      "metadata": {
        "id": "dcxuIMRPYuh3"
      },
      "source": [
        "- Bar chart helps us to visualize and compare the cancellation rates across room types"
      ]
    },
    {
      "cell_type": "markdown",
      "metadata": {
        "id": "GwzvFGzlYuh3"
      },
      "source": [
        "##### 2. What is/are the insight(s) found from the chart?"
      ]
    },
    {
      "cell_type": "markdown",
      "metadata": {
        "id": "uyqkiB8YYuh3"
      },
      "source": [
        "- Cancellations are higher for room `A` followed by `D` and `E`\n",
        "- From the booking percentages can see the shift of provided rooms from `A` to `D` and `E`. \n",
        "- Hence we can conclude that room type `A` is getting cancelled due to the lack of availability."
      ]
    },
    {
      "cell_type": "markdown",
      "metadata": {
        "id": "qYpmQ266Yuh3"
      },
      "source": [
        "##### 3. Will the gained insights help creating a positive business impact? \n",
        "Are there any insights that lead to negative growth? Justify with specific reason."
      ]
    },
    {
      "cell_type": "markdown",
      "metadata": {
        "id": "yTKeXjJvxtyJ"
      },
      "source": [
        "- Increasing the availabilty of most popular room (A) could decrease cancellations and increase revenue"
      ]
    },
    {
      "cell_type": "markdown",
      "metadata": {
        "id": "7rn4smqUxtyJ"
      },
      "source": [
        "#### Chart - 10. How does cancellation rate varies by market segment? \n"
      ]
    },
    {
      "cell_type": "code",
      "execution_count": null,
      "metadata": {
        "id": "36kINW_fn-dL",
        "outputId": "3da11694-48c8-4882-c489-f183f04808b2"
      },
      "outputs": [
        {
          "data": {
            "image/png": "[encoded data removed]",
            "text/plain": [
              "<Figure size 432x288 with 1 Axes>"
            ]
          },
          "metadata": {
            "needs_background": "light"
          },
          "output_type": "display_data"
        },
        {
          "data": {
            "text/html": [
              "<div>\n",
              "<style scoped>\n",
              "    .dataframe tbody tr th:only-of-type {\n",
              "        vertical-align: middle;\n",
              "    }\n",
              "\n",
              "    .dataframe tbody tr th {\n",
              "        vertical-align: top;\n",
              "    }\n",
              "\n",
              "    .dataframe thead th {\n",
              "        text-align: right;\n",
              "    }\n",
              "</style>\n",
              "<table border=\"1\" class=\"dataframe\">\n",
              "  <thead>\n",
              "    <tr style=\"text-align: right;\">\n",
              "      <th>is_canceled</th>\n",
              "      <th>0</th>\n",
              "      <th>1</th>\n",
              "    </tr>\n",
              "    <tr>\n",
              "      <th>market_segment</th>\n",
              "      <th></th>\n",
              "      <th></th>\n",
              "    </tr>\n",
              "  </thead>\n",
              "  <tbody>\n",
              "    <tr>\n",
              "      <th>Aviation</th>\n",
              "      <td>182</td>\n",
              "      <td>45</td>\n",
              "    </tr>\n",
              "    <tr>\n",
              "      <th>Complementary</th>\n",
              "      <td>612</td>\n",
              "      <td>86</td>\n",
              "    </tr>\n",
              "    <tr>\n",
              "      <th>Corporate</th>\n",
              "      <td>3534</td>\n",
              "      <td>497</td>\n",
              "    </tr>\n",
              "    <tr>\n",
              "      <th>Groups</th>\n",
              "      <td>3602</td>\n",
              "      <td>1269</td>\n",
              "    </tr>\n",
              "    <tr>\n",
              "      <th>Direct</th>\n",
              "      <td>9924</td>\n",
              "      <td>1702</td>\n",
              "    </tr>\n",
              "    <tr>\n",
              "      <th>Offline TA/TO</th>\n",
              "      <td>11798</td>\n",
              "      <td>2007</td>\n",
              "    </tr>\n",
              "    <tr>\n",
              "      <th>Online TA</th>\n",
              "      <td>33299</td>\n",
              "      <td>18133</td>\n",
              "    </tr>\n",
              "  </tbody>\n",
              "</table>\n",
              "</div>"
            ],
            "text/plain": [
              "is_canceled         0      1\n",
              "market_segment              \n",
              "Aviation          182     45\n",
              "Complementary     612     86\n",
              "Corporate        3534    497\n",
              "Groups           3602   1269\n",
              "Direct           9924   1702\n",
              "Offline TA/TO   11798   2007\n",
              "Online TA       33299  18133"
            ]
          },
          "execution_count": 30,
          "metadata": {},
          "output_type": "execute_result"
        }
      ],
      "source": [
        "# Creating a crosstab of market_segment and is_canceled columns and sorting by count of non cancelled bookings\n",
        "df_2_crosstab = pd.crosstab(df_2['market_segment'], df_2['is_canceled']).sort_values(by = 0)\n",
        "\n",
        "# Plotting the crosstab in a stacked bar chart\n",
        "df_2_crosstab.plot(kind='bar',stacked=True)\n",
        "\n",
        "# Adding the percentage values of cancellations on top of each bar\n",
        "ax = plt.gca()\n",
        "for i,x in enumerate(df_2_crosstab.values):\n",
        "    plt.text(i, (x[0]+x[1])*1.01, '{:.2%}'.format(x[1]/(x[0]+x[1])), ha='center')\n",
        "    \n",
        "ax.set_ylabel(\"Counts\")\n",
        "ax.set_xlabel(\"Market Segment\")\n",
        "ax.legend(title='is_canceled')\n",
        "plt.show()\n",
        "df_2_crosstab"
      ]
    },
    {
      "cell_type": "markdown",
      "metadata": {
        "id": "OqdzbDgFxtyK"
      },
      "source": [
        "##### 2. What is/are the insight(s) found from the chart?"
      ]
    },
    {
      "cell_type": "markdown",
      "metadata": {
        "id": "eSO2_6-IxtyK"
      },
      "source": [
        "- `Online TA` has the highest percentage of cancellation at `35.4%` \n",
        "- `Offline TA/TO` and `groups` have relatively lesser cancellations at `14.54%` and `14.64%` respectively"
      ]
    },
    {
      "cell_type": "markdown",
      "metadata": {
        "id": "I2PkB77ixtyL"
      },
      "source": [
        "##### 3. Will the gained insights help creating a positive business impact? \n",
        "Are there any insights that lead to negative growth? Justify with specific reason."
      ]
    },
    {
      "cell_type": "markdown",
      "metadata": {
        "id": "ee3BD5l6xtyL"
      },
      "source": [
        "- Identifying areas of higher cancellations could help the hotel to make the necessary changes to address these issues."
      ]
    },
    {
      "cell_type": "markdown",
      "metadata": {
        "id": "bzV1Z6fhxtyL"
      },
      "source": [
        "#### Chart - 11. How does ADR and number of bookings varies over time?\n"
      ]
    },
    {
      "cell_type": "code",
      "execution_count": null,
      "metadata": {
        "id": "47jEcomextyL",
        "outputId": "239d49ae-6c19-4488-926c-68844b644691"
      },
      "outputs": [
        {
          "data": {
            "text/plain": [
              "<AxesSubplot:xlabel='reservation_status_date'>"
            ]
          },
          "execution_count": 31,
          "metadata": {},
          "output_type": "execute_result"
        },
        {
          "data": {
            "image/png": "[encoded data removed]",
            "text/plain": [
              "<Figure size 432x288 with 1 Axes>"
            ]
          },
          "metadata": {
            "needs_background": "light"
          },
          "output_type": "display_data"
        },
        {
          "data": {
            "image/png": "[encoded data removed]",
            "text/plain": [
              "<Figure size 432x288 with 1 Axes>"
            ]
          },
          "metadata": {
            "needs_background": "light"
          },
          "output_type": "display_data"
        }
      ],
      "source": [
        "# Calculating the count of bookings by month using pd.Grouper\n",
        "# Since count is taken on 'adr' column, rename column 'adr' to 'Booking count'\n",
        "bookings_by_month = df_2[['reservation_status_date','adr','hotel']].rename(columns={'adr':'Bookings_Count'})\n",
        "bookings_by_month = bookings_by_month.groupby([pd.Grouper(key='reservation_status_date', freq='M'),'hotel']).count()\n",
        "\n",
        "# plot the output\n",
        "bookings_by_month.unstack().plot()\n",
        "\n",
        "# Calculating the average of adr generated by month using pd.Grouper\n",
        "adr_by_month = df_2[['reservation_status_date','adr','hotel']].groupby([pd.Grouper(key='reservation_status_date', freq='M'),'hotel']).mean()\n",
        "adr_by_month.unstack().plot()\n"
      ]
    },
    {
      "cell_type": "markdown",
      "metadata": {
        "id": "DYj1U40txtyM"
      },
      "source": [
        "##### 2. What is/are the insight(s) found from the chart?"
      ]
    },
    {
      "cell_type": "markdown",
      "metadata": {
        "id": "zNLBZ-gxxtyM"
      },
      "source": [
        "- From these tables, we can see that there are more bookings and higher ADR for City Hotels compared to Resort Hotels. Additionally, it appears that bookings and ADR for both City and Resort Hotels peak in the months of July and August.\n",
        "\n",
        "- It also appears that the ADR for City Hotels is consistently higher than that of Resort Hotels. This could indicate that City Hotels are able to charge higher rates for their rooms.\n",
        "\n",
        "- We can also observe that there is a increasing trend in the ADR for both city and resort hotels throughout the years."
      ]
    },
    {
      "cell_type": "markdown",
      "metadata": {
        "id": "4j4odDEUxtyM"
      },
      "source": [
        "##### 3. Will the gained insights help creating a positive business impact? \n",
        "Are there any insights that lead to negative growth? Justify with specific reason."
      ]
    },
    {
      "cell_type": "markdown",
      "metadata": {
        "id": "VzR8Qi9ixtyM"
      },
      "source": [
        "- Overall, these insights can help management to make strategic decisions such as adjusting room prices and allocating enough resources to optimize revenue during high-demand periods."
      ]
    },
    {
      "cell_type": "markdown",
      "metadata": {
        "id": "U2RJ9gkRphqQ"
      },
      "source": [
        "#### Chart - 12. Is there any relationship between Lead Time and Cancellation Rate?\n"
      ]
    },
    {
      "cell_type": "code",
      "execution_count": null,
      "metadata": {
        "id": "GM7a4YP4phqQ",
        "outputId": "0cba311b-8d7e-4cff-95a6-37711e27069d"
      },
      "outputs": [
        {
          "name": "stdout",
          "output_type": "stream",
          "text": [
            "38.0\n",
            "79.0\n"
          ]
        },
        {
          "data": {
            "image/png": "[encoded data removed]",
            "text/plain": [
              "<Figure size 432x288 with 1 Axes>"
            ]
          },
          "metadata": {
            "needs_background": "light"
          },
          "output_type": "display_data"
        }
      ],
      "source": [
        "# Chart - 10 visualization code\n",
        "# Filtering outliers\n",
        "data = df_2[df_2['lead_time']<500]\n",
        "\n",
        "# Plotting boxplot using sns.boxplot()\n",
        "sns.boxplot(data = data , x='is_canceled',y='lead_time')\n",
        "\n",
        "# Calculating mean of lead time for both categories\n",
        "mean_0 = df_2[df_2['is_canceled']==0]['lead_time'].quantile(0.5)\n",
        "mean_1 = df_2[df_2['is_canceled']==1]['lead_time'].quantile(0.5)\n",
        "print(mean_0)\n",
        "print(mean_1)"
      ]
    },
    {
      "cell_type": "markdown",
      "metadata": {
        "id": "1M8mcRywphqQ"
      },
      "source": [
        "##### 1. Why did you pick the specific chart?"
      ]
    },
    {
      "cell_type": "markdown",
      "metadata": {
        "id": "8agQvks0phqQ"
      },
      "source": [
        "Here boxplot is used to visualize the distribution of a numerical variable over a categorical variable"
      ]
    },
    {
      "cell_type": "markdown",
      "metadata": {
        "id": "tgIPom80phqQ"
      },
      "source": [
        "##### 2. What is/are the insight(s) found from the chart?"
      ]
    },
    {
      "cell_type": "markdown",
      "metadata": {
        "id": "Qp13pnNzphqQ"
      },
      "source": [
        "- The Average of lead time is `38 days` for not cancelled and `79 days` for cancelled bookings\n",
        "- High lead time can increase the probability of cancellations"
      ]
    },
    {
      "cell_type": "markdown",
      "metadata": {
        "id": "JMzcOPDDphqR"
      },
      "source": [
        "##### 3. Will the gained insights help creating a positive business impact? \n",
        "Are there any insights that lead to negative growth? Justify with specific reason."
      ]
    },
    {
      "cell_type": "markdown",
      "metadata": {
        "id": "R4Ka1PC2phqR"
      },
      "source": [
        "- The hotel can provide regular updates to the customers having higher lead time to reduce cancellations "
      ]
    },
    {
      "cell_type": "markdown",
      "metadata": {
        "id": "d5dP_MazeSQ1"
      },
      "source": [
        "#### Chart - 13. Is there any relationship between Deposit type and Cancellation Rate?\n"
      ]
    },
    {
      "cell_type": "code",
      "execution_count": null,
      "metadata": {
        "id": "vYQ4INZ5eSQ1",
        "outputId": "f065d93b-7c8d-4909-fe12-fa4e3cdb0489"
      },
      "outputs": [
        {
          "data": {
            "text/plain": [
              "Text(0.5, 1.0, 'Revenue by deposit type')"
            ]
          },
          "execution_count": 33,
          "metadata": {},
          "output_type": "execute_result"
        },
        {
          "data": {
            "image/png": "[encoded data removed]",
            "text/plain": [
              "<Figure size 720x360 with 2 Axes>"
            ]
          },
          "metadata": {
            "needs_background": "light"
          },
          "output_type": "display_data"
        }
      ],
      "source": [
        "# Creating a new dataframe 'data' with the cancellation rate for each deposit type\n",
        "data = (df_2.groupby('deposit_type')['is_canceled'].sum()/len(df_2)).reset_index()\n",
        "\n",
        "# Creating a figure with a size of (10,5)\n",
        "plt.figure(figsize=(10,5))\n",
        "\n",
        "# First subplot\n",
        "plt.subplot(1,2,1)\n",
        "\n",
        "# Creating a bar plot of the cancellation rate for each deposit type\n",
        "sns.barplot(x= 'deposit_type',y='is_canceled', data = data)\n",
        "\n",
        "# Adding the percentage value of cancellation rate on top of each bar\n",
        "for idx,y in enumerate(data['is_canceled']):\n",
        "    plt.text(idx,y,'{:.1%}'.format(y), ha ='center')\n",
        "\n",
        "# Adding title to the subplot\n",
        "plt.title(\"Cancellation rate by deposit type\")\n",
        "\n",
        "# Second subplot\n",
        "plt.subplot(1,2,2)\n",
        "\n",
        "# Creating a new dataframe 'data' with the revenue for each deposit type as a percentage of total revenue\n",
        "data = (df_2.groupby('deposit_type')['revenue'].sum()*100/sum(df_2['revenue'])).reset_index()\n",
        "\n",
        "# Creating a bar plot of the revenue for each deposit type\n",
        "sns.barplot(x= 'deposit_type',y='revenue', data = data)\n",
        "\n",
        "# Adding the percentage value of revenue on top of each bar\n",
        "for idx,y in enumerate(data['revenue']):\n",
        "    plt.text(idx,y,'{:.3}%'.format(y), ha ='center')\n",
        "\n",
        "# Adding title to the subplot\n",
        "plt.title(\"Revenue by deposit type\")\n"
      ]
    },
    {
      "cell_type": "markdown",
      "metadata": {
        "id": "b1PYqozveSQ1"
      },
      "source": [
        "##### 1. Why did you pick the specific chart?"
      ]
    },
    {
      "cell_type": "markdown",
      "metadata": {
        "id": "FFLb0UMYeSQ2"
      },
      "source": [
        "Here bar charts helps us to compare cancelation rate of different segments of customers "
      ]
    },
    {
      "cell_type": "markdown",
      "metadata": {
        "id": "W9fasnFUeSQ2"
      },
      "source": [
        "##### 2. What is/are the insight(s) found from the chart?"
      ]
    },
    {
      "cell_type": "markdown",
      "metadata": {
        "id": "YlhZmLXzeSQ2"
      },
      "source": [
        "- Data indicates Most `cancelations` are from customers booking without deposits (`26.3%` of total bookings)\n",
        "- Most `revenue` (`99.2%` of total revenue) is also from the same segment  "
      ]
    },
    {
      "cell_type": "markdown",
      "metadata": {
        "id": "brV7SCAFeSQ2"
      },
      "source": [
        "##### 3. Will the gained insights help creating a positive business impact? \n",
        "Are there any insights that lead to negative growth? Justify with specific reason."
      ]
    },
    {
      "cell_type": "markdown",
      "metadata": {
        "id": "Sv6aGqVqeSQ3"
      },
      "source": [
        "- To reduce the cancelation rates, the management could to encourage customers who are making a deposit by providing additional offers and reduced rates."
      ]
    },
    {
      "cell_type": "markdown",
      "metadata": {
        "id": "x-EpHcCOp1ci"
      },
      "source": [
        "#### Chart - 14. Duration  of stay over months and weeks?\n"
      ]
    },
    {
      "cell_type": "code",
      "execution_count": null,
      "metadata": {
        "id": "Ybfb1s_SxtyT",
        "outputId": "e9736177-dea2-49db-f761-15485c337c7a"
      },
      "outputs": [
        {
          "name": "stderr",
          "output_type": "stream",
          "text": [
            "C:\\Users\\pvana\\AppData\\Local\\Temp\\ipykernel_14176\\4149976128.py:23: FutureWarning: Series.dt.weekofyear and Series.dt.week have been deprecated. Please use Series.dt.isocalendar().week instead.\n",
            "  sns.lineplot(x=data['reservation_status_date'].dt.week,y='Total_stay_duration',data = data);\n"
          ]
        },
        {
          "name": "stdout",
          "output_type": "stream",
          "text": [
            "Total_stay_duration Statistics\n",
            "count    86326.000000\n",
            "mean         3.554769\n",
            "std          2.439017\n",
            "min          0.000000\n",
            "25%          2.000000\n",
            "50%          3.000000\n",
            "75%          5.000000\n",
            "max         14.000000\n",
            "Name: Total_stay_duration, dtype: float64\n"
          ]
        },
        {
          "data": {
            "image/png": "[encoded data removed]",
            "text/plain": [
              "<Figure size 864x288 with 2 Axes>"
            ]
          },
          "metadata": {
            "needs_background": "light"
          },
          "output_type": "display_data"
        }
      ],
      "source": [
        "# Creating a figure with a size of (12,4)\n",
        "plt.figure(figsize=(12,4))\n",
        "\n",
        "# Creating a new column 'Total_stay_duration' in the dataframe df_2\n",
        "df_2['Total_stay_duration'] = df_2['stays_in_weekend_nights'] + df_2['stays_in_week_nights']\n",
        "\n",
        "# Filtering the dataframe to include only rows where the total stay duration is less than 15 days for better visualization\n",
        "data = df_2[df_2['Total_stay_duration']<15].reset_index(drop = True)\n",
        "\n",
        "# First subplot\n",
        "plt.subplot(1,2,1)\n",
        "\n",
        "# Creating a boxplot of total stay duration by month of reservation status\n",
        "sns.boxplot(x=data['reservation_status_date'].dt.month,y='Total_stay_duration',data = data);\n",
        "\n",
        "# Adding title to the subplot\n",
        "plt.title(\"Total stay duration by month\")\n",
        "\n",
        "# Second subplot\n",
        "plt.subplot(1,2,2)\n",
        "\n",
        "# Creating a lineplot of total stay duration by week of reservation status\n",
        "sns.lineplot(x=data['reservation_status_date'].dt.week,y='Total_stay_duration',data = data);\n",
        "\n",
        "# Adding title to the subplot\n",
        "plt.title(\"Total stay duration by week\")\n",
        "\n",
        "#Printing the summary statistics of 'Total_stay_duration'\n",
        "print('Total_stay_duration Statistics')\n",
        "print(data['Total_stay_duration'].describe())\n",
        "\n",
        "# Show chart\n",
        "plt.show()"
      ]
    },
    {
      "cell_type": "markdown",
      "metadata": {
        "id": "X_VqEhTip1ck"
      },
      "source": [
        "##### 1. Why did you pick the specific chart?"
      ]
    },
    {
      "cell_type": "markdown",
      "metadata": {
        "id": "-vsMzt_np1ck"
      },
      "source": [
        "Here boxplots and lineplots helps us to visualize the distribution of duration data over different months"
      ]
    },
    {
      "cell_type": "markdown",
      "metadata": {
        "id": "8zGJKyg5p1ck"
      },
      "source": [
        "##### 2. What is/are the insight(s) found from the chart?"
      ]
    },
    {
      "cell_type": "markdown",
      "metadata": {
        "id": "ZYdMsrqVp1ck"
      },
      "source": [
        "- Average stay duration is relatively higher for the months `June` to `September`\n",
        "- The average stay duration lies between `2.8` and `4.2`\n",
        "- The average stay duration steadily increases upto approximately `35th week` then sharply decreases "
      ]
    },
    {
      "cell_type": "markdown",
      "metadata": {
        "id": "PVzmfK_Ep1ck"
      },
      "source": [
        "##### 3. Will the gained insights help creating a positive business impact? \n",
        "Are there any insights that lead to negative growth? Justify with specific reason."
      ]
    },
    {
      "cell_type": "markdown",
      "metadata": {
        "id": "druuKYZpp1ck"
      },
      "source": [
        "- Some months have relatively higher average stay duration. With these insights the hotel management can better allocate resources to meet the customer needs "
      ]
    },
    {
      "cell_type": "markdown",
      "metadata": {
        "id": "n3dbpmDWp1ck"
      },
      "source": [
        "#### Chart - 15. Is there any relationship between Duration of stay vs ADR?"
      ]
    },
    {
      "cell_type": "code",
      "execution_count": null,
      "metadata": {
        "id": "MFPja8r8xtyW"
      },
      "outputs": [],
      "source": [
        "# Removing outlier in adr\n",
        "df_2 = df_2[df_2['adr']<1000]"
      ]
    },
    {
      "cell_type": "code",
      "execution_count": null,
      "metadata": {
        "id": "bwevp1tKp1ck",
        "outputId": "51af0cf0-b6cd-458f-a96c-8d931f2b45f7"
      },
      "outputs": [
        {
          "data": {
            "image/png": "[encoded data removed]",
            "text/plain": [
              "<Figure size 432x288 with 1 Axes>"
            ]
          },
          "metadata": {
            "needs_background": "light"
          },
          "output_type": "display_data"
        }
      ],
      "source": [
        "# Chart - 12 visualization code\n",
        "# Total stay duration vs adr sns.scatterplot\n",
        "sns.scatterplot(x='Total_stay_duration',y='adr',data = df_2);"
      ]
    },
    {
      "cell_type": "markdown",
      "metadata": {
        "id": "ylSl6qgtp1ck"
      },
      "source": [
        "##### 1. Why did you pick the specific chart?"
      ]
    },
    {
      "cell_type": "markdown",
      "metadata": {
        "id": "m2xqNkiQp1ck"
      },
      "source": [
        "- Here, a scatterplot is used to visualize the relationship between two numerical continuous variables (adr and total stay duration) by displaying the dependency of the two variables on each other."
      ]
    },
    {
      "cell_type": "markdown",
      "metadata": {
        "id": "ZWILFDl5p1ck"
      },
      "source": [
        "##### 2. What is/are the insight(s) found from the chart?"
      ]
    },
    {
      "cell_type": "markdown",
      "metadata": {
        "id": "x-lUsV2mp1ck"
      },
      "source": [
        "- From the chart we can observe a `negative correlation` between `ADR` and `stay duarion`"
      ]
    },
    {
      "cell_type": "markdown",
      "metadata": {
        "id": "M7G43BXep1ck"
      },
      "source": [
        "##### 3. Will the gained insights help creating a positive business impact? \n",
        "Are there any insights that lead to negative growth? Justify with specific reason."
      ]
    },
    {
      "cell_type": "markdown",
      "metadata": {
        "id": "5wwDJXsLp1cl"
      },
      "source": [
        "- Since customers staying for shorter periods generate more ADR management can focus attracting more of these customers to increase revenue."
      ]
    },
    {
      "cell_type": "markdown",
      "metadata": {
        "id": "YKGNM3yMPjYJ"
      },
      "source": [
        "### Multi Variate Visualization"
      ]
    },
    {
      "cell_type": "markdown",
      "metadata": {
        "id": "8cZljQNkfDg_"
      },
      "source": [
        "#### Chart - 16 - What is the count of bookings and cancellations for each hotel over the years?"
      ]
    },
    {
      "cell_type": "code",
      "execution_count": null,
      "metadata": {
        "colab": {
          "base_uri": "https://localhost:8080/"
        },
        "id": "tAOMYKF5fDg_",
        "outputId": "8ef2f9d3-58e2-453a-a883-01f9145f2d5a"
      },
      "outputs": [
        {
          "data": {
            "text/html": [
              "<div>\n",
              "<style scoped>\n",
              "    .dataframe tbody tr th:only-of-type {\n",
              "        vertical-align: middle;\n",
              "    }\n",
              "\n",
              "    .dataframe tbody tr th {\n",
              "        vertical-align: top;\n",
              "    }\n",
              "\n",
              "    .dataframe thead tr th {\n",
              "        text-align: left;\n",
              "    }\n",
              "\n",
              "    .dataframe thead tr:last-of-type th {\n",
              "        text-align: right;\n",
              "    }\n",
              "</style>\n",
              "<table border=\"1\" class=\"dataframe\">\n",
              "  <thead>\n",
              "    <tr>\n",
              "      <th>hotel</th>\n",
              "      <th colspan=\"2\" halign=\"left\">City Hotel</th>\n",
              "      <th colspan=\"2\" halign=\"left\">Resort Hotel</th>\n",
              "    </tr>\n",
              "    <tr>\n",
              "      <th>is_canceled</th>\n",
              "      <th>0</th>\n",
              "      <th>1</th>\n",
              "      <th>0</th>\n",
              "      <th>1</th>\n",
              "    </tr>\n",
              "    <tr>\n",
              "      <th>arrival_date_year</th>\n",
              "      <th></th>\n",
              "      <th></th>\n",
              "      <th></th>\n",
              "      <th></th>\n",
              "    </tr>\n",
              "  </thead>\n",
              "  <tbody>\n",
              "    <tr>\n",
              "      <th>2015</th>\n",
              "      <td>5128</td>\n",
              "      <td>1321</td>\n",
              "      <td>5381</td>\n",
              "      <td>1123</td>\n",
              "    </tr>\n",
              "    <tr>\n",
              "      <th>2016</th>\n",
              "      <td>18969</td>\n",
              "      <td>7786</td>\n",
              "      <td>11968</td>\n",
              "      <td>3400</td>\n",
              "    </tr>\n",
              "    <tr>\n",
              "      <th>2017</th>\n",
              "      <td>13280</td>\n",
              "      <td>6838</td>\n",
              "      <td>8225</td>\n",
              "      <td>3271</td>\n",
              "    </tr>\n",
              "  </tbody>\n",
              "</table>\n",
              "</div>"
            ],
            "text/plain": [
              "hotel             City Hotel       Resort Hotel      \n",
              "is_canceled                0     1            0     1\n",
              "arrival_date_year                                    \n",
              "2015                    5128  1321         5381  1123\n",
              "2016                   18969  7786        11968  3400\n",
              "2017                   13280  6838         8225  3271"
            ]
          },
          "execution_count": 37,
          "metadata": {},
          "output_type": "execute_result"
        },
        {
          "data": {
            "image/png": "[encoded data removed]",
            "text/plain": [
              "<Figure size 432x288 with 1 Axes>"
            ]
          },
          "metadata": {
            "needs_background": "light"
          },
          "output_type": "display_data"
        }
      ],
      "source": [
        "# Chart - 13 visualization code\n",
        "pivot_1 = pd.pivot_table(df_2, index=['arrival_date_year'], columns=['hotel','is_canceled'], aggfunc='size')\n",
        "pivot_1.plot(kind ='bar',color=['#0ebded','#1c6a80','#0bb52a','#077319'])\n",
        "pivot_1"
      ]
    },
    {
      "cell_type": "markdown",
      "metadata": {
        "id": "zZVcvF_ifDhA"
      },
      "source": [
        "##### 1. Why did you pick the specific chart?"
      ]
    },
    {
      "cell_type": "markdown",
      "metadata": {
        "id": "9o_CjEcLxtya"
      },
      "source": [
        "- We can observe the trend in number of bookings and cancellations effectively using stacked bar charts"
      ]
    },
    {
      "cell_type": "markdown",
      "metadata": {
        "id": "Hq6nAkKWfDhA"
      },
      "source": [
        "##### 2. What is/are the insight(s) found from the chart?"
      ]
    },
    {
      "cell_type": "markdown",
      "metadata": {
        "id": "DTbT2NrGfDhA"
      },
      "source": [
        "\n",
        "- There seems to be an overall increase in the number of bookings in the year 2016 followed by a decrease in 2017.\n",
        "- The number of cancellations also seems to follow the same pattern. \n",
        "- The data suggests that City Hotel is more popular among customers but also has a higher cancellation rate"
      ]
    },
    {
      "cell_type": "markdown",
      "metadata": {
        "id": "dGNbNPHSfDhB"
      },
      "source": [
        "##### 3. Will the gained insights help creating a positive business impact? \n",
        "Are there any insights that lead to negative growth? Justify with specific reason."
      ]
    },
    {
      "cell_type": "markdown",
      "metadata": {
        "id": "uBr77pipfDhB"
      },
      "source": [
        "-The data suggests that Resort Hotel is less popular than City Hotel.If the hotel is not able to attract more customers and increase its popularity, it may struggle to grow occupancy and revenue. "
      ]
    },
    {
      "cell_type": "markdown",
      "metadata": {
        "id": "NC_X3p0fY2L0"
      },
      "source": [
        "#### Chart - 17 - Correlation Heatmap"
      ]
    },
    {
      "cell_type": "code",
      "execution_count": null,
      "metadata": {
        "colab": {
          "base_uri": "https://localhost:8080/"
        },
        "id": "xyC9zolEZNRQ",
        "outputId": "d62c22f9-f566-4799-80fe-e48440cc40f9"
      },
      "outputs": [
        {
          "data": {
            "text/plain": [
              "<seaborn.matrix.ClusterGrid at 0x2cd88a54ac0>"
            ]
          },
          "execution_count": 38,
          "metadata": {},
          "output_type": "execute_result"
        },
        {
          "data": {
            "image/png": "[encoded data removed]",
            "text/plain": [
              "<Figure size 792x720 with 4 Axes>"
            ]
          },
          "metadata": {
            "needs_background": "light"
          },
          "output_type": "display_data"
        }
      ],
      "source": [
        "# Correlation Heatmap visualization code\n",
        "df_3 = df_2.drop(['arrival_date_day_of_month', 'arrival_date_year',\n",
        "                  'arrival_date_month', 'arrival_date_week_number'], axis=1)\n",
        "sns.clustermap(df_3.corr(),cmap='RdBu',center=0,figsize=(11, 10))"
      ]
    },
    {
      "cell_type": "code",
      "execution_count": null,
      "metadata": {
        "colab": {
          "base_uri": "https://localhost:8080/"
        },
        "id": "Lw3auDL7OjZj",
        "outputId": "a45c2f91-5ad5-4a6a-dcf1-46014a9e4f82"
      },
      "outputs": [
        {
          "data": {
            "image/png": "[encoded data removed]",
            "text/plain": [
              "<Figure size 792x720 with 4 Axes>"
            ]
          },
          "metadata": {
            "needs_background": "light"
          },
          "output_type": "display_data"
        }
      ],
      "source": [
        "#sorted correlation chart of numerical values\n",
        "\n",
        "mask = (df_3.corr() < 0.1)&(df_3.corr() > -0.1)\n",
        "sns.clustermap(df_3.corr(),cmap='RdBu',center=0,figsize=(11, 10),annot=True,mask=mask)\n",
        "plt.show()"
      ]
    },
    {
      "cell_type": "markdown",
      "metadata": {
        "id": "UV0SzAkaZNRQ"
      },
      "source": [
        "##### 1. Why did you pick the specific chart?"
      ]
    },
    {
      "cell_type": "markdown",
      "metadata": {
        "id": "DVPuT8LYZNRQ"
      },
      "source": [
        "- A correlation heatmap helps us to visualize the correlations between multiple variables"
      ]
    },
    {
      "cell_type": "markdown",
      "metadata": {
        "id": "YPEH6qLeZNRQ"
      },
      "source": [
        "##### 2. What is/are the insight(s) found from the chart?"
      ]
    },
    {
      "cell_type": "markdown",
      "metadata": {
        "id": "bfSqtnDqZNRR"
      },
      "source": [
        "- `adr` seems to be positively correlated with children,adults,total_of_special_requests,is_cancelled\n",
        "- `lead_time` seems to be positively correlated with stays_in_weeknd_nights,stays_in_week_nights \n",
        "- `is_repeated_guest` seems to be negatively correlated with adr, is_cancelled,lead_time\n",
        "-is cancelled seems to be positively correlated with lead_time and adr also negatively correlaed with total_of_special_requests\n",
        "Answer Here"
      ]
    },
    {
      "cell_type": "markdown",
      "metadata": {
        "id": "JcMwzZxoAimU"
      },
      "source": [
        "## **5. Solution to Business Objective**"
      ]
    },
    {
      "cell_type": "markdown",
      "metadata": {
        "id": "8G2x9gOozGDZ"
      },
      "source": [
        "#### What do you suggest the client to achieve Business Objective ? \n",
        "- The Booking patterns consistently peak in July and August, increase staffing and inventory during these months to accommodate the increased demand.\n",
        "- Optimize pricing and availability of room types based on customer preferences. Since room type A is the most preferred, ensure that it is available during peak booking months and adjust pricing accordingly\n",
        "- Improve the online booking process and increase customer satisfaction by addressing the high cancellation rates for online bookings.\n",
        "- Since breakfast in bed is the most popular meal,consider offering it more often or as a package deal to increase revenue and customer satisfaction.\n",
        "- negative correlation between ADR and stay duration suggests that customers staying for shorter periods generate more ADR. This information can inform the company to focus on attracting more of these customers to increase revenue.\n",
        "- The information on the average stay duration being relatively higher for the months June to September can help the hotel management to better allocate resources to meet customer needs during these periods.\n",
        "- To reduce the cancellation rates, the management could encourage customers who are making a deposit by providing additional offers and reduced rates.\n",
        "- Overall, these insights can help hotel management to make strategic decisions such as adjusting room prices, allocating enough resources, and directing marketing efforts towards online mediums to optimize revenue during high-demand periods."
      ]
    },
    {
      "cell_type": "markdown",
      "metadata": {
        "id": "gCX9965dhzqZ"
      },
      "source": [
        "# **Conclusion**"
      ]
    },
    {
      "cell_type": "markdown",
      "metadata": {
        "id": "Fjb1IsQkh3yE"
      },
      "source": [
        "In summary, the hotel booking data can be used to gain insights into booking patterns and customer behavior, which can inform strategies for increasing occupancy, revenue, and customer satisfaction. The hotel should focus on increasing staffing and inventory during peak booking months, offering popular amenities and services, building relationships with online travel agents, increasing the availability of room type A, encouraging deposites during booking, reducing the cancellation rate by addressing the room availability issue. By implementing these strategies, the hotel management will be able to achieve their business objectives."
      ]
    },
    {
      "cell_type": "markdown",
      "metadata": {
        "id": "4S1X0D-lxtyd"
      },
      "source": [
        "# **Scope**"
      ]
    },
    {
      "cell_type": "markdown",
      "metadata": {
        "id": "hQmFXc26xtyd"
      },
      "source": [
        "Further analysis needs to be carried out to improve customer satisfaction by incorporating customer feedback in the dataset\\\n",
        "With the available data a machine learning model can be created to predict room cancellations or booking trends "
      ]
    },
    {
      "cell_type": "markdown",
      "metadata": {
        "id": "FgFillB7xtye"
      },
      "source": [
        "### References\n",
        "1. [Almabetter - Full Stack Data Science](https://grow.almabetter.com/data-science/learn/full-stack-data-science)\n",
        "2. [Codebasics - Pandas Tutorial (Data Analysis In Python) ](https://youtu.be/CmorAWRsCAw)\n",
        "3. [Udacity - Intro to Data Analysis](https://www.udacity.com/course/intro-to-data-analysis--ud170)\n"
      ]
    }
  ],
  "metadata": {
    "colab": {
      "collapsed_sections": [
        "vncDsAP0Gaoa",
        "FJNUwmbgGyua",
        "w6K7xa23Elo4",
        "yQaldy8SH6Dl",
        "PH-0ReGfmX4f",
        "mDgbUHAGgjLW",
        "HhfV-JJviCcP",
        "Y3lxredqlCYt",
        "3RnN4peoiCZX",
        "x71ZqKXriCWQ",
        "7hBIi_osiCS2",
        "JlHwYmJAmNHm",
        "XfoqwwyWezJ9",
        "Dm2BBo8kfATh",
        "nA9Y7ga8ng1Z",
        "PBTbrJXOngz2",
        "bKJF3rekwFvQ",
        "MSa1f5Uengrz",
        "GF8Ens_Soomf",
        "OopIPJDl5Cv9",
        "BvQ2HUDAtFIB",
        "GKriEuS8p3OG",
        "K5QZ13OEpz2H",
        "lQ7QKXXCp7Bj",
        "448CDAPjqfQr",
        "ijmpgYnKYklI",
        "-JiQyfWJYklI",
        "EM7whBJCYoAo",
        "fge-S5ZAYoAp",
        "85gYPyotYoAp",
        "RoGjAbkUYoAp",
        "OTk1Xle6dwKq",
        "OH-pJp9IphqM",
        "bbFf2-_FphqN",
        "_ouA3fa0phqN",
        "Seke61FWphqN",
        "4Of9eVA-YrdM",
        "PIIx-8_IphqN",
        "t27r6nlMphqO",
        "b0JNsNcRphqO",
        "QHF8YVU7Yuh3",
        "GwzvFGzlYuh3",
        "qYpmQ266Yuh3",
        "BZR9WyysphqO",
        "jj7wYXLtphqO",
        "eZrbJ2SmphqO",
        "rFu4xreNphqO",
        "YJ55k-q6phqO",
        "gCFgpxoyphqP",
        "OVtJsKN_phqQ",
        "lssrdh5qphqQ",
        "U2RJ9gkRphqQ",
        "1M8mcRywphqQ",
        "tgIPom80phqQ",
        "JMzcOPDDphqR",
        "d5dP_MazeSQ1",
        "x-EpHcCOp1ci",
        "X_VqEhTip1ck",
        "8zGJKyg5p1ck",
        "PVzmfK_Ep1ck",
        "n3dbpmDWp1ck",
        "ylSl6qgtp1ck",
        "ZWILFDl5p1ck",
        "8cZljQNkfDg_",
        "Ag9LCva-p1cl",
        "E6MkPsBcp1cl",
        "2cELzS2fp1cl",
        "3MPXvC8up1cl",
        "q29F0dvdveiT",
        "EXh0U9oCveiU",
        "22aHeOlLveiV",
        "NC_X3p0fY2L0",
        "UV0SzAkaZNRQ",
        "YPEH6qLeZNRQ",
        "JcMwzZxoAimU",
        "8G2x9gOozGDZ",
        "gCX9965dhzqZ",
        "gIfDvo9L0UH2"
      ],
      "provenance": [],
      "include_colab_link": true
    },
    "gpuClass": "standard",
    "kernelspec": {
      "display_name": "base",
      "language": "python",
      "name": "python3"
    },
    "language_info": {
      "codemirror_mode": {
        "name": "ipython",
        "version": 3
      },
      "file_extension": ".py",
      "mimetype": "text/x-python",
      "name": "python",
      "nbconvert_exporter": "python",
      "pygments_lexer": "ipython3",
      "version": "3.9.12"
    },
    "vscode": {
      "interpreter": {
        "hash": "bc5e3d71c73c53915ba3d4864202c39218cb4f283d06eb5b18f9f43c20f46676"
      }
    }
  },
  "nbformat": 4,
  "nbformat_minor": 0
}